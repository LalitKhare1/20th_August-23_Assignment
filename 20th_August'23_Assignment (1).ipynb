{
 "cells": [
  {
   "cell_type": "markdown",
   "id": "1c595406-f850-42f1-a436-eacbf1cc6706",
   "metadata": {},
   "source": [
    "# TOPIC: String Based Assignment Problem"
   ]
  },
  {
   "cell_type": "markdown",
   "id": "3259207b-0ffe-4c9f-a4c4-9cd69bfef6a8",
   "metadata": {},
   "source": [
    "### 1. Write a program to reverse a string."
   ]
  },
  {
   "cell_type": "code",
   "execution_count": 1,
   "id": "8750ef47-a719-4820-8572-526e9deb1093",
   "metadata": {},
   "outputs": [
    {
     "name": "stdout",
     "output_type": "stream",
     "text": [
      "Reversed string is : tilaL\n"
     ]
    }
   ],
   "source": [
    "str1 = \"Lalit\"\n",
    "reversed_str1 = str1[::-1]\n",
    "print(\"Reversed string is :\",reversed_str1)"
   ]
  },
  {
   "cell_type": "markdown",
   "id": "f812a0a0-c190-466a-b523-c8b721f3572e",
   "metadata": {},
   "source": [
    "### 2. Check if a string is a palindrome."
   ]
  },
  {
   "cell_type": "code",
   "execution_count": 6,
   "id": "7d7c76ed-90a1-4543-8574-86ea7a84b336",
   "metadata": {},
   "outputs": [
    {
     "name": "stdout",
     "output_type": "stream",
     "text": [
      "String is palindrome.\n"
     ]
    }
   ],
   "source": [
    "str2 = \"naman\"\n",
    "reversed_str2 = str2[::-1]\n",
    "\n",
    "if str2 == reversed_str2 :\n",
    "    print(\"String is palindrome.\")\n",
    "else :\n",
    "    print(\"String isn't palindrome.\")"
   ]
  },
  {
   "cell_type": "markdown",
   "id": "27377204-d17f-4840-85c8-7ddb3f309aa7",
   "metadata": {},
   "source": [
    "### 3. Convert a string to uppercase."
   ]
  },
  {
   "cell_type": "code",
   "execution_count": 6,
   "id": "ce793340-4841-45c3-bf51-d1711ca9126f",
   "metadata": {},
   "outputs": [
    {
     "name": "stdin",
     "output_type": "stream",
     "text": [
      "Enter your string : Lalit\n"
     ]
    },
    {
     "name": "stdout",
     "output_type": "stream",
     "text": [
      "Uppercase string is : LALIT\n"
     ]
    }
   ],
   "source": [
    "str3 = input(\"Enter your string :\").upper()\n",
    "print(\"Uppercase string is :\", str3)"
   ]
  },
  {
   "cell_type": "markdown",
   "id": "b815e17e-c0b8-4dd6-8dc5-5d681386a427",
   "metadata": {},
   "source": [
    "### 4. Convert a string to lowercase."
   ]
  },
  {
   "cell_type": "code",
   "execution_count": 8,
   "id": "d26efcd4-9f0f-4a80-9121-e80f37e6fb3e",
   "metadata": {},
   "outputs": [
    {
     "name": "stdin",
     "output_type": "stream",
     "text": [
      "Enter your string : LALIT\n"
     ]
    },
    {
     "name": "stdout",
     "output_type": "stream",
     "text": [
      "Lowercase string is : lalit\n"
     ]
    }
   ],
   "source": [
    "str4 = input(\"Enter your string :\").lower()\n",
    "print(\"Lowercase string is :\",str4)"
   ]
  },
  {
   "cell_type": "markdown",
   "id": "b4aa8f94-2c82-40b3-822c-868f2b0304a5",
   "metadata": {},
   "source": [
    "### 5. Count the number of vowels in a string"
   ]
  },
  {
   "cell_type": "code",
   "execution_count": 11,
   "id": "508f0a5c-2a1f-4daa-9e86-b439f57cd36b",
   "metadata": {},
   "outputs": [
    {
     "name": "stdin",
     "output_type": "stream",
     "text": [
      "Enter your string : My name is Lalit Khare\n"
     ]
    },
    {
     "name": "stdout",
     "output_type": "stream",
     "text": [
      "Total vowels in your string are : 7\n"
     ]
    }
   ],
   "source": [
    "str5 = input(\"Enter your string :\").lower()\n",
    "a = str5.count(\"a\")\n",
    "e = str5.count('e')\n",
    "i = str5.count('i')\n",
    "o = str5.count('o')\n",
    "u = str5.count('u')\n",
    "\n",
    "vowels = a+e+i+o+u\n",
    "\n",
    "print(\"Total vowels in your string are :\", vowels)"
   ]
  },
  {
   "cell_type": "markdown",
   "id": "47d26970-8a29-4db4-99e3-f269737a8261",
   "metadata": {},
   "source": [
    "### 6. Count the number of consonants in a string."
   ]
  },
  {
   "cell_type": "code",
   "execution_count": 12,
   "id": "227b1077-a02a-4d24-940a-cbdf371d6818",
   "metadata": {},
   "outputs": [
    {
     "name": "stdin",
     "output_type": "stream",
     "text": [
      "Enter your strig : Be a good person\n"
     ]
    },
    {
     "name": "stdout",
     "output_type": "stream",
     "text": [
      "Total consonants in your string are : 7\n"
     ]
    }
   ],
   "source": [
    "str6 = input(\"Enter your strig :\").lower()\n",
    "\n",
    "a = str6.count(\"a\")\n",
    "e = str6.count(\"e\")\n",
    "i = str6.count(\"i\")\n",
    "o = str6.count(\"o\")\n",
    "u = str6.count(\"u\")\n",
    "\n",
    "vowels = a+e+i+o+u\n",
    "length = len(str6.replace(\" \",\"\"))\n",
    "consonants = length - vowels\n",
    "\n",
    "print(\"Total consonants in your string are :\",consonants)"
   ]
  },
  {
   "cell_type": "markdown",
   "id": "f2e5dc73-2ee2-4f3f-a5a4-d48c3214bb6f",
   "metadata": {},
   "source": [
    "### 7. Remove all whitespaces from a string."
   ]
  },
  {
   "cell_type": "code",
   "execution_count": 14,
   "id": "d70793b5-73d5-4eae-bd5d-bfa3b99db9b0",
   "metadata": {},
   "outputs": [
    {
     "name": "stdin",
     "output_type": "stream",
     "text": [
      "Enter your string : Songs are the best medicine\n"
     ]
    },
    {
     "name": "stdout",
     "output_type": "stream",
     "text": [
      "String without whitespaces is : Songsarethebestmedicine\n"
     ]
    }
   ],
   "source": [
    "str7 = input(\"Enter your string :\").replace(\" \",\"\")\n",
    "print(\"String without whitespaces is :\",str7)"
   ]
  },
  {
   "cell_type": "markdown",
   "id": "fe2ff9df-b610-4e9f-bdbd-b99f56bb384e",
   "metadata": {},
   "source": [
    "### 8. Find the length of a string without using the `len()` function."
   ]
  },
  {
   "cell_type": "code",
   "execution_count": 16,
   "id": "510200e2-11db-4e08-8251-a8c7caa8e02d",
   "metadata": {},
   "outputs": [
    {
     "name": "stdin",
     "output_type": "stream",
     "text": [
      "Enter your string : AI is going to be a challange\n"
     ]
    },
    {
     "name": "stdout",
     "output_type": "stream",
     "text": [
      "Length of the string is : 29\n"
     ]
    }
   ],
   "source": [
    "str8 = input(\"Enter your string :\")\n",
    "length =0\n",
    "\n",
    "for i in str8 :\n",
    "    length = length+1\n",
    "    \n",
    "print(\"Length of the string is :\",length)    "
   ]
  },
  {
   "cell_type": "markdown",
   "id": "9f956817-dc36-4448-bf9a-896979e8ef44",
   "metadata": {},
   "source": [
    "### 9. Check if a string contains a specific word"
   ]
  },
  {
   "cell_type": "code",
   "execution_count": 20,
   "id": "b10a6c1d-6366-405c-a655-603449bd971b",
   "metadata": {},
   "outputs": [
    {
     "name": "stdin",
     "output_type": "stream",
     "text": [
      "Enter your string : lalit khare\n",
      "Enter which word you wanna check : a\n"
     ]
    },
    {
     "name": "stdout",
     "output_type": "stream",
     "text": [
      "Your word a is available in string.\n"
     ]
    }
   ],
   "source": [
    "str9 = input(\"Enter your string :\").lower()\n",
    "word = input(\"Enter which word you wanna check :\")\n",
    "\n",
    "if str9.find(word) != -1 :\n",
    "    print(\"Your word\",word,\"is available in string.\")\n",
    "    \n",
    "else :    \n",
    "    print(\"Your word\",word,\"isn't available in string.\")"
   ]
  },
  {
   "cell_type": "markdown",
   "id": "409b3246-1ad3-4d60-82da-cd9970a0d487",
   "metadata": {},
   "source": [
    "### 10. Replace a word in a string with another word."
   ]
  },
  {
   "cell_type": "code",
   "execution_count": 31,
   "id": "a0b897e4-239a-4095-906a-827b04881edf",
   "metadata": {},
   "outputs": [
    {
     "name": "stdout",
     "output_type": "stream",
     "text": [
      "sasit\n"
     ]
    }
   ],
   "source": [
    "str10 = \"lalit\"\n",
    "print(str10.replace(\"l\",\"s\"))"
   ]
  },
  {
   "cell_type": "markdown",
   "id": "7276d2fc-c4c9-4d2c-9429-abea0267b550",
   "metadata": {},
   "source": [
    "### 11. Count the occurrences of a word in a string."
   ]
  },
  {
   "cell_type": "code",
   "execution_count": 32,
   "id": "324fbe1e-0865-46da-a46c-8c91961121f8",
   "metadata": {},
   "outputs": [
    {
     "name": "stdin",
     "output_type": "stream",
     "text": [
      "Enter your string : OM NAMAH SHIVAY \n",
      "Enter the word for which you wanna count the ocurences : a\n"
     ]
    },
    {
     "name": "stdout",
     "output_type": "stream",
     "text": [
      "Total occurences of the word a are : 3\n"
     ]
    }
   ],
   "source": [
    "str11 = input(\"Enter your string :\").lower()\n",
    "word = input(\"Enter the word for which you wanna count the ocurences :\")\n",
    "count = str11.count(word)\n",
    "print(\"Total occurences of the word\",word, \"are :\",count)"
   ]
  },
  {
   "cell_type": "markdown",
   "id": "5b520e6b-857a-45d9-a691-3547358ca4a5",
   "metadata": {},
   "source": [
    "### 12. Find the first occurrence of a word in a string."
   ]
  },
  {
   "cell_type": "code",
   "execution_count": 38,
   "id": "235f6274-4b96-4029-a8f7-bfba2583c60f",
   "metadata": {},
   "outputs": [
    {
     "name": "stdin",
     "output_type": "stream",
     "text": [
      "Enter your string : good morning\n",
      "Enter the the word for which you wanna check occurence : m\n"
     ]
    },
    {
     "name": "stdout",
     "output_type": "stream",
     "text": [
      "First occurence of your entered word in string is at 6 position.\n"
     ]
    }
   ],
   "source": [
    "str12 = input(\"Enter your string :\").lower()\n",
    "word = input(\"Enter the the word for which you wanna check occurence :\").lower()\n",
    "ind_value = str12.find(word)\n",
    "\n",
    "if ind_value != -1 :\n",
    "    print(\"First occurence of your entered word in string is at\",ind_value+1,\"position.\")\n",
    "    \n",
    "else :    \n",
    "    print(\"The word you entered isn't available in string.\")"
   ]
  },
  {
   "cell_type": "markdown",
   "id": "8126f6ec-5333-4838-b6c2-7c3fa03f15da",
   "metadata": {},
   "source": [
    "### 13. Find the last occurrence of a word in a string."
   ]
  },
  {
   "cell_type": "code",
   "execution_count": 3,
   "id": "d61b7f1c-13ca-4373-94f5-a847a1670c48",
   "metadata": {},
   "outputs": [
    {
     "name": "stdin",
     "output_type": "stream",
     "text": [
      "Enter your string : John bnega Don.\n",
      "Enter the word for which you wanna check last occurence : a\n"
     ]
    },
    {
     "name": "stdout",
     "output_type": "stream",
     "text": [
      "Last occurence of your word is at : 10 position.\n"
     ]
    }
   ],
   "source": [
    "str13 = input(\"Enter your string :\").lower()\n",
    "word2 = input(\"Enter the word for which you wanna check last occurence :\").lower()\n",
    "ind_value2 = str13.rfind(word2)\n",
    "\n",
    "if ind_value2 != -1 :\n",
    "    print(\"Last occurence of your word is at :\",ind_value2+1,\"position.\")\n",
    "    \n",
    "else :\n",
    "    print(\"Your word isn't available in the string.\")"
   ]
  },
  {
   "cell_type": "markdown",
   "id": "edc4aed6-7ea8-4a6b-8188-796f9fdefc46",
   "metadata": {},
   "source": [
    "### 14. Split a string into a list of words."
   ]
  },
  {
   "cell_type": "code",
   "execution_count": 5,
   "id": "9b2c7dda-f2f7-41c3-ac53-df7129b2833f",
   "metadata": {},
   "outputs": [
    {
     "name": "stdin",
     "output_type": "stream",
     "text": [
      "Enter your string : DR Jhatka\n"
     ]
    },
    {
     "name": "stdout",
     "output_type": "stream",
     "text": [
      "List of spilitted string is ['D', 'R', 'J', 'h', 'a', 't', 'k', 'a']\n"
     ]
    }
   ],
   "source": [
    "str14 = input(\"Enter your string :\").replace(\" \",\"\")\n",
    "print(\"List of spilitted string is\", list(str14))"
   ]
  },
  {
   "cell_type": "markdown",
   "id": "141eb244-aa28-4457-a5af-711c46689081",
   "metadata": {},
   "source": [
    "### 15. Join a list of words into a string."
   ]
  },
  {
   "cell_type": "code",
   "execution_count": 12,
   "id": "9b9c82e9-6ac4-4749-9ee0-69cb1ded5ce3",
   "metadata": {},
   "outputs": [
    {
     "name": "stdout",
     "output_type": "stream",
     "text": [
      "String for the list is : ThenameisinspectorChingum\n"
     ]
    }
   ],
   "source": [
    "list1 = ['T','h','e','n','a','m','e','i','s','i','n','s','p','e','c','t','o','r','C','h','i','n','g','u','m']\n",
    "j = 0\n",
    "str15 = ''\n",
    "for i in list1 :\n",
    "    str15 +=list1[j]\n",
    "    j+=1\n",
    "print(\"String for the list is :\", str15)    "
   ]
  },
  {
   "cell_type": "markdown",
   "id": "43c5397b-054a-41bd-9e03-141eb3d7a7f6",
   "metadata": {},
   "source": [
    "### '''16. Convert a string where words are separated by spaces to one where words\n",
    "are separated by underscores.'''\n"
   ]
  },
  {
   "cell_type": "code",
   "execution_count": 14,
   "id": "8ca5970a-f8d7-4630-8977-981c86925820",
   "metadata": {},
   "outputs": [
    {
     "name": "stdin",
     "output_type": "stream",
     "text": [
      "Enter your string : Khali pet mere dimaag ki batti nahi jalti.\n"
     ]
    },
    {
     "name": "stdout",
     "output_type": "stream",
     "text": [
      "String in which words are seperated by underscore is : Khali_pet_mere_dimaag_ki_batti_nahi_jalti.\n"
     ]
    }
   ],
   "source": [
    "str16 = input(\"Enter your string :\").replace(\" \",\"_\")\n",
    "print(\"String in which words are seperated by underscore is :\",str16)"
   ]
  },
  {
   "cell_type": "markdown",
   "id": "b528aa1e-bf00-4eba-8f17-6c83be949d68",
   "metadata": {},
   "source": [
    "### 17. Check if a string starts with a specific word or phrase"
   ]
  },
  {
   "cell_type": "code",
   "execution_count": 19,
   "id": "33a8fd0b-0074-4e1b-830f-9536a2c35c12",
   "metadata": {},
   "outputs": [
    {
     "name": "stdin",
     "output_type": "stream",
     "text": [
      "Enter your string : kasam mere mareejo ki\n",
      "Enter the word or phrase you wanna check for the string : mareej\n"
     ]
    },
    {
     "name": "stdout",
     "output_type": "stream",
     "text": [
      "No, String doesn't start with yoyr given word/phrase.\n"
     ]
    }
   ],
   "source": [
    "str17 = input(\"Enter your string :\").lower()\n",
    "word_or_phrase = input(\"Enter the word or phrase you wanna check for the string :\").lower()\n",
    "\n",
    "if str17.startswith(word_or_phrase) == True :\n",
    "    print(\"Yes, this string starts with your given word/phrase.\")\n",
    "    \n",
    "else :    \n",
    "    print(\"No, String doesn't start with your given word/phrase.\")"
   ]
  },
  {
   "cell_type": "markdown",
   "id": "5c8762cf-5222-4272-88fa-ff8602eab6d8",
   "metadata": {},
   "source": [
    "### 18. Check if a string ends with a specific word or phrase."
   ]
  },
  {
   "cell_type": "code",
   "execution_count": 21,
   "id": "ccb37244-56fb-4d32-b51a-e3abe61ea5ff",
   "metadata": {},
   "outputs": [
    {
     "name": "stdin",
     "output_type": "stream",
     "text": [
      "Enter your string : mera 20 saal ka tojurba hai\n",
      "Enter the word or phrase you wanna check for the string : hai\n"
     ]
    },
    {
     "name": "stdout",
     "output_type": "stream",
     "text": [
      "Yes, this string ends with your given word/phrase.\n"
     ]
    }
   ],
   "source": [
    "str18 = input(\"Enter your string :\").lower()\n",
    "word_or_phrase = input(\"Enter the word or phrase you wanna check for the string :\").lower()\n",
    "\n",
    "if str18.endswith(word_or_phrase) == True :\n",
    "    print(\"Yes, this string ends with your given word/phrase.\")\n",
    "    \n",
    "else :    \n",
    "    print(\"No, String doesn't end with your given word/phrase.\")"
   ]
  },
  {
   "cell_type": "markdown",
   "id": "a7da2c39-058e-49fe-ac00-f8f196f172cf",
   "metadata": {},
   "source": [
    "### 19. Convert a string to title case (e.g., \"hello world\" to \"Hello World\")"
   ]
  },
  {
   "cell_type": "code",
   "execution_count": 24,
   "id": "a0042e64-6ec6-49c3-a169-380cbffd7f9d",
   "metadata": {},
   "outputs": [
    {
     "name": "stdin",
     "output_type": "stream",
     "text": [
      "Enter yout string : ai & robotics\n"
     ]
    },
    {
     "name": "stdout",
     "output_type": "stream",
     "text": [
      "Title for your string is : Ai & Robotics\n"
     ]
    }
   ],
   "source": [
    "str19 = input(\"Enter yout string :\")\n",
    "print(\"Title for your string is :\",str19.title())"
   ]
  },
  {
   "cell_type": "markdown",
   "id": "e43e769a-13f4-41be-98cf-31fbbcff8c6c",
   "metadata": {},
   "source": [
    "### 20. Find the longest word in a string."
   ]
  },
  {
   "cell_type": "code",
   "execution_count": 27,
   "id": "e33cf770-e8e5-4080-baf7-ab31196bdca6",
   "metadata": {},
   "outputs": [
    {
     "name": "stdin",
     "output_type": "stream",
     "text": [
      "Enter your string : rahat fateh ali khan\n"
     ]
    },
    {
     "name": "stdout",
     "output_type": "stream",
     "text": [
      "Lonngest word in the string is : rahat\n"
     ]
    }
   ],
   "source": [
    "list3 = input(\"Enter your string :\").split()\n",
    "longest_word = max(list3, key=len)\n",
    "print(\"Lonngest word in the string is :\",longest_word)"
   ]
  },
  {
   "cell_type": "markdown",
   "id": "1ae36f68-0c64-4150-a7e8-78b6d124405c",
   "metadata": {},
   "source": [
    "### 21. Find the shortest word in a string."
   ]
  },
  {
   "cell_type": "code",
   "execution_count": 2,
   "id": "3559df98-136f-4c46-9761-3495ba5352e5",
   "metadata": {},
   "outputs": [
    {
     "name": "stdin",
     "output_type": "stream",
     "text": [
      "Enter your string : this is the college\n"
     ]
    },
    {
     "name": "stdout",
     "output_type": "stream",
     "text": [
      "The shortest word in the string is : is\n"
     ]
    }
   ],
   "source": [
    "list4 = input(\"Enter your string :\").split()\n",
    "shortest_word = min(list4, key = len)\n",
    "print(\"The shortest word in the string is :\", shortest_word)"
   ]
  },
  {
   "cell_type": "markdown",
   "id": "c004d0f1-21a0-4c67-bc7c-67c9d4d76a61",
   "metadata": {},
   "source": [
    "### 22. Reverse the order of words in a string"
   ]
  },
  {
   "cell_type": "code",
   "execution_count": 15,
   "id": "4a861bbe-2b19-425d-82a1-ecfb16f8dad2",
   "metadata": {},
   "outputs": [
    {
     "name": "stdin",
     "output_type": "stream",
     "text": [
      "Enter the string : what is this\n"
     ]
    },
    {
     "name": "stdout",
     "output_type": "stream",
     "text": [
      "Reversed string is : this is what \n"
     ]
    }
   ],
   "source": [
    "list5 = input(\"Enter the string :\").split()\n",
    "j = -1\n",
    "reversed_str7 = \"\"\n",
    "for i in range(0,len(list5)) :\n",
    "    reversed_str7 += list5[j] + \" \"\n",
    "    j-=1\n",
    "    \n",
    "print(\"Reversed string is :\",reversed_str7)    "
   ]
  },
  {
   "cell_type": "markdown",
   "id": "7b2fdd5a-8429-469c-9061-d52f72327f48",
   "metadata": {},
   "source": [
    "### 23. Check if a string is alphanumeric."
   ]
  },
  {
   "cell_type": "code",
   "execution_count": 21,
   "id": "2e700285-3090-494c-ae5e-9c4f60ac00c5",
   "metadata": {},
   "outputs": [
    {
     "name": "stdin",
     "output_type": "stream",
     "text": [
      "Enter your string : h5\n"
     ]
    },
    {
     "name": "stdout",
     "output_type": "stream",
     "text": [
      "String is alphanumeric.\n"
     ]
    }
   ],
   "source": [
    "str20 = input(\"Enter your string :\")\n",
    "\n",
    "if str20.isalnum() == True :\n",
    "    print(\"String is alphanumeric.\")\n",
    "    \n",
    "else :    \n",
    "    print(\"String isn't alphanumeric.\")"
   ]
  },
  {
   "cell_type": "markdown",
   "id": "9ae955f0-67d0-4a44-9d84-cc4eee05239f",
   "metadata": {},
   "source": [
    "### 24. Extract all digits from a string."
   ]
  },
  {
   "cell_type": "code",
   "execution_count": 65,
   "id": "5dca06ff-f3f8-47e6-a890-28f58384ff99",
   "metadata": {},
   "outputs": [
    {
     "name": "stdin",
     "output_type": "stream",
     "text": [
      "Enter your string : today is 26th november 2023\n"
     ]
    },
    {
     "name": "stdout",
     "output_type": "stream",
     "text": [
      "All the digits in your string are : ['2', '6', '2', '0', '2', '3']\n"
     ]
    }
   ],
   "source": [
    "str21 = input(\"Enter your string :\")\n",
    "list6 = []\n",
    "\n",
    "for i in str21 :\n",
    "    if i.isdigit() :\n",
    "        list6 += i\n",
    "        \n",
    "print(\"All the digits in your string are :\", list6)       "
   ]
  },
  {
   "cell_type": "markdown",
   "id": "e841412e-4716-43a5-aa0a-eac502d6b620",
   "metadata": {},
   "source": [
    "### 25. Extract all alphabets from a string."
   ]
  },
  {
   "cell_type": "code",
   "execution_count": 67,
   "id": "5656801b-9650-42a8-a171-69b63b0468a5",
   "metadata": {},
   "outputs": [
    {
     "name": "stdin",
     "output_type": "stream",
     "text": [
      "Enter your string : yesterday was 25th november 2023\n"
     ]
    },
    {
     "name": "stdout",
     "output_type": "stream",
     "text": [
      "All the alphabates in your string are : ['y', 'e', 's', 't', 'e', 'r', 'd', 'a', 'y', 'w', 'a', 's', 't', 'h', 'n', 'o', 'v', 'e', 'm', 'b', 'e', 'r']\n"
     ]
    }
   ],
   "source": [
    "str22 = input(\"Enter your string :\")\n",
    "list7 = []\n",
    "\n",
    "for i in str22 :\n",
    "    if i.isalpha() :\n",
    "        list7 += i\n",
    "        \n",
    "print(\"All the alphabates in your string are :\", list7)        "
   ]
  },
  {
   "cell_type": "markdown",
   "id": "d412b569-6ff1-4038-b1a1-67f63020ee8e",
   "metadata": {},
   "source": [
    "### 26. Count the number of uppercase letters in a string."
   ]
  },
  {
   "cell_type": "code",
   "execution_count": 69,
   "id": "9d9d11b2-ce9f-489e-88f5-eab3bdc1a3e6",
   "metadata": {},
   "outputs": [
    {
     "name": "stdin",
     "output_type": "stream",
     "text": [
      "Enter your string : Chota Bheem\n"
     ]
    },
    {
     "name": "stdout",
     "output_type": "stream",
     "text": [
      "Total Uppercase letter in your string are : 2\n"
     ]
    }
   ],
   "source": [
    "str23 = input(\"Enter your string :\")\n",
    "uppercase_letter = 0\n",
    "\n",
    "for i in str23 :\n",
    "    if i.isupper() :\n",
    "        uppercase_letter += 1\n",
    "print(\"Total Uppercase letter in your string are :\", uppercase_letter)    "
   ]
  },
  {
   "cell_type": "markdown",
   "id": "c4c86b10-1ed3-4a57-bf59-89803fad430f",
   "metadata": {},
   "source": [
    "### 27. Count the number of lowercase letters in a string."
   ]
  },
  {
   "cell_type": "code",
   "execution_count": 72,
   "id": "23630c77-5a47-4ef4-b6bc-09cb8764a7f5",
   "metadata": {},
   "outputs": [
    {
     "name": "stdin",
     "output_type": "stream",
     "text": [
      "Enter your string : My Name is Hero\n"
     ]
    },
    {
     "name": "stdout",
     "output_type": "stream",
     "text": [
      "Total Lowercase letters in your string are : 9\n"
     ]
    }
   ],
   "source": [
    "str24 = input(\"Enter your string :\")\n",
    "lowercase_letter = 0\n",
    "\n",
    "for i in str24 :\n",
    "    if i.islower() :\n",
    "        lowercase_letter += 1\n",
    "    \n",
    "print(\"Total Lowercase letters in your string are :\", lowercase_letter)"
   ]
  },
  {
   "cell_type": "markdown",
   "id": "04e6b8f2-0821-45d1-bc8f-8f201380e4a1",
   "metadata": {},
   "source": [
    "### 28. Swap the case of each character in a string."
   ]
  },
  {
   "cell_type": "code",
   "execution_count": 74,
   "id": "19d909be-46bc-423c-91f3-c16a870f2980",
   "metadata": {},
   "outputs": [
    {
     "name": "stdin",
     "output_type": "stream",
     "text": [
      "Enter your string : The name is Inspector Chingum\n"
     ]
    },
    {
     "name": "stdout",
     "output_type": "stream",
     "text": [
      "Changed character case string is : tHE NAME IS iNSPECTOR cHINGUM\n"
     ]
    }
   ],
   "source": [
    "str25 = input(\"Enter your string :\").swapcase()\n",
    "print(\"Changed character case string is :\", str25)"
   ]
  },
  {
   "cell_type": "markdown",
   "id": "3c484b99-9542-4f26-9fa9-a9fbc6a2d5b8",
   "metadata": {},
   "source": [
    "### 29. Remove a specific word from a string."
   ]
  },
  {
   "cell_type": "code",
   "execution_count": 85,
   "id": "c9dabd1a-56d9-4713-8174-12fb8ac842d0",
   "metadata": {},
   "outputs": [
    {
     "name": "stdin",
     "output_type": "stream",
     "text": [
      "Enter your string : Me hu doreamon\n",
      "Enter the word which you wanna remove from your string : m\n"
     ]
    },
    {
     "name": "stdout",
     "output_type": "stream",
     "text": [
      "String with removed word is : e hu doreaon\n"
     ]
    }
   ],
   "source": [
    "str26 = input(\"Enter your string :\")\n",
    "word = input(\"Enter the word which you wanna remove from your string :\")\n",
    "\n",
    "str27 = str26.replace(word.lower(),'')\n",
    "str28 = str27.replace(word.upper(),'')\n",
    "print(\"String with removed word is :\", str28)"
   ]
  },
  {
   "cell_type": "markdown",
   "id": "408b3c23-d23b-439c-b317-e673eb5b2e66",
   "metadata": {},
   "source": [
    "### 30. Check if a string is a valid email address."
   ]
  },
  {
   "cell_type": "code",
   "execution_count": 56,
   "id": "12ca926f-6cd0-4748-95e5-bd4d3b25bc35",
   "metadata": {},
   "outputs": [
    {
     "name": "stdin",
     "output_type": "stream",
     "text": [
      "Enter your email : example@123.in\n"
     ]
    },
    {
     "name": "stdout",
     "output_type": "stream",
     "text": [
      "Email is valid.\n"
     ]
    }
   ],
   "source": [
    "email = input(\"Enter your email :\")\n",
    "a,b,c,d,e = 0,0,0,0,0\n",
    "\n",
    "if len(email) >= 6 :\n",
    "    if email[0].isalpha() :\n",
    "        if (\"@\" in email) and (email.count(\"@\") == 1) :\n",
    "            if (email[-3] == \".\") ^ (email[-4] == \".\") :\n",
    "                for i in email :\n",
    "                    if i.isspace() :\n",
    "                        print(\"Wrong Email, Email can't have space.\")\n",
    "                    elif i.isalpha() :\n",
    "                        a = 1\n",
    "                        if i == i.upper() :\n",
    "                            print(\"Wrong Email, all the alphabtates in Email should be in lowercase.\")\n",
    "                    elif i == \"_\" or i == \".\" :\n",
    "                        b = 1\n",
    "                        if (\"_\" in email) and (\".\" in email) :\n",
    "                            if (email.index(\"_\") == email.index(\".\") +1) or (email.index(\"_\") == email.index(\".\") -1) :\n",
    "                                e = 1  \n",
    "                    elif i == \"@\" or i.isdigit() :\n",
    "                        c = 1\n",
    "                    else :\n",
    "                        d = 1\n",
    "                if d == 1 :\n",
    "                        print(\"Wrong Email, Email can't have special characters like #,$,% etc.\")\n",
    "                elif e == 1 :\n",
    "                    print(\"Wrong Email, Email can't have '.' & '_' together.\")\n",
    "                elif d == 0 :\n",
    "                        print(\"Email is valid.\")\n",
    "            else :\n",
    "                print('''Wrong Email, if you are cerating example@ex.in type email, then '.' should be at 3rd last position\n",
    "                or you are creating example@gmail.com, then '.' should be at 4th last position.''')\n",
    "        else :\n",
    "            print(\"Wrong Email, Email should've '@' atleast & only one time.\")\n",
    "    else :\n",
    "        print(\"Wromg Email, Email should start with an alphabate.\")\n",
    "else :\n",
    "    print(\"Wrong Email, Email should've atleast 6 characters.\")"
   ]
  },
  {
   "cell_type": "markdown",
   "id": "829d5133-7922-473f-adc3-c4454ff52f75",
   "metadata": {},
   "source": [
    "### 31. Extract the username from an email address string."
   ]
  },
  {
   "cell_type": "code",
   "execution_count": 59,
   "id": "e391e35a-5592-4402-9301-cc89aebac60e",
   "metadata": {},
   "outputs": [
    {
     "name": "stdin",
     "output_type": "stream",
     "text": [
      "Enter your valid Email address : user12@gmail.com\n"
     ]
    },
    {
     "name": "stdout",
     "output_type": "stream",
     "text": [
      "Username is : user12\n"
     ]
    }
   ],
   "source": [
    "email1 = input(\"Enter your valid Email address :\")\n",
    "username = \"\"\n",
    "for i in email1 :\n",
    "    if i.isalpha():\n",
    "        username += i\n",
    "    elif i.isdigit() :\n",
    "        username += i\n",
    "    elif i == \"@\" :\n",
    "        break\n",
    "print(\"Username is :\", username)"
   ]
  },
  {
   "cell_type": "markdown",
   "id": "5c5321e7-e1d3-43db-83b4-2a2a48c04bbc",
   "metadata": {},
   "source": [
    "### 32. Extract the domain name from an email address string."
   ]
  },
  {
   "cell_type": "code",
   "execution_count": 67,
   "id": "d5f4452b-01a4-49f2-864d-4cf01c445f69",
   "metadata": {},
   "outputs": [
    {
     "name": "stdin",
     "output_type": "stream",
     "text": [
      "Enter your valid Email : username@domain.com\n"
     ]
    },
    {
     "name": "stdout",
     "output_type": "stream",
     "text": [
      "Doamin is : domain\n"
     ]
    }
   ],
   "source": [
    "email2 = input(\"Enter your valid Email :\")\n",
    "domain = \"\"\n",
    "a = email2.index(\"@\")\n",
    "\n",
    "for i in range(a+1,len(email2)) :\n",
    "    if email2[i] == \".\" :\n",
    "        break\n",
    "    else :\n",
    "        domain += email2[i]\n",
    "print(\"Doamin is :\",domain)"
   ]
  },
  {
   "cell_type": "markdown",
   "id": "f056f9d8-4325-4bd0-b19e-806538c6877d",
   "metadata": {
    "tags": []
   },
   "source": [
    "### 34. Check if a string is a valid URL."
   ]
  },
  {
   "cell_type": "code",
   "execution_count": 16,
   "id": "e1107b0f-8115-44d6-92d1-35cfd8dcd98a",
   "metadata": {},
   "outputs": [
    {
     "name": "stdin",
     "output_type": "stream",
     "text": [
      "Enter the Url : https://www.geeksforgeeks.org\n"
     ]
    },
    {
     "name": "stdout",
     "output_type": "stream",
     "text": [
      "Url is Valid.\n"
     ]
    }
   ],
   "source": [
    "import re                   # we are uisng RegEx module for the validation of url \n",
    "\n",
    "url = input(\"Enter the Url :\")\n",
    "url_pattern = re.compile(r\"https?://\\w+\\.\\w+\")             # defining regular expression for valid url\n",
    "\n",
    "if re.match(url_pattern,url) :                          # validiating the url\n",
    "    print(\"Url is Valid.\")\n",
    "else :\n",
    "    print(\"Url is Invalid\")"
   ]
  },
  {
   "cell_type": "markdown",
   "id": "11697bab-b089-4a0d-9740-c73cda9a6548",
   "metadata": {},
   "source": [
    "### 35. Extract the protocol (http or https) from a URL string."
   ]
  },
  {
   "cell_type": "code",
   "execution_count": 1,
   "id": "76d58546-9985-4e8c-bc8a-ce3b5dc96c47",
   "metadata": {},
   "outputs": [
    {
     "name": "stdin",
     "output_type": "stream",
     "text": [
      "Enter the url : https://en.wikipedia.org/wiki/Internet#Terminology\n"
     ]
    },
    {
     "name": "stdout",
     "output_type": "stream",
     "text": [
      "https\n"
     ]
    }
   ],
   "source": [
    "url = input(\"Enter the url :\")\n",
    "\n",
    "if url[4] == 's' :\n",
    "    print('https')\n",
    "elif url[3] == 'p' :\n",
    "    print('http')"
   ]
  },
  {
   "cell_type": "markdown",
   "id": "3febcdd5-6dfe-4025-8a85-691939d3c8f5",
   "metadata": {},
   "source": [
    "### 33. Replace multiple spaces in a string with a single space"
   ]
  },
  {
   "cell_type": "code",
   "execution_count": 5,
   "id": "35da60f1-bdd4-465f-827a-5bcbf751ec5c",
   "metadata": {},
   "outputs": [
    {
     "name": "stdin",
     "output_type": "stream",
     "text": [
      "Enter your string : me      hu ninja       hathori\n"
     ]
    },
    {
     "name": "stdout",
     "output_type": "stream",
     "text": [
      "String with removed multiple spaces is : me hu ninja hathori\n"
     ]
    }
   ],
   "source": [
    "str29 = input(\"Enter your string :\")\n",
    "list8 = str29.split()\n",
    "str30 = \" \".join(list8)\n",
    "print(\"String with removed multiple spaces is :\",str30)"
   ]
  },
  {
   "cell_type": "markdown",
   "id": "b3741d27-547d-495d-83fc-f1c8b374e4c0",
   "metadata": {},
   "source": [
    "### 36. Find the frequency of each character in a string."
   ]
  },
  {
   "cell_type": "code",
   "execution_count": 11,
   "id": "fa3ff307-fd97-42b3-b360-88a236a79eaa",
   "metadata": {},
   "outputs": [
    {
     "name": "stdin",
     "output_type": "stream",
     "text": [
      "Enter your string : Lalit Khare\n"
     ]
    },
    {
     "name": "stdout",
     "output_type": "stream",
     "text": [
      "i in you string is 1 time(s).\n",
      "e in you string is 1 time(s).\n",
      "l in you string is 2 time(s).\n",
      "h in you string is 1 time(s).\n",
      "k in you string is 1 time(s).\n",
      "r in you string is 1 time(s).\n",
      "a in you string is 2 time(s).\n",
      "t in you string is 1 time(s).\n"
     ]
    }
   ],
   "source": [
    "str31 = input(\"Enter your string :\").lower()\n",
    "set1 = set(str31.replace(' ',''))\n",
    "for i in set1 :\n",
    "    count = str31.count(i)\n",
    "    print(i,\"in you string is\",count,\"time(s).\") "
   ]
  },
  {
   "cell_type": "markdown",
   "id": "6aef7be6-4ae1-455e-b584-0cd70d532d63",
   "metadata": {},
   "source": [
    "### 37. Remove all punctuation from a string."
   ]
  },
  {
   "cell_type": "code",
   "execution_count": 8,
   "id": "7f2e6ad2-3230-4e15-b0bc-e9b4d77ea471",
   "metadata": {},
   "outputs": [
    {
     "name": "stdin",
     "output_type": "stream",
     "text": [
      "Enter your string : Lalit, Khare\n"
     ]
    },
    {
     "name": "stdout",
     "output_type": "stream",
     "text": [
      "Your String without punctuation is : Lalit Khare\n"
     ]
    }
   ],
   "source": [
    "str32 = input(\"Enter your string :\")\n",
    "str33 ='''`~!@#$%^&*()_-{}[]:;\"'<>,.\\/|?'''\n",
    "\n",
    "for i in str33 :\n",
    "    if i in str32 :\n",
    "        str32 = str32.replace(i,\"\")\n",
    "        \n",
    "print(\"Your String without punctuation is :\", str32)"
   ]
  },
  {
   "cell_type": "markdown",
   "id": "fabf0fe1-af68-49b9-8c87-aafb87de1d16",
   "metadata": {},
   "source": [
    "### 38. Check if a string contains only digits."
   ]
  },
  {
   "cell_type": "code",
   "execution_count": 11,
   "id": "8db8597a-3039-4ba6-9a12-7e34b02282c0",
   "metadata": {},
   "outputs": [
    {
     "name": "stdin",
     "output_type": "stream",
     "text": [
      "Enter your string : Lalit\n"
     ]
    },
    {
     "name": "stdout",
     "output_type": "stream",
     "text": [
      "String contains alphabates only.\n"
     ]
    }
   ],
   "source": [
    "str34 = input(\"Enter your string :\")\n",
    "\n",
    "if str34.isnumeric() :\n",
    "    print(\"String only conatins digit.\")\n",
    "elif str34.isalpha() :\n",
    "    print(\"String contains alphabates only.\")\n",
    "else :\n",
    "    print(\"String contains alphabates & digits both.\")"
   ]
  },
  {
   "cell_type": "markdown",
   "id": "98fc4cf8-1e70-4ad6-a3a0-ffaed1291ea7",
   "metadata": {},
   "source": [
    "### 39. Check if a string contains only alphabets."
   ]
  },
  {
   "cell_type": "code",
   "execution_count": 12,
   "id": "d51f18b4-29ce-4f4f-830b-3a78a85755ae",
   "metadata": {},
   "outputs": [
    {
     "name": "stdin",
     "output_type": "stream",
     "text": [
      "Enter your string : 634pe\n"
     ]
    },
    {
     "name": "stdout",
     "output_type": "stream",
     "text": [
      "String contains alphabates & digits both.\n"
     ]
    }
   ],
   "source": [
    "str35 = input(\"Enter your string :\")\n",
    "\n",
    "if str35.isnumeric() :\n",
    "    print(\"String only conatins digit.\")\n",
    "elif str35.isalpha() :\n",
    "    print(\"String contains alphabates only.\")\n",
    "else :\n",
    "    print(\"String contains alphabates & digits both.\")"
   ]
  },
  {
   "cell_type": "markdown",
   "id": "3a3341ee-529a-4414-b23a-c730e1d3de00",
   "metadata": {},
   "source": [
    "### 40. Convert a string to a list of characters."
   ]
  },
  {
   "cell_type": "code",
   "execution_count": 13,
   "id": "46d1663e-36a0-4690-8e07-7f10e2d1edca",
   "metadata": {},
   "outputs": [
    {
     "name": "stdin",
     "output_type": "stream",
     "text": [
      "Enter your string : Raise your hands.\n"
     ]
    },
    {
     "name": "stdout",
     "output_type": "stream",
     "text": [
      "String converted into list is : ['R', 'a', 'i', 's', 'e', ' ', 'y', 'o', 'u', 'r', ' ', 'h', 'a', 'n', 'd', 's', '.']\n"
     ]
    }
   ],
   "source": [
    "list9 = list(input(\"Enter your string :\"))\n",
    "print(\"String converted into list is :\",list9)"
   ]
  },
  {
   "cell_type": "markdown",
   "id": "90fc3e1e-7fe5-431e-897a-4cfbbcb65e77",
   "metadata": {},
   "source": [
    "### 41. Check if two strings are anagrams."
   ]
  },
  {
   "cell_type": "code",
   "execution_count": 21,
   "id": "90da645a-84ad-45ed-ae19-db56264379d7",
   "metadata": {},
   "outputs": [
    {
     "name": "stdin",
     "output_type": "stream",
     "text": [
      "Enter 1st string : lalit\n",
      "Enter 2nd string : l@lit\n"
     ]
    },
    {
     "name": "stdout",
     "output_type": "stream",
     "text": [
      "Both strings aren't anagrams.\n"
     ]
    }
   ],
   "source": [
    "list10 = list(input(\"Enter 1st string :\").lower())\n",
    "list11 = list(input(\"Enter 2nd string :\").lower())\n",
    "\n",
    "if len(list10) == len(list11) :\n",
    "    set2 = set(list10)\n",
    "    set3 = set(list11)\n",
    "    \n",
    "    if set2 == set3 :\n",
    "        print(\"Both the strings are anagrams.\")\n",
    "    else :\n",
    "        print(\"Both strings aren't anagrams.\")\n",
    "\n",
    "else :\n",
    "    print(\"Both strings aren't anagrams.\")"
   ]
  },
  {
   "cell_type": "markdown",
   "id": "5191105b-7cb9-463f-8291-71da7fbe0b08",
   "metadata": {},
   "source": [
    "### 42. Encode a string using a Caesar cipher."
   ]
  },
  {
   "cell_type": "code",
   "execution_count": 13,
   "id": "d623e8b0-060e-4f50-a9e4-45efa3622878",
   "metadata": {},
   "outputs": [
    {
     "name": "stdin",
     "output_type": "stream",
     "text": [
      "Enter your message : Hello Brother\n",
      "Enter the Encryption Key : 3\n"
     ]
    },
    {
     "name": "stdout",
     "output_type": "stream",
     "text": [
      "Encoded Message is : Khoor Eurwkhu\n"
     ]
    }
   ],
   "source": [
    "plain_text = input(\"Enter your message :\").split()\n",
    "key = int(input(\"Enter the Encryption Key :\"))\n",
    "alphabates_list = ['a','b','c','d','e','f','g','h','i','j','k','l','m','n','o','p','q','r','s','t','u','v','w','x','y','z']\n",
    "\n",
    "for i in range(len(plain_text)) :\n",
    "    cipher_text = \"\"\n",
    "    word = plain_text[i]\n",
    "    for j in range(len(word)) :\n",
    "        character = word[j]\n",
    "        if character.isupper() :\n",
    "            character_index = alphabates_list.index(character.lower())\n",
    "            cipher_text += (alphabates_list[(character_index+key)%26]).upper()\n",
    "        else :\n",
    "            character_index = alphabates_list.index(character)\n",
    "            cipher_text += alphabates_list[(character_index+key)%26]\n",
    "    plain_text.remove(word)\n",
    "    plain_text.insert(i,cipher_text)\n",
    "    \n",
    "Encoded_str = \" \".join(plain_text)\n",
    "print(\"Encoded Message is :\",Encoded_str)"
   ]
  },
  {
   "cell_type": "markdown",
   "id": "6e47bec4-67bf-4b7b-ab83-4d837420434a",
   "metadata": {},
   "source": [
    "### 43. Decode a Caesar cipher encoded string."
   ]
  },
  {
   "cell_type": "code",
   "execution_count": 15,
   "id": "2b883ce0-e9c9-4cbb-a027-d2fb376df390",
   "metadata": {},
   "outputs": [
    {
     "name": "stdin",
     "output_type": "stream",
     "text": [
      "Enter the Cipher Text :\n",
      " Khoor Eurwkhu\n",
      "Enter the Decryption Key :\n",
      " 3\n"
     ]
    },
    {
     "name": "stdout",
     "output_type": "stream",
     "text": [
      "Decoded Message is : Hello Brother\n"
     ]
    }
   ],
   "source": [
    "cipher_text = input(\"Enter the Cipher Text :\\n\").split()\n",
    "key = int(input(\"Enter the Decryption Key :\\n\"))\n",
    "alphabates_list = list(\"abcdefghijklmnopqrstuvwxyz\")\n",
    "\n",
    "for i in range(len(cipher_text)) :\n",
    "    plain_text = \"\"\n",
    "    word = cipher_text[i]\n",
    "    for j in range(len(word)) :\n",
    "        character = word[j]\n",
    "        if character.isupper() :\n",
    "            char_index = alphabates_list.index(character.lower())\n",
    "            plain_text += (alphabates_list[(char_index-key)%26]).upper()\n",
    "        else :\n",
    "            char_index = alphabates_list.index(character)\n",
    "            plain_text += alphabates_list[(char_index-key)%26]\n",
    "    cipher_text.remove(word)\n",
    "    cipher_text.insert(i,plain_text)\n",
    "    \n",
    "Decoded_message = \" \".join(cipher_text)\n",
    "print(\"Decoded Message is :\",Decoded_message)"
   ]
  },
  {
   "cell_type": "markdown",
   "id": "9d454506-a3ba-4fd5-9d31-ed5a96d8e712",
   "metadata": {},
   "source": [
    "### 44. Find the most frequent word in a string."
   ]
  },
  {
   "cell_type": "code",
   "execution_count": 30,
   "id": "0dfad569-b9f3-4eba-bc93-89d6a5afebe7",
   "metadata": {},
   "outputs": [
    {
     "name": "stdin",
     "output_type": "stream",
     "text": [
      "Enter your string : Red bull gives you wings\n"
     ]
    },
    {
     "name": "stdout",
     "output_type": "stream",
     "text": [
      "U has also same frequency as E\n",
      "L has also same frequency as E\n",
      "L has also same frequency as E\n",
      "G has also same frequency as E\n",
      "I has also same frequency as E\n",
      "E has also same frequency as E\n",
      "S has also same frequency as E\n",
      "U has also same frequency as E\n",
      "I has also same frequency as E\n",
      "G has also same frequency as E\n",
      "S has also same frequency as E\n",
      "Most frequent word in string is E & its frequency is 2\n"
     ]
    }
   ],
   "source": [
    "str36 = input(\"Enter your string :\").replace(\" \",\"\")\n",
    "str36 = str36.lower()\n",
    "set4 = set(str36)\n",
    "j = 0\n",
    "for i in str36 :\n",
    "    i_count = str36.count(i)\n",
    "    \n",
    "    if i_count > j :\n",
    "        j = i_count\n",
    "        word = i.upper()\n",
    "        \n",
    "    elif i_count == j :\n",
    "        print(i.upper(),\"has also same frequency as\",word)\n",
    "    \n",
    "print(\"Most frequent word in string is\",word,\"& its frequency is\",j)"
   ]
  },
  {
   "cell_type": "markdown",
   "id": "3bdefaa4-68bf-41ca-97f4-a144103ccdc9",
   "metadata": {},
   "source": [
    "### 45. Find all unique words in a string."
   ]
  },
  {
   "cell_type": "code",
   "execution_count": 1,
   "id": "dbca1201-6b74-4226-a222-25c9f2f8c4c8",
   "metadata": {},
   "outputs": [
    {
     "name": "stdin",
     "output_type": "stream",
     "text": [
      "Enter your string : what is your name\n"
     ]
    },
    {
     "name": "stdout",
     "output_type": "stream",
     "text": [
      "All unique words in string are : ['m', 'a', 'i', 'o', 'w', 'u', 'y', 'r', 'e', 'n', 't', 'h', 's']\n"
     ]
    }
   ],
   "source": [
    "str37 = input(\"Enter your string :\").lower()\n",
    "set5 = set(str37)\n",
    "list12 = []\n",
    "\n",
    "for i in set5 :\n",
    "    if i.isalpha() :\n",
    "        list12 += i\n",
    "\n",
    "print(\"All unique words in string are :\",list12)"
   ]
  },
  {
   "cell_type": "markdown",
   "id": "5f0bf4a7-089e-4bbc-a67c-aaf3af78092a",
   "metadata": {},
   "source": [
    "### 46. Count the number of syllables in a string."
   ]
  },
  {
   "cell_type": "code",
   "execution_count": 23,
   "id": "ad69520c-25c8-42a9-ad23-9ce365378f15",
   "metadata": {},
   "outputs": [
    {
     "name": "stdin",
     "output_type": "stream",
     "text": [
      "Enter your string : hello bro it's me\n"
     ]
    },
    {
     "name": "stdout",
     "output_type": "stream",
     "text": [
      "Total Syllables in String are :  4\n"
     ]
    }
   ],
   "source": [
    "sentence = input(\"Enter your string :\").split()\n",
    "syllables = \"aeiouy\" \n",
    "total_syllables = 0\n",
    "for word in sentence :\n",
    "    word = word.lower()\n",
    "    if word[0] in syllables :\n",
    "        total_syllables += 1\n",
    "    for i in range(1,len(word)) :\n",
    "        if word[i] in syllables and word[i-1] not in syllables :\n",
    "            total_syllables += 1\n",
    "    if word.endswith(\"e\") :\n",
    "        total_syllables -= 1\n",
    "    \n",
    "if total_syllables == 0 :\n",
    "    total_syllables = 1\n",
    "    \n",
    "print(\"Total Syllables in String are : \",total_syllables)"
   ]
  },
  {
   "cell_type": "markdown",
   "id": "fa2a5094-3664-4008-b095-92c29e7f8e57",
   "metadata": {},
   "source": [
    "### 47. Check if a string contains any special characters."
   ]
  },
  {
   "cell_type": "code",
   "execution_count": 1,
   "id": "415e1665-155e-43fd-8dfb-db0bbd16fb50",
   "metadata": {},
   "outputs": [
    {
     "name": "stdin",
     "output_type": "stream",
     "text": [
      "Enter your string : L@lit Kh@re.\n"
     ]
    },
    {
     "name": "stdout",
     "output_type": "stream",
     "text": [
      "Special characters in your string are : {'@', '.'}\n"
     ]
    }
   ],
   "source": [
    "list13 = input(\"Enter your string :\").split()\n",
    "str38 = '''`~!@#$%^&*()_-{}[]:;\"'<>,.\\/|?'''\n",
    "k =0\n",
    "list14 = []\n",
    "\n",
    "for i in list13 :\n",
    "    for j in str38 :\n",
    "        if j in list13[k]:\n",
    "            list14 += j\n",
    "    k +=1\n",
    "\n",
    "set6 = set(list14)\n",
    "\n",
    "if len(set6) > 0 :\n",
    "    print(\"Special characters in your string are :\",set6)\n",
    "else :\n",
    "    print(\"There is no special character in your string.\")"
   ]
  },
  {
   "cell_type": "markdown",
   "id": "7a0c1d0b-ad12-4b08-b658-8557228a5320",
   "metadata": {},
   "source": [
    "### 48. Remove the nth word from a string."
   ]
  },
  {
   "cell_type": "code",
   "execution_count": 17,
   "id": "6d951bc1-2328-477c-8c3b-281fe81c1d20",
   "metadata": {},
   "outputs": [
    {
     "name": "stdin",
     "output_type": "stream",
     "text": [
      "Enter your string : hello how are you\n",
      "Enter the number of the turn which you wanna remove from string : 2\n"
     ]
    },
    {
     "name": "stdout",
     "output_type": "stream",
     "text": [
      "String with removed term is : hello are you \n"
     ]
    }
   ],
   "source": [
    "list15 = input(\"Enter your string :\").split()\n",
    "term = int(input(\"Enter the number of the turn which you wanna remove from string :\")) - 1\n",
    "\n",
    "list15.pop(term)\n",
    "str39 = ''\n",
    "for i in list15 :\n",
    "    str39 += i + ' '\n",
    "    \n",
    "print(\"String with removed term is :\",str39)"
   ]
  },
  {
   "cell_type": "markdown",
   "id": "b0551221-3972-46d1-8d0f-916b395436e1",
   "metadata": {},
   "source": [
    "### 49. Insert a word at the nth position in a string."
   ]
  },
  {
   "cell_type": "code",
   "execution_count": 19,
   "id": "87776a18-dbf6-40c1-a28e-d532c9f59140",
   "metadata": {},
   "outputs": [
    {
     "name": "stdin",
     "output_type": "stream",
     "text": [
      "Enter your String :\n",
      " hello brother are you\n",
      "Enter the word you wanna insert insdie the string :\n",
      " how\n",
      "Enter the position at which you wanna insert your word :\n",
      " 3\n"
     ]
    },
    {
     "name": "stdout",
     "output_type": "stream",
     "text": [
      "Updated String is : hello brother how are you\n"
     ]
    }
   ],
   "source": [
    "user_str1 = input(\"Enter your String :\\n\")\n",
    "user_word = input(\"Enter the word you wanna insert insdie the string :\\n\")\n",
    "position1 = int(input(\"Enter the position at which you wanna insert your word :\\n\"))\n",
    "\n",
    "user_list1 = user_str1.split()\n",
    "user_list1.insert(position1-1,user_word)\n",
    "print(\"Updated String is :\",\" \".join(user_list1))"
   ]
  },
  {
   "cell_type": "markdown",
   "id": "cad26bac-6114-40ff-b2f3-4ecf54a5268b",
   "metadata": {},
   "source": [
    "### 50. Convert a CSV string to a list of lists."
   ]
  },
  {
   "cell_type": "code",
   "execution_count": 1,
   "id": "b980b776-0430-462a-808f-9700b022772c",
   "metadata": {},
   "outputs": [
    {
     "name": "stdin",
     "output_type": "stream",
     "text": [
      "Enter your CSV String : hello, i am lalit khare, i am 20 years old\n"
     ]
    },
    {
     "name": "stdout",
     "output_type": "stream",
     "text": [
      "['hello', ' i am lalit khare', ' i am 20 years old']\n"
     ]
    }
   ],
   "source": [
    "csv_str = input(\"Enter your CSV String :\")\n",
    "list1 = csv_str.split(',')                   # splitting the string wherever there is comma.\n",
    "print(list1)\n",
    "list_of_lists = []\n",
    "\n",
    "for i in list1 :\n",
    "    list_of_lists.append(i.split(' '))      # splitting the element of list wherever the is space & than appending to new list.\n",
    "    \n",
    "print(\"Lis of lists of CSV String is \\n\",\n",
    "     list_of)"
   ]
  },
  {
   "cell_type": "markdown",
   "id": "23cec235-6118-47d6-b533-50f9c8425d43",
   "metadata": {},
   "source": [
    "# List Based Practice Problem :"
   ]
  },
  {
   "cell_type": "markdown",
   "id": "ca366082-2716-426b-a8ad-5d38584c91e8",
   "metadata": {},
   "source": [
    "### 1. Create a list with integers from 1 to 10."
   ]
  },
  {
   "cell_type": "code",
   "execution_count": 29,
   "id": "2a2ec514-7347-4dfc-bfcd-735dfdd97dae",
   "metadata": {},
   "outputs": [
    {
     "name": "stdout",
     "output_type": "stream",
     "text": [
      "[1, 2, 3, 4, 5, 6, 7, 8, 9, 10]\n"
     ]
    }
   ],
   "source": [
    "list16 = []\n",
    "for i in range(1,11) :\n",
    "    list16.append(i)\n",
    "print(list16)"
   ]
  },
  {
   "cell_type": "markdown",
   "id": "ce8905d8-f33a-4f06-b3bf-4023355d0f8e",
   "metadata": {},
   "source": [
    "### 2. Find the length of a list without using the `len()` function."
   ]
  },
  {
   "cell_type": "code",
   "execution_count": 21,
   "id": "d71333ca-42b5-4988-8a73-6cf838c418bb",
   "metadata": {},
   "outputs": [
    {
     "name": "stdin",
     "output_type": "stream",
     "text": [
      "Enter your list, seprated by spaces : 1 2 3 your name fix it \n"
     ]
    },
    {
     "name": "stdout",
     "output_type": "stream",
     "text": [
      "Length of your list is 7\n"
     ]
    }
   ],
   "source": [
    "list17 = input(\"Enter your list, seprated by spaces :\").split()\n",
    "j = 0\n",
    "for i in list17 :\n",
    "    j += 1\n",
    "print(\"Length of your list is\",j)"
   ]
  },
  {
   "cell_type": "markdown",
   "id": "38a20c5a-5383-435d-9f4c-7acf016ec2f7",
   "metadata": {},
   "source": [
    "### 3. Append an element to the end of a list."
   ]
  },
  {
   "cell_type": "code",
   "execution_count": 27,
   "id": "103e8f0e-4418-4a48-b235-32e2246e74b8",
   "metadata": {},
   "outputs": [
    {
     "name": "stdin",
     "output_type": "stream",
     "text": [
      "Enter your list, seprated by space : Your name\n",
      "Enter the element, you wanna add to the end of the list : adinath\n"
     ]
    },
    {
     "name": "stdout",
     "output_type": "stream",
     "text": [
      "Edited list is : ['Your', 'name', 'adinath']\n"
     ]
    }
   ],
   "source": [
    "list18 = list(input(\"Enter your list, seprated by space :\").split())\n",
    "element1 = input(\"Enter the element, you wanna add to the end of the list :\")\n",
    "list18.append(element1)\n",
    "print(\"Edited list is :\",list18)"
   ]
  },
  {
   "cell_type": "markdown",
   "id": "81e0efb5-3ce7-4932-90ed-1c3a33fee554",
   "metadata": {},
   "source": [
    "### 4. Insert an element at a specific index in a list."
   ]
  },
  {
   "cell_type": "code",
   "execution_count": 30,
   "id": "bf7b6af1-519b-4312-b35e-610893b691df",
   "metadata": {},
   "outputs": [
    {
     "name": "stdin",
     "output_type": "stream",
     "text": [
      "Enter your list, seprated by space : 1 2 3 4 \n",
      "Enter the element you wanna insert in list : just\n",
      "Enter number of term where youbwanna insert your element : 2\n"
     ]
    },
    {
     "name": "stdout",
     "output_type": "stream",
     "text": [
      "Edited list is : ['1', 'just', '2', '3', '4']\n"
     ]
    }
   ],
   "source": [
    "list19 = list(input(\"Enter your list, seprated by space :\").split())\n",
    "element2 = input(\"Enter the element you wanna insert in list :\")\n",
    "index1 = int(input(\"Enter number of term where youbwanna insert your element :\"))\n",
    "list19.insert((index1 -1),element2)\n",
    "print(\"Edited list is :\",list19)"
   ]
  },
  {
   "cell_type": "markdown",
   "id": "9607dc63-e3b3-411c-a21e-0d182dbeda28",
   "metadata": {},
   "source": [
    "### 5. Remove an element from a list by its value."
   ]
  },
  {
   "cell_type": "code",
   "execution_count": 33,
   "id": "ea737db6-266a-4593-b908-6389145e1c5b",
   "metadata": {},
   "outputs": [
    {
     "name": "stdin",
     "output_type": "stream",
     "text": [
      "Enter your list, seprated by space : hello 1 remove 2 3 \n",
      "Enter the element you wanna remove from list : hello\n"
     ]
    },
    {
     "name": "stdout",
     "output_type": "stream",
     "text": [
      "Edited list is : ['1', 'remove', '2', '3']\n"
     ]
    }
   ],
   "source": [
    "list20 = list(input(\"Enter your list, seprated by space :\").split())\n",
    "element3 = input(\"Enter the element you wanna remove from list :\")\n",
    "list20.remove(element3)\n",
    "print(\"Edited list is :\",list20)"
   ]
  },
  {
   "cell_type": "markdown",
   "id": "ad672451-4fb7-4c87-b649-a70877ee540a",
   "metadata": {},
   "source": [
    "### 6. Remove an element from a list by its index."
   ]
  },
  {
   "cell_type": "code",
   "execution_count": 34,
   "id": "5cb964ec-4b6c-4e69-8b31-409ef78c74b4",
   "metadata": {},
   "outputs": [
    {
     "name": "stdin",
     "output_type": "stream",
     "text": [
      "Enter your list, seprated by space : 1 2 3 word is game\n",
      "Enter the index value of the element which you wanna remove : 2\n"
     ]
    },
    {
     "name": "stdout",
     "output_type": "stream",
     "text": [
      "Edited list is : ['1', '2', 'word', 'is', 'game']\n"
     ]
    }
   ],
   "source": [
    "list21 = list(input(\"Enter your list, seprated by space :\").split())\n",
    "index2 = int(input(\"Enter the index value of the element which you wanna remove :\"))\n",
    "list21.pop(index2)\n",
    "print(\"Edited list is :\",list21)"
   ]
  },
  {
   "cell_type": "markdown",
   "id": "ef019950-985a-44dc-a814-0c1f002f8d2f",
   "metadata": {},
   "source": [
    "### 7. Check if an element exists in a list."
   ]
  },
  {
   "cell_type": "code",
   "execution_count": 2,
   "id": "12d341eb-1afb-4cc1-a806-2cd5a6dbc543",
   "metadata": {},
   "outputs": [
    {
     "name": "stdin",
     "output_type": "stream",
     "text": [
      "Enter the list, seprated by space : hero is a superman\n",
      "Enter the element which you wanna check in list : women\n"
     ]
    },
    {
     "name": "stdout",
     "output_type": "stream",
     "text": [
      "women doesn't exist in the list.\n"
     ]
    }
   ],
   "source": [
    "list22 = list(input(\"Enter the list, seprated by space :\").split())\n",
    "element3 = input(\"Enter the element which you wanna check in list :\")\n",
    "\n",
    "if element3 in list22 :\n",
    "    print(element3,\"exists in the list.\")\n",
    "else :\n",
    "    print(element3,\"doesn't exist in the list.\")"
   ]
  },
  {
   "cell_type": "markdown",
   "id": "6c510f40-48f9-41eb-801d-2d8d8a52c44d",
   "metadata": {},
   "source": [
    "### 8. Find the index of the first occurrence of an element in a list"
   ]
  },
  {
   "cell_type": "code",
   "execution_count": 5,
   "id": "f1524a9f-bc1d-40b8-9b57-593cd4e9678b",
   "metadata": {},
   "outputs": [
    {
     "name": "stdin",
     "output_type": "stream",
     "text": [
      "Enter element of the list, seprated by space : 1 2 3 4 5 6 '\n",
      "Enter the element whose occurence you wanna check : 3\n"
     ]
    },
    {
     "name": "stdout",
     "output_type": "stream",
     "text": [
      "3 is present in list at the index value of 2\n"
     ]
    }
   ],
   "source": [
    "list23 = list(input(\"Enter element of the list, seprated by space :\").split())\n",
    "element4 = input(\"Enter the element whose occurence you wanna check :\")\n",
    "\n",
    "if element4 in list23 :\n",
    "    ele_index = list23.index(element4)\n",
    "    print(element4,\"is present in list at the index value of\",ele_index)\n",
    "else :\n",
    "    print(element4,\"doesn't exist in the list.\")"
   ]
  },
  {
   "cell_type": "markdown",
   "id": "ec7d9996-1f4c-4dbe-96ab-4c9ee3c06591",
   "metadata": {},
   "source": [
    "### 9. Count the occurrences of an element in a list."
   ]
  },
  {
   "cell_type": "code",
   "execution_count": 10,
   "id": "e9be5471-abb4-481b-afa0-2dce3583d27f",
   "metadata": {},
   "outputs": [
    {
     "name": "stdin",
     "output_type": "stream",
     "text": [
      "Enter the elements of the list separated by space : 1 2 3 4 5  6 \n",
      "Enter the element whose occurence you wanna check : 0\n"
     ]
    },
    {
     "name": "stdout",
     "output_type": "stream",
     "text": [
      "Occurence of 0 in list is 0\n"
     ]
    }
   ],
   "source": [
    "list24 = list(input(\"Enter the elements of the list separated by space :\").split())\n",
    "element5 = input(\"Enter the element whose occurence you wanna check :\")\n",
    "\n",
    "ele_count = list24.count(element5)\n",
    "print(\"Occurence of\",element5,\"in list is\",ele_count)"
   ]
  },
  {
   "cell_type": "markdown",
   "id": "f993211f-1b55-4eb9-98fc-e8be1a0fb408",
   "metadata": {},
   "source": [
    "### 10. Reverse the order of elements in a list."
   ]
  },
  {
   "cell_type": "code",
   "execution_count": 3,
   "id": "513e58a0-511e-4cbc-a53d-5348158d622f",
   "metadata": {},
   "outputs": [
    {
     "name": "stdin",
     "output_type": "stream",
     "text": [
      "Enter your list : 1 2 3 4 5 \n"
     ]
    },
    {
     "name": "stdout",
     "output_type": "stream",
     "text": [
      "Reversed list is : ['5', '4', '3', '2', '1']\n"
     ]
    }
   ],
   "source": [
    "list25 = list(input(\"Enter your list :\").split())\n",
    "list25.reverse()\n",
    "print(\"Reversed list is :\",list25)"
   ]
  },
  {
   "cell_type": "markdown",
   "id": "f8e3dcab-5ac8-4876-9105-be6d05eceea3",
   "metadata": {},
   "source": [
    "### 11. Sort a list in ascending order."
   ]
  },
  {
   "cell_type": "code",
   "execution_count": 7,
   "id": "8ec5a9ad-7c80-469a-bbe1-4525bb19ddd1",
   "metadata": {},
   "outputs": [
    {
     "name": "stdin",
     "output_type": "stream",
     "text": [
      "Enter the elements of the list separated by spaces : 1 2 3 4 5 0 3 \n"
     ]
    },
    {
     "name": "stdout",
     "output_type": "stream",
     "text": [
      "List in ascending order is : [0, 1, 2, 3, 3, 4, 5]\n"
     ]
    }
   ],
   "source": [
    "list26 = list(map(int,input(\"Enter the elements of the list separated by spaces :\").split()))\n",
    "list26.sort()\n",
    "print(\"List in ascending order is :\",list26)"
   ]
  },
  {
   "cell_type": "markdown",
   "id": "f3972be1-a7b3-47e3-a16e-06e3b3f4f302",
   "metadata": {},
   "source": [
    "### 12. Sort a list in descending order."
   ]
  },
  {
   "cell_type": "code",
   "execution_count": 8,
   "id": "5a852975-a12e-471f-87b4-60364be7f147",
   "metadata": {},
   "outputs": [
    {
     "name": "stdin",
     "output_type": "stream",
     "text": [
      "Enter the elements of the list separated by spaces : 1 2 3 4 5 \n"
     ]
    },
    {
     "name": "stdout",
     "output_type": "stream",
     "text": [
      "List in descending order is : [5, 4, 3, 2, 1]\n"
     ]
    }
   ],
   "source": [
    "list26 = list(map(int,input(\"Enter the elements of the list separated by spaces :\").split()))\n",
    "list26.sort(reverse = True)\n",
    "print(\"List in descending order is :\",list26)"
   ]
  },
  {
   "cell_type": "markdown",
   "id": "271a9368-d665-42ed-aa5a-248ca575f2be",
   "metadata": {},
   "source": [
    "### 13. Create a list of even numbers from 1 to 20."
   ]
  },
  {
   "cell_type": "code",
   "execution_count": 14,
   "id": "1cd2b0c3-a6cb-4d56-a8a2-7bceb8ef9881",
   "metadata": {},
   "outputs": [
    {
     "name": "stdout",
     "output_type": "stream",
     "text": [
      "[2, 4, 6, 8, 10, 12, 14, 16, 18, 20]\n"
     ]
    }
   ],
   "source": [
    "list27 = []\n",
    "for i in range(1,21) :\n",
    "    if i%2 == 0 :\n",
    "        list27.append(i)\n",
    "print(list27)"
   ]
  },
  {
   "cell_type": "markdown",
   "id": "e45d4abf-e2c0-4b61-b3fd-63f615f391ec",
   "metadata": {},
   "source": [
    "### 14. Create a list of odd numbers from 1 to 20."
   ]
  },
  {
   "cell_type": "code",
   "execution_count": 13,
   "id": "877e58cb-c5e5-4cfd-adb4-470fb8048e82",
   "metadata": {},
   "outputs": [
    {
     "name": "stdout",
     "output_type": "stream",
     "text": [
      "[1, 3, 5, 7, 9, 11, 13, 15, 17, 19]\n"
     ]
    }
   ],
   "source": [
    "list28 = []\n",
    "for i in range(1,21) :\n",
    "    if i%2 != 0 :\n",
    "        list28.append(i)\n",
    "print(list27)"
   ]
  },
  {
   "cell_type": "markdown",
   "id": "2974f94b-0a5c-4175-bf98-d5255c04dc1e",
   "metadata": {},
   "source": [
    "### 15. Find the sum of all elements in a list."
   ]
  },
  {
   "cell_type": "code",
   "execution_count": 15,
   "id": "dcc532eb-075c-41d4-af59-c64cc57c8c36",
   "metadata": {},
   "outputs": [
    {
     "name": "stdin",
     "output_type": "stream",
     "text": [
      "Enter the digit element of the list : 1 2 3 4 5 6 7 8 88 12 \n"
     ]
    },
    {
     "name": "stdout",
     "output_type": "stream",
     "text": [
      "Sum of all the elements of the list is : 136\n"
     ]
    }
   ],
   "source": [
    "list29 = list(map(int,input(\"Enter the digit element of the list :\").split()))\n",
    "j = 0\n",
    "for i in list29 :\n",
    "    j += i\n",
    "print(\"Sum of all the elements of the list is :\",j)"
   ]
  },
  {
   "cell_type": "markdown",
   "id": "b6afac8e-8d9b-449e-8e3b-52bff330704a",
   "metadata": {},
   "source": [
    "### 16. Find the maximum value in a list."
   ]
  },
  {
   "cell_type": "code",
   "execution_count": 13,
   "id": "6e8ad37b-772a-4b61-9d44-7a3950b8a458",
   "metadata": {},
   "outputs": [
    {
     "name": "stdin",
     "output_type": "stream",
     "text": [
      "Enter the digit element of the list : 1 2 7 3 9 10 3 4 5 11\n"
     ]
    },
    {
     "name": "stdout",
     "output_type": "stream",
     "text": [
      "Maximum value in list is 11\n"
     ]
    }
   ],
   "source": [
    "list30 = list(map(int,input(\"Enter the digit element of the list :\").split()))\n",
    "max_value = max(list30)\n",
    "print(\"Maximum value in list is\",max_value)"
   ]
  },
  {
   "cell_type": "markdown",
   "id": "dbceacf2-0078-494c-bb41-b0c9f5cf0819",
   "metadata": {},
   "source": [
    "### 17. Find the minimum value in a list."
   ]
  },
  {
   "cell_type": "code",
   "execution_count": 12,
   "id": "b447d3f6-ab2a-46f9-80d5-0439512a67b1",
   "metadata": {},
   "outputs": [
    {
     "name": "stdin",
     "output_type": "stream",
     "text": [
      "Enter the digit element of the list : 11 2 3 4 5 -3\n"
     ]
    },
    {
     "name": "stdout",
     "output_type": "stream",
     "text": [
      "Minimum value in list is : -3\n"
     ]
    }
   ],
   "source": [
    "list30 = list(map(int,input(\"Enter the digit element of the list :\").split()))\n",
    "min_value = min(list30)\n",
    "print(\"Minimum value in list is :\",min_value)"
   ]
  },
  {
   "cell_type": "markdown",
   "id": "3ac9cdf6-e77c-4085-96b5-1ec9ce38dc5c",
   "metadata": {},
   "source": [
    "### 18. Create a list of squares of numbers from 1 to 10."
   ]
  },
  {
   "cell_type": "code",
   "execution_count": 23,
   "id": "c31870c3-2df3-451a-bfbe-8c3e40ad2a6d",
   "metadata": {},
   "outputs": [
    {
     "name": "stdout",
     "output_type": "stream",
     "text": [
      "[1, 4, 9, 16, 25, 36, 49, 64, 81, 100]\n"
     ]
    }
   ],
   "source": [
    "list31 = []\n",
    "for i in range(1,11) :\n",
    "    list31.append(i*i)\n",
    "print(list31)"
   ]
  },
  {
   "cell_type": "markdown",
   "id": "4d1585e7-6429-43d6-8863-198942443f57",
   "metadata": {},
   "source": [
    "### 19. Create a list of random numbers."
   ]
  },
  {
   "cell_type": "code",
   "execution_count": 31,
   "id": "b1c81a0d-490a-483e-aff7-1795323d7c78",
   "metadata": {},
   "outputs": [
    {
     "name": "stdin",
     "output_type": "stream",
     "text": [
      "Enter the lower and upper range of the numbers in your list(Separated by space) : 0 10\n",
      "Enter the length of the list : 4\n"
     ]
    },
    {
     "name": "stdout",
     "output_type": "stream",
     "text": [
      "List of random integers is : [10, 7, 5, 6]\n"
     ]
    }
   ],
   "source": [
    "import random\n",
    "\n",
    "a,b = map(int,(input(\"Enter the lower and upper range of the numbers in your list(Separated by space) :\").split()))\n",
    "len_list32 = int(input(\"Enter the length of the list :\"))\n",
    "list32 = []\n",
    "\n",
    "for i in range(0,len_list32) :\n",
    "    list32.append(random.randint(a,b+1))\n",
    "print(\"List of random integers is :\",list32)"
   ]
  },
  {
   "cell_type": "markdown",
   "id": "03ff762b-71e4-40e8-a92d-5de55697fc50",
   "metadata": {},
   "source": [
    "### 20. Remove duplicates from a list."
   ]
  },
  {
   "cell_type": "code",
   "execution_count": 32,
   "id": "3d1c5c35-2a9a-43b6-8959-7bde51b9b866",
   "metadata": {},
   "outputs": [
    {
     "name": "stdin",
     "output_type": "stream",
     "text": [
      "Enter the elements of the list (separated by spaces)) : 1 2 3  2 5 6 3 1 8\n"
     ]
    },
    {
     "name": "stdout",
     "output_type": "stream",
     "text": [
      "List without duplicates is : ['1', '3', '2', '5', '6', '8']\n"
     ]
    }
   ],
   "source": [
    "set7 = set(input(\"Enter the elements of the list (separated by spaces)) :\").split())\n",
    "print(\"List without duplicates is :\",list(set7))"
   ]
  },
  {
   "cell_type": "markdown",
   "id": "99598007-a049-48af-9d5b-792dbd82c578",
   "metadata": {},
   "source": [
    "### 21. Find the common elements between two lists."
   ]
  },
  {
   "cell_type": "code",
   "execution_count": 35,
   "id": "bf988ff7-5309-4957-a9c7-f644f8705952",
   "metadata": {},
   "outputs": [
    {
     "name": "stdin",
     "output_type": "stream",
     "text": [
      "Enter elements of the 1st list (separated by spaces) : word 1 2 3 947 b8e8 9eyuhr 309 39 5387 199 1 2 2 \n",
      "Enter elements of the 2nd list (separated by spaces) : word ihe 7eb eukm 36   1 3 38 30 02 \n"
     ]
    },
    {
     "name": "stdout",
     "output_type": "stream",
     "text": [
      "Similiar elements in both the lists are : {'word', '1', '3'}\n"
     ]
    }
   ],
   "source": [
    "list33 = list(input(\"Enter elements of the 1st list (separated by spaces) :\").split())\n",
    "list34 = list(input(\"Enter elements of the 2nd list (separated by spaces) :\").split())\n",
    "list35 = []\n",
    "\n",
    "for i in list33 :\n",
    "    if i in list34 :\n",
    "        list35.append(i)\n",
    "print(\"Similiar elements in both the lists are :\",set(list35))"
   ]
  },
  {
   "cell_type": "markdown",
   "id": "328ab3af-7119-45f0-9b12-554512912a9f",
   "metadata": {},
   "source": [
    "### 22. Find the difference between two lists."
   ]
  },
  {
   "cell_type": "code",
   "execution_count": 43,
   "id": "45301f4f-f7c7-44fe-bbc3-57c5bcd2ad29",
   "metadata": {},
   "outputs": [
    {
     "name": "stdin",
     "output_type": "stream",
     "text": [
      "Enter elements of the 1st list (separated by spaces) : 1 2 3 4 9\n",
      "Enter elements of the 2nd list (separated by spaces) : 1 2 3 0 hey bro\n"
     ]
    },
    {
     "name": "stdout",
     "output_type": "stream",
     "text": [
      "The difference between the 2 lists is : {'0', 'bro', '9', 'hey', '4'}\n"
     ]
    }
   ],
   "source": [
    "set8 = set(input(\"Enter elements of the 1st list (separated by spaces) :\").split())\n",
    "set9 = set(input(\"Enter elements of the 2nd list (separated by spaces) :\").split())\n",
    "print(\"The difference between the 2 lists is :\",set(list(set9-set8) + list(set8-set9)))"
   ]
  },
  {
   "cell_type": "markdown",
   "id": "63532340-7150-4a68-9fe4-13c208ad5aec",
   "metadata": {},
   "source": [
    "### 23. Merge two lists."
   ]
  },
  {
   "cell_type": "code",
   "execution_count": 45,
   "id": "d376201f-f186-44c4-b3cb-c5d30709cd4c",
   "metadata": {},
   "outputs": [
    {
     "name": "stdin",
     "output_type": "stream",
     "text": [
      "Enter the elements of the 1st list : 1 2 3 hello\n",
      "Enter the elements of the 2nd list : 4 5 6 broi\n"
     ]
    },
    {
     "name": "stdout",
     "output_type": "stream",
     "text": [
      "Merged list is : ['1', '2', '3', 'hello', '4', '5', '6', 'broi']\n"
     ]
    }
   ],
   "source": [
    "list36 = list(input(\"Enter the elements of the 1st list :\").split())\n",
    "list37 = list(input(\"Enter the elements of the 2nd list :\").split())\n",
    "print(\"Merged list is :\",list36+list37)"
   ]
  },
  {
   "cell_type": "markdown",
   "id": "1a50f8bc-3a1f-4060-b29e-b32adbacd8bf",
   "metadata": {},
   "source": [
    "### 24. Multiply all elements in a list by 2."
   ]
  },
  {
   "cell_type": "code",
   "execution_count": 3,
   "id": "8c17bad1-f1ae-43ab-ac82-8e8cc500632a",
   "metadata": {},
   "outputs": [
    {
     "name": "stdin",
     "output_type": "stream",
     "text": [
      "Enter the elements of the list : 1 2 4 0\n"
     ]
    },
    {
     "name": "stdout",
     "output_type": "stream",
     "text": [
      "[2, 4, 8, 0]\n"
     ]
    }
   ],
   "source": [
    "list38 = list(map(int,input(\"Enter the elements of the list :\").split()))\n",
    "j = 0\n",
    "\n",
    "for i in list38 :\n",
    "    list38[j] = list38[j]*2\n",
    "    j += 1\n",
    "print(list38)"
   ]
  },
  {
   "cell_type": "markdown",
   "id": "0ebde2dc-9af5-4b20-aa45-2132e90542e5",
   "metadata": {},
   "source": [
    "### 25. Filter out all even numbers from a list."
   ]
  },
  {
   "cell_type": "code",
   "execution_count": 4,
   "id": "6fdd2a36-3bd0-451f-886a-f76b223afdb5",
   "metadata": {},
   "outputs": [
    {
     "name": "stdin",
     "output_type": "stream",
     "text": [
      "Enter the elements of the list : 1 2 3 4 6 7 8 10 45\n"
     ]
    },
    {
     "name": "stdout",
     "output_type": "stream",
     "text": [
      "All even numbers in your list are : [2, 4, 6, 8, 10]\n"
     ]
    }
   ],
   "source": [
    "list39 = list(map(int,input(\"Enter the elements of the list :\").split()))\n",
    "list40 = []\n",
    "\n",
    "for i in list39 :\n",
    "    if i%2 == 0:\n",
    "        list40.append(i)\n",
    "print(\"All even numbers in your list are :\",list40)"
   ]
  },
  {
   "cell_type": "markdown",
   "id": "13c669f9-192e-4934-9dc1-95e5e7f67052",
   "metadata": {},
   "source": [
    "### 26. Convert a list of strings to a list of integers."
   ]
  },
  {
   "cell_type": "code",
   "execution_count": 18,
   "id": "54ab0d7c-03dc-4b30-b861-820a54bd4225",
   "metadata": {},
   "outputs": [
    {
     "name": "stdin",
     "output_type": "stream",
     "text": [
      "Enter the elements of the list : 1 2 3 4 \n"
     ]
    },
    {
     "name": "stdout",
     "output_type": "stream",
     "text": [
      "List of integers is : [1, 2, 3, 4]\n"
     ]
    }
   ],
   "source": [
    "list41 = list(input(\"Enter the elements of the list :\").split())\n",
    "list42 = list(map(int, list41))\n",
    "print(\"List of integers is :\",list42) "
   ]
  },
  {
   "cell_type": "markdown",
   "id": "b6a9de48-5d05-4d53-95c9-c448f2adb6b3",
   "metadata": {},
   "source": [
    "### 27. Convert a list of integers to a list of strings."
   ]
  },
  {
   "cell_type": "code",
   "execution_count": 19,
   "id": "e47b3e1f-2651-4596-bcec-6e3b678499cf",
   "metadata": {},
   "outputs": [
    {
     "name": "stdout",
     "output_type": "stream",
     "text": [
      "List of strings is : ['2', '4', '5', '78', '90', '1', '4']\n"
     ]
    }
   ],
   "source": [
    "list43 = [2,4,5,78,90,1,4]\n",
    "list44 = list(map(str,list43))\n",
    "print(\"List of strings is :\",list44)"
   ]
  },
  {
   "cell_type": "markdown",
   "id": "bbea2bbe-ba0a-4e89-bb90-7f20ab304409",
   "metadata": {},
   "source": [
    "### 28. Flatten a nested list."
   ]
  },
  {
   "cell_type": "code",
   "execution_count": 15,
   "id": "c20d70ce-8eea-4a9c-8b34-84ac1d7dff5e",
   "metadata": {},
   "outputs": [
    {
     "name": "stdout",
     "output_type": "stream",
     "text": [
      "Flatten list is : [1, 2, 3, 'Hello', 'hero', 'superman', 4, 5, 6]\n"
     ]
    }
   ],
   "source": [
    "list45 = [1,2,3,[\"hero\",\"superman\"],[4,5,6],\"Hello\"]\n",
    "list_k = []\n",
    "a = 0\n",
    "len_list45 = len(list45)\n",
    "\n",
    "for i in range(len_list45) :\n",
    "    if type(list45[a]) == list :\n",
    "        list_k += list45[a]\n",
    "        list45.remove(list45[a])\n",
    "        a -= 1\n",
    "    a += 1\n",
    "list45 += list_k\n",
    "print(\"Flatten list is :\",list45)"
   ]
  },
  {
   "cell_type": "markdown",
   "id": "760d3061-8690-443c-aca6-e2f88a934653",
   "metadata": {},
   "source": [
    "### 29. Create a list of the first 10 Fibonacci number."
   ]
  },
  {
   "cell_type": "code",
   "execution_count": 19,
   "id": "ab9e0216-46a6-4234-aa37-95953fa55c16",
   "metadata": {},
   "outputs": [
    {
     "name": "stdin",
     "output_type": "stream",
     "text": [
      "Enter the number of term of fibonacci series : 12\n"
     ]
    },
    {
     "name": "stdout",
     "output_type": "stream",
     "text": [
      "Fibonacci Series : [0, 1, 1, 2, 3, 5, 8, 13, 21, 34, 55, 89]\n"
     ]
    }
   ],
   "source": [
    "fib_no = int(input(\"Enter the number of term of fibonacci series :\"))\n",
    "list46 = [0,1]\n",
    "\n",
    "for i in range(fib_no-2) :\n",
    "    list46.append(list46[i] + list46[i+1])\n",
    "print(\"Fibonacci Series :\",list46)"
   ]
  },
  {
   "cell_type": "markdown",
   "id": "2912849a-cd9b-4735-8ace-f25cea07ee0d",
   "metadata": {},
   "source": [
    "### 30. Check if a list is sorted."
   ]
  },
  {
   "cell_type": "code",
   "execution_count": 7,
   "id": "c1fd8b68-951b-45cc-ac28-b7c0b62c701c",
   "metadata": {},
   "outputs": [
    {
     "name": "stdin",
     "output_type": "stream",
     "text": [
      "Enter the elements of the list: 2 4 1 0 5\n"
     ]
    },
    {
     "name": "stdout",
     "output_type": "stream",
     "text": [
      "List is unsorted.\n"
     ]
    }
   ],
   "source": [
    "list47 = list(map(int, input(\"Enter the elements of the list:\").split()))\n",
    "list48 = list47.copy()\n",
    "list47.sort()\n",
    "\n",
    "if list47 == list48 :\n",
    "    print(\"List is sorted in ascending order.\")\n",
    "else :    \n",
    "    list47.sort(reverse = True) \n",
    "    if list47 == list48 :\n",
    "        print(\"List is sorted in descending order.\")\n",
    "    else :\n",
    "        print(\"List is unsorted.\")"
   ]
  },
  {
   "cell_type": "markdown",
   "id": "8a723725-81f6-4b9b-b25e-6b98fc374dd1",
   "metadata": {},
   "source": [
    "### 31. Rotate a list to the left by `n` positions."
   ]
  },
  {
   "cell_type": "code",
   "execution_count": 10,
   "id": "d356fff5-faf5-4199-b54a-05768b52093f",
   "metadata": {},
   "outputs": [
    {
     "name": "stdin",
     "output_type": "stream",
     "text": [
      "Enter the no of rotation : 2\n"
     ]
    },
    {
     "name": "stdout",
     "output_type": "stream",
     "text": [
      "Rotated list is : [3, 4, 5, 6, 1, 2]\n"
     ]
    }
   ],
   "source": [
    "list49 = [1,2,3,4,5,6]\n",
    "l_rotate = int(input(\"Enter the no of rotation :\"))\n",
    "list50 = []\n",
    "for i in range(l_rotate) :\n",
    "    a = list49[0]\n",
    "    list49.pop(0)\n",
    "    list50.append(a)\n",
    "print(\"Rotated list is :\",list49+list50)"
   ]
  },
  {
   "cell_type": "markdown",
   "id": "bca99faf-42bf-4a21-a79d-63cb564f6cb1",
   "metadata": {},
   "source": [
    "### 32. Rotate a list to the right by `n` positions."
   ]
  },
  {
   "cell_type": "code",
   "execution_count": 11,
   "id": "55eeb43f-6acb-4ffb-80ef-292413630e0f",
   "metadata": {},
   "outputs": [
    {
     "name": "stdin",
     "output_type": "stream",
     "text": [
      "Enter the no of rotation : 2\n"
     ]
    },
    {
     "name": "stdout",
     "output_type": "stream",
     "text": [
      "Rotated list is : [5, 6, 1, 2, 3, 4]\n"
     ]
    }
   ],
   "source": [
    "list51 = [1,2,3,4,5,6]\n",
    "l_rotate = int(input(\"Enter the no of rotation :\"))\n",
    "list52 = []\n",
    "for i in range(l_rotate) :\n",
    "    a = list51[-1]\n",
    "    list51.pop()\n",
    "    list52.append(a)\n",
    "list52.reverse()\n",
    "print(\"Rotated list is :\",list52+list51)"
   ]
  },
  {
   "cell_type": "markdown",
   "id": "cf0eaa85-b127-4be0-b840-4c919f75a384",
   "metadata": {},
   "source": [
    "### 33. Create a list of prime numbers up to 50."
   ]
  },
  {
   "cell_type": "code",
   "execution_count": 15,
   "id": "3fecf261-74de-4993-8c6f-5ce6af3612ea",
   "metadata": {},
   "outputs": [
    {
     "name": "stdout",
     "output_type": "stream",
     "text": [
      "List of prime numbers upto 50 is : [2, 3, 5, 7, 11, 13, 17, 19, 23, 29, 31, 37, 41, 43, 47]\n"
     ]
    }
   ],
   "source": [
    "list53 = []\n",
    "for num in range(2,51) :\n",
    "    \n",
    "    if num%2 == 0 and num != 2:\n",
    "        continue\n",
    "    elif num%3 == 0 and num != 3:\n",
    "        continue\n",
    "    elif num%5 == 0 and num != 5:\n",
    "        continue\n",
    "    elif num%7 == 0 and num != 7 :\n",
    "        continue\n",
    "    elif num%(num)**(1/2) == 0 :\n",
    "        continue\n",
    "    else :\n",
    "        list53.append(num)\n",
    "print(\"List of prime numbers upto 50 is :\",list53)"
   ]
  },
  {
   "cell_type": "markdown",
   "id": "1d62fb01-c285-4ccc-99de-980a03467df1",
   "metadata": {},
   "source": [
    "### 34. Split a list into chunks of size `n`."
   ]
  },
  {
   "cell_type": "code",
   "execution_count": 8,
   "id": "e4798eed-0b9d-4a82-ab7b-adaddd1bbde8",
   "metadata": {},
   "outputs": [
    {
     "name": "stdin",
     "output_type": "stream",
     "text": [
      "Enter the elements of the list(separated by space) : 1 2 3 4 5 6 7 8 9 0\n",
      "Enter the number of chunks to split the list : 3\n"
     ]
    },
    {
     "name": "stdout",
     "output_type": "stream",
     "text": [
      "1 list is : ['1', '2', '3']\n",
      "2 list is : ['4', '5', '6']\n",
      "3 list is : ['7', '8', '9']\n",
      "4 list is : ['0']\n"
     ]
    }
   ],
   "source": [
    "import math\n",
    "\n",
    "list54 = list(input(\"Enter the elements of the list(separated by space) :\").split())\n",
    "size_n = int(input(\"Enter the number of chunks to split the list :\"))\n",
    "k = 0\n",
    "list55 = []\n",
    "list54_parts = math.ceil(len(list54)/size_n)\n",
    "\n",
    "for i in range(list54_parts) :\n",
    "    for j in range(size_n) :\n",
    "        if k < len(list54) :\n",
    "            list55 += list54[k]\n",
    "            k += 1\n",
    "    print(i+1,\"list is :\",list55)\n",
    "    list55.clear()"
   ]
  },
  {
   "cell_type": "markdown",
   "id": "d0439662-7608-4f6c-b923-101eca8bb52e",
   "metadata": {},
   "source": [
    "### 35. Find the second largest number in a list."
   ]
  },
  {
   "cell_type": "code",
   "execution_count": 14,
   "id": "5b0b4785-32f2-46bd-8ccd-06b2de802c9e",
   "metadata": {},
   "outputs": [
    {
     "name": "stdin",
     "output_type": "stream",
     "text": [
      "Enter the elements of the list : 5  6 2 4 \n"
     ]
    },
    {
     "name": "stdout",
     "output_type": "stream",
     "text": [
      "Second largest number in list is : 5\n"
     ]
    }
   ],
   "source": [
    "set10 = set(map(int,input(\"Enter the elements of the list :\").split()))\n",
    "list56 = list(set10)\n",
    "list56.sort()\n",
    "print(\"Second largest number in list is :\",list56[-2])"
   ]
  },
  {
   "cell_type": "markdown",
   "id": "54cad896-35ef-4258-9c92-1ec570f3e073",
   "metadata": {},
   "source": [
    "### 36. Replace every element in a list with its square."
   ]
  },
  {
   "cell_type": "code",
   "execution_count": 18,
   "id": "caeb6c1b-edb1-4864-b73b-851e358eb370",
   "metadata": {},
   "outputs": [
    {
     "name": "stdin",
     "output_type": "stream",
     "text": [
      "Enter the elements of the list : 1 2 3 4\n"
     ]
    },
    {
     "name": "stdout",
     "output_type": "stream",
     "text": [
      "[1, 4, 9, 16]\n"
     ]
    }
   ],
   "source": [
    "list57 = list(map(int,input(\"Enter the elements of the list :\").split()))\n",
    "\n",
    "for i in range(len(list57)) :\n",
    "    list57[i] = list57[i]**2\n",
    "print(list57)"
   ]
  },
  {
   "cell_type": "markdown",
   "id": "24e6cd4a-c7ed-4f4b-829d-e35bea008c71",
   "metadata": {},
   "source": [
    "### '''37. Convert a list to a dictionary where list elements become keys and their\n",
    "indices become values.'''"
   ]
  },
  {
   "cell_type": "code",
   "execution_count": 23,
   "id": "037f4038-0787-45d0-aa6a-2181588a3ae8",
   "metadata": {},
   "outputs": [
    {
     "name": "stdin",
     "output_type": "stream",
     "text": [
      "Enter the elements of the list : 1 2 3\n"
     ]
    },
    {
     "name": "stdout",
     "output_type": "stream",
     "text": [
      "{'1': 0, '2': 1, '3': 2}\n"
     ]
    }
   ],
   "source": [
    "list58 = list(input(\"Enter the elements of the list :\").split())\n",
    "\n",
    "dict1 = {}\n",
    "\n",
    "for i in range(len(list58)) :\n",
    "    dict1.update({list58[i] : i})\n",
    "print(dict1)"
   ]
  },
  {
   "cell_type": "markdown",
   "id": "78098349-250c-4f26-bb20-b270365b93ad",
   "metadata": {},
   "source": [
    "### 38. Shuffle the elements of a list randomly."
   ]
  },
  {
   "cell_type": "code",
   "execution_count": 1,
   "id": "c7a80a2e-6662-431f-9165-5d814ac3409b",
   "metadata": {},
   "outputs": [
    {
     "name": "stdin",
     "output_type": "stream",
     "text": [
      "Enter elements of the list : 1 2 3 4 5 6 7\n"
     ]
    },
    {
     "name": "stdout",
     "output_type": "stream",
     "text": [
      "['2', '6', '1', '5', '4', '3', '7']\n"
     ]
    }
   ],
   "source": [
    "import random\n",
    "\n",
    "list59 = list(input(\"Enter elements of the list :\").split())\n",
    "random.shuffle(list59)\n",
    "print(list59)"
   ]
  },
  {
   "cell_type": "markdown",
   "id": "2cf6e416-3b2d-4665-ac79-7c1b4de31100",
   "metadata": {},
   "source": [
    "### 39. Create a list of the first 10 factorial numbers."
   ]
  },
  {
   "cell_type": "code",
   "execution_count": 14,
   "id": "35a29fa4-1b68-42c9-94db-3b2596027da4",
   "metadata": {},
   "outputs": [
    {
     "name": "stdout",
     "output_type": "stream",
     "text": [
      "List of factorial of first 10 Numbers is : [1, 2, 6, 24, 120, 720, 5040, 40320, 362880, 3628800]\n"
     ]
    }
   ],
   "source": [
    "list60 = [1]\n",
    "for i in range(2,11) :\n",
    "    a = i\n",
    "    for j in range(i-1,0,-1) :\n",
    "        a *= j\n",
    "    list60.append(a)\n",
    "print(\"List of factorial of first 10 Numbers is :\",list60)"
   ]
  },
  {
   "cell_type": "markdown",
   "id": "138cacba-36f9-434d-8062-f6780a7776ae",
   "metadata": {},
   "source": [
    "### 40. Check if two lists have at least one element in common"
   ]
  },
  {
   "cell_type": "code",
   "execution_count": 16,
   "id": "222f5fb4-4d7b-4eba-b92e-e1b541b6dd90",
   "metadata": {},
   "outputs": [
    {
     "name": "stdin",
     "output_type": "stream",
     "text": [
      "Enter the element of first list : 1 2 3 4 5\n",
      "Enter the element of second list : 5 6 7 8\n"
     ]
    },
    {
     "name": "stdout",
     "output_type": "stream",
     "text": [
      "Common elements in both lists are : ['5']\n"
     ]
    }
   ],
   "source": [
    "list61 = input(\"Enter the element of first list :\").split()\n",
    "list62 = input(\"Enter the element of second list :\").split()\n",
    "list63 = []\n",
    "\n",
    "if len(list61) >= len(list62) :\n",
    "    for i in range(0,len(list61)) :\n",
    "        for j in range(0,len(list62)) :\n",
    "            if list61[i] == list62[j] :\n",
    "                list63 += list61[i]\n",
    "                \n",
    "else :\n",
    "    for i in range(0,len(list62)) :\n",
    "        for j in range(0,len(list61)) :\n",
    "            if list62[i] == list62[j] :\n",
    "                list63 += list62[i]\n",
    "\n",
    "if len(list63) > 0 :\n",
    "    print(\"Common elements in both lists are :\",list63)\n",
    "else :\n",
    "    print(\"There are no common elements in both lists.\")"
   ]
  },
  {
   "cell_type": "markdown",
   "id": "ef9d82ef-791f-4d8c-becd-c99cc7e095de",
   "metadata": {},
   "source": [
    "### 41. Remove all elements from a list."
   ]
  },
  {
   "cell_type": "code",
   "execution_count": 17,
   "id": "bb6ae98c-5005-48ac-946b-f1a561845504",
   "metadata": {},
   "outputs": [
    {
     "name": "stdout",
     "output_type": "stream",
     "text": [
      "Clear list is : []\n"
     ]
    }
   ],
   "source": [
    "list64 = [1,2,3,4]\n",
    "list64.clear()\n",
    "print(\"Clear list is :\",list64)"
   ]
  },
  {
   "cell_type": "markdown",
   "id": "4acdaad9-f494-4bc0-abbb-c5c3efd3ccd0",
   "metadata": {},
   "source": [
    "### 42. Replace negative numbers in a list with 0."
   ]
  },
  {
   "cell_type": "code",
   "execution_count": 3,
   "id": "eaf16616-fc46-4bd9-a606-33ec005c322d",
   "metadata": {},
   "outputs": [
    {
     "name": "stdin",
     "output_type": "stream",
     "text": [
      "Enter the elements of the list : 1 -2 3 4 -5\n"
     ]
    },
    {
     "name": "stdout",
     "output_type": "stream",
     "text": [
      "List without negative numbers : [1, 0, 3, 4, 0]\n"
     ]
    }
   ],
   "source": [
    "list65 = list(map(int,input(\"Enter the elements of the list :\").split()))\n",
    "\n",
    "for i in list65 :\n",
    "    if i < 0 :\n",
    "        i_index = list65.index(i)\n",
    "        list65[i_index] = 0\n",
    "print(\"List without negative numbers :\",list65)"
   ]
  },
  {
   "cell_type": "markdown",
   "id": "ff0fd032-9f02-4446-ae6c-1aa7bf8cfc4e",
   "metadata": {},
   "source": [
    "### 43. Convert a string into a list of words."
   ]
  },
  {
   "cell_type": "code",
   "execution_count": 4,
   "id": "cda20d1b-708e-44b3-af15-0d7bd2c8b136",
   "metadata": {},
   "outputs": [
    {
     "name": "stdin",
     "output_type": "stream",
     "text": [
      "Enter the string : hello bro, how are you.\n"
     ]
    },
    {
     "name": "stdout",
     "output_type": "stream",
     "text": [
      "List of words of the string : ['hello', 'bro,', 'how', 'are', 'you.']\n"
     ]
    }
   ],
   "source": [
    "list66 = input(\"Enter the string :\").split()\n",
    "print(\"List of words of the string :\",list66)"
   ]
  },
  {
   "cell_type": "markdown",
   "id": "ecefe742-ddd6-4d3c-8540-2f65a8bf529f",
   "metadata": {},
   "source": [
    "### 44. Convert a list of words into a string."
   ]
  },
  {
   "cell_type": "code",
   "execution_count": 6,
   "id": "c11a5f3c-4980-405b-9653-ae0350431a86",
   "metadata": {},
   "outputs": [
    {
     "name": "stdin",
     "output_type": "stream",
     "text": [
      "Enter words of the list : hey bro how are you ?\n"
     ]
    },
    {
     "name": "stdout",
     "output_type": "stream",
     "text": [
      "List is : ['hey', 'bro', 'how', 'are', 'you', '?']\n",
      "String of words of list is : hey bro how are you ?\n"
     ]
    }
   ],
   "source": [
    "list67 = input(\"Enter words of the list :\").split()\n",
    "print(\"List is :\",list67)\n",
    "str40 = \"\"\n",
    "for i in list67 :\n",
    "    str40 = \" \".join(list67)\n",
    "print(\"String of words of list is :\",str40)"
   ]
  },
  {
   "cell_type": "markdown",
   "id": "685dc583-3028-410e-bf33-05e55b8fd732",
   "metadata": {},
   "source": [
    "### 45. Create a list of the first `n` powers of 2."
   ]
  },
  {
   "cell_type": "code",
   "execution_count": 9,
   "id": "88a6b890-421e-4764-975c-a560a22a2a91",
   "metadata": {},
   "outputs": [
    {
     "name": "stdin",
     "output_type": "stream",
     "text": [
      "Enter the the poewr till which you wanna list of 2's powers : 5\n"
     ]
    },
    {
     "name": "stdout",
     "output_type": "stream",
     "text": [
      "List of the first `n` powers of 2 is : [2, 4, 8, 16, 32]\n"
     ]
    }
   ],
   "source": [
    "n2 = int(input(\"Enter the the poewr till which you wanna list of 2's powers :\"))\n",
    "list68 = []\n",
    "\n",
    "for i in range(1,n2+1) :\n",
    "    list68.append(2**i)\n",
    "print(\"List of the first `n` powers of 2 is :\",list68)"
   ]
  },
  {
   "cell_type": "markdown",
   "id": "724ba752-9ced-4d82-9546-437af8b31e77",
   "metadata": {},
   "source": [
    "### 46. Find the longest string in a list of strings"
   ]
  },
  {
   "cell_type": "code",
   "execution_count": 11,
   "id": "59dcbbfb-718a-4d24-be00-a95aef766cc4",
   "metadata": {},
   "outputs": [
    {
     "name": "stdin",
     "output_type": "stream",
     "text": [
      "Enter string element of the list(separated by commas) : hey,bro,in,which,college,do,you,study\n"
     ]
    },
    {
     "name": "stdout",
     "output_type": "stream",
     "text": [
      "Longest string in the list is : college\n"
     ]
    }
   ],
   "source": [
    "list69 = input(\"Enter string element of the list(separated by commas) :\").split(\",\")\n",
    "a = 0\n",
    "b = 0\n",
    "c = \"\"\n",
    "d = \"\"\n",
    "for i in range(len(list69) - 1) :\n",
    "    a = len(list69[i])\n",
    "    if a == len(list69[i+1]) :\n",
    "        b = len(list69[i+1])\n",
    "        c = list69[i+1]\n",
    "    elif a < len(list69[i+1]) and b <= len(list69[i+1]) :\n",
    "        b = len(list69[i+1])\n",
    "        c = list69[i+1]\n",
    "    else :\n",
    "        d = list69[i]\n",
    "if len(d) <= len(c) :\n",
    "    print(\"Longest string in the list is :\",c)\n",
    "else :\n",
    "    print(\"longest string is the list is :\",d)"
   ]
  },
  {
   "cell_type": "markdown",
   "id": "11772fda-0464-4936-b8f4-3a45f4d66d3f",
   "metadata": {},
   "source": [
    "### 47. Find the shortest string in a list of strings."
   ]
  },
  {
   "cell_type": "code",
   "execution_count": 4,
   "id": "41b8eb5f-4dd2-4056-918a-a0e123fd44ee",
   "metadata": {},
   "outputs": [
    {
     "name": "stdin",
     "output_type": "stream",
     "text": [
      "Enter the elements of the list(separated by commas) : hey,bro,what,is,your,name\n"
     ]
    },
    {
     "name": "stdout",
     "output_type": "stream",
     "text": [
      "Shortest string in list is : \n"
     ]
    }
   ],
   "source": [
    "list70 = input(\"Enter the elements of the list(separated by commas) :\").split(\",\")\n",
    "a = 0\n",
    "b = 0\n",
    "c = \"\"\n",
    "d = \"\"\n",
    "\n",
    "for i in range(len(list70)-1) :\n",
    "    a = len(list70[i])\n",
    "    \n",
    "    if a == len(list70[i+1]) :\n",
    "        b = len(list70[i+1])\n",
    "        c = list70[i+1]\n",
    "    elif a > len(list70[i+1]) and b >= len(list70[i+1]) :\n",
    "        b = len(list70[i+1])\n",
    "        c = list70[i+1]\n",
    "if len(d) <= len(c) :\n",
    "    print(\"Shortest string in list is :\",d)\n",
    "else :\n",
    "    print(\"Shortest string in list is :\",c)"
   ]
  },
  {
   "cell_type": "markdown",
   "id": "e123de43-9c6d-4763-84a0-bec1e8609f4a",
   "metadata": {},
   "source": [
    "### 48. Create a list of the first `n` triangular numbers.`"
   ]
  },
  {
   "cell_type": "code",
   "execution_count": 8,
   "id": "76d770f0-45d6-4a95-9ad9-aeb5bef18635",
   "metadata": {},
   "outputs": [
    {
     "name": "stdin",
     "output_type": "stream",
     "text": [
      "Enter the number of element of list : 8\n"
     ]
    },
    {
     "name": "stdout",
     "output_type": "stream",
     "text": [
      "List of first 8 triangular numbesr is : [1, 3, 6, 10, 15, 21, 28, 36]\n"
     ]
    }
   ],
   "source": [
    "tri_n = int(input(\"Enter the number of element of list :\"))\n",
    "a = 0\n",
    "list71 = []\n",
    "\n",
    "for i in range(1,tri_n+1) :\n",
    "    a += i\n",
    "    list71.append(a)\n",
    "print(\"List of first\",tri_n,\"triangular numbesr is :\",list71)"
   ]
  },
  {
   "cell_type": "markdown",
   "id": "c946e1d5-96ee-4d45-a8dc-3b01c80f447a",
   "metadata": {},
   "source": [
    "### 49. Check if a list contains another list as a subsequence."
   ]
  },
  {
   "cell_type": "code",
   "execution_count": 20,
   "id": "d190140e-c55f-4576-88a2-d64bb605e5ce",
   "metadata": {},
   "outputs": [
    {
     "name": "stdout",
     "output_type": "stream",
     "text": [
      "Sublists in the main list are : [['hello'], ['new']]\n"
     ]
    }
   ],
   "source": [
    "list72 = [12,23,65,[\"hello\"],756,85,[\"new\"]]\n",
    "list73 = []\n",
    "\n",
    "for i in list72 :\n",
    "    if type(i) == list :\n",
    "        list73.append(i)\n",
    "if len(list72) > 0 :\n",
    "    print(\"Sublists in the main list are :\",list73)\n",
    "else :\n",
    "    print(\"There are no sublists in the main list.\")"
   ]
  },
  {
   "cell_type": "markdown",
   "id": "8dafb922-c49e-4dda-b3d8-19c78b543fec",
   "metadata": {},
   "source": [
    "### 50. Swap two elements in a list by their indices."
   ]
  },
  {
   "cell_type": "code",
   "execution_count": 17,
   "id": "052dd718-1c3c-417e-80cf-f07d8afae51e",
   "metadata": {},
   "outputs": [
    {
     "name": "stdin",
     "output_type": "stream",
     "text": [
      "Enter the elements of the list : 1 2 3 4 5 6 7 8 9\n",
      "Enter the indices of the element which you wanna swap : 3 8\n"
     ]
    },
    {
     "name": "stdout",
     "output_type": "stream",
     "text": [
      "Updated list is : ['1', '2', '3', '9', '5', '6', '7', '8', '4']\n"
     ]
    }
   ],
   "source": [
    "list74 = input(\"Enter the elements of the list :\").split()\n",
    "\n",
    "\n",
    "a,b = map(int,input(\"Enter the indices of the element which you wanna swap :\").split())\n",
    "\n",
    "if a <= len(list74) -1 and b <= len(list74) -1 :\n",
    "    list74[a],list74[b] = list74[b],list74[a]\n",
    "    print(\"Updated list is :\",list74)\n",
    "else :\n",
    "    print(\"Enter valid indices.\")"
   ]
  },
  {
   "cell_type": "markdown",
   "id": "2955daca-4452-4335-9ef1-d0f2b96eef93",
   "metadata": {},
   "source": [
    "# Tuple Based Practice Problem :"
   ]
  },
  {
   "cell_type": "markdown",
   "id": "a1740c19-6965-43fb-b4cb-7d7f02121907",
   "metadata": {},
   "source": [
    "### 1. Create a tuple with integers from 1 to 5."
   ]
  },
  {
   "cell_type": "code",
   "execution_count": 18,
   "id": "84fc0ad9-b524-4001-96cf-bad583b8bca9",
   "metadata": {},
   "outputs": [
    {
     "name": "stdout",
     "output_type": "stream",
     "text": [
      "(1, 2, 3, 4, 5)\n"
     ]
    }
   ],
   "source": [
    "tuple1 = (1,2,3,4,5)\n",
    "print(tuple1)"
   ]
  },
  {
   "cell_type": "markdown",
   "id": "377acaf7-611b-49f0-8224-7cf529cd48f4",
   "metadata": {},
   "source": [
    "### 2. Access the third element of a tuple."
   ]
  },
  {
   "cell_type": "code",
   "execution_count": 19,
   "id": "fbef8fd1-08e6-4d46-914a-333b7130e4f5",
   "metadata": {},
   "outputs": [
    {
     "name": "stdout",
     "output_type": "stream",
     "text": [
      "Third element of the tuple is : 3\n"
     ]
    }
   ],
   "source": [
    "tuple2 = (1,2,3,4,5,6,7,8,9)\n",
    "print(\"Third element of the tuple is :\",tuple2[2])"
   ]
  },
  {
   "cell_type": "markdown",
   "id": "b89e456e-5006-4558-b883-d274a33ba583",
   "metadata": {},
   "source": [
    "### 3. Find the length of a tuple without using the `len()` function."
   ]
  },
  {
   "cell_type": "code",
   "execution_count": 20,
   "id": "1c423b46-987d-4062-b671-888ed6e5545a",
   "metadata": {},
   "outputs": [
    {
     "name": "stdin",
     "output_type": "stream",
     "text": [
      "Enter the elements of the tuple : 1 2 3 hello bro\n"
     ]
    },
    {
     "name": "stdout",
     "output_type": "stream",
     "text": [
      "Length of tupke is : 5\n"
     ]
    }
   ],
   "source": [
    "tuple3 = tuple(input(\"Enter the elements of the tuple :\").split())\n",
    "len_tuple3 = 0\n",
    "\n",
    "for i in tuple3 :\n",
    "    len_tuple3 += 1\n",
    "print(\"Length of tupke is :\",len_tuple3)"
   ]
  },
  {
   "cell_type": "markdown",
   "id": "cfbdbeba-3827-485d-ac6e-82293a69707f",
   "metadata": {},
   "source": [
    "### 4. Count the occurrences of an element in a tuple."
   ]
  },
  {
   "cell_type": "code",
   "execution_count": 21,
   "id": "66255a8a-222e-465d-b3fd-89aa5361c39d",
   "metadata": {},
   "outputs": [
    {
     "name": "stdin",
     "output_type": "stream",
     "text": [
      "Enter the elements of tuple : 1 2 3 4 5 6 1 2 3 7 8 9 0 3\n",
      "Enter the element whose occurence you wanna check : 3\n"
     ]
    },
    {
     "name": "stdout",
     "output_type": "stream",
     "text": [
      "Occurence of 3 in tuple is : 3\n"
     ]
    }
   ],
   "source": [
    "tuple4 = tuple(input(\"Enter the elements of tuple :\").split())\n",
    "ele_tuple4 = input(\"Enter the element whose occurence you wanna check :\")\n",
    "\n",
    "oc_ele_tuple4 = tuple4.count(ele_tuple4)\n",
    "print(\"Occurence of\",ele_tuple4,\"in tuple is :\",oc_ele_tuple4)\n"
   ]
  },
  {
   "cell_type": "markdown",
   "id": "47718a5e-e0de-4276-a97b-f530cdad5540",
   "metadata": {},
   "source": [
    "### 5. Find the index of the first occurrence of an element in a tuple."
   ]
  },
  {
   "cell_type": "code",
   "execution_count": 6,
   "id": "da3c0e79-29a0-445c-adf5-13f8d2469b46",
   "metadata": {},
   "outputs": [
    {
     "name": "stdin",
     "output_type": "stream",
     "text": [
      "Enter the elements of the tuple : 1 2 3 4 5 1 2 3 0 4 6\n",
      "Enter the element whose first occurence you wanna check in tuple : 7\n"
     ]
    },
    {
     "name": "stdout",
     "output_type": "stream",
     "text": [
      "Element doesn't exists in tuple.\n"
     ]
    }
   ],
   "source": [
    "tuple5 = tuple(input(\"Enter the elements of the tuple :\").split())\n",
    "ele_tuple5 = input(\"Enter the element whose first occurence you wanna check in tuple :\")\n",
    "\n",
    "if ele_tuple5 in tuple5 :\n",
    "    print(\"First occurence of\",ele_tuple5,\"in tuple is at index number :\",tuple5.index(ele_tuple5))\n",
    "else :\n",
    "    print(\"Element doesn't exists in tuple.\")"
   ]
  },
  {
   "cell_type": "markdown",
   "id": "2f7b0337-b711-4732-a4b2-7d2263d864d2",
   "metadata": {},
   "source": [
    "### 6. Check if an element exists in a tuple."
   ]
  },
  {
   "cell_type": "code",
   "execution_count": 10,
   "id": "16d547b8-efb9-4ff9-83c2-bf4f0f73e2e2",
   "metadata": {},
   "outputs": [
    {
     "name": "stdin",
     "output_type": "stream",
     "text": [
      "Enter the elements of the tuple : 1 2 3 4 5\n",
      "Enter the element existence you wanna check in tuple : 0\n"
     ]
    },
    {
     "name": "stdout",
     "output_type": "stream",
     "text": [
      "Element doesn't exists in tuple.\n"
     ]
    }
   ],
   "source": [
    "tuple6 = tuple(input(\"Enter the elements of the tuple :\").split())\n",
    "ele_tuple6 = input(\"Enter the element existence you wanna check in tuple :\")\n",
    "\n",
    "if ele_tuple6 in tuple6 :\n",
    "    print(ele_tuple6,\"exists in tuple at index number :\",tuple6.index(ele_tuple6))\n",
    "else :\n",
    "    print(\"Element doesn't exists in tuple.\")"
   ]
  },
  {
   "cell_type": "markdown",
   "id": "689357ba-0a9f-4228-bf20-2ad2f9687a62",
   "metadata": {},
   "source": [
    "### 7. Convert a tuple to a list."
   ]
  },
  {
   "cell_type": "code",
   "execution_count": 11,
   "id": "ce7e7a7f-b103-4edb-b7f3-da2b0778e174",
   "metadata": {},
   "outputs": [
    {
     "name": "stdout",
     "output_type": "stream",
     "text": [
      "Tuple converted to list is : [1, 2, 3, 4, 5]\n"
     ]
    }
   ],
   "source": [
    "tuple7 = (1,2,3,4,5)\n",
    "list75 = list(tuple7)\n",
    "print(\"Tuple converted to list is :\",list75)"
   ]
  },
  {
   "cell_type": "markdown",
   "id": "e58df8f2-3e3b-4380-8d61-400f38d23d5d",
   "metadata": {},
   "source": [
    "### 8. Convert a list to a tuple."
   ]
  },
  {
   "cell_type": "code",
   "execution_count": 12,
   "id": "f0a75db3-c615-4aa9-9692-9696894c41ae",
   "metadata": {},
   "outputs": [
    {
     "name": "stdout",
     "output_type": "stream",
     "text": [
      "List converted to Tuple is : (1, 2, 3, 4, 5)\n"
     ]
    }
   ],
   "source": [
    "list76 = [1,2,3,4,5]\n",
    "tuple8 = tuple(list76)\n",
    "print(\"List converted to Tuple is :\",tuple8)"
   ]
  },
  {
   "cell_type": "markdown",
   "id": "b3d3c870-f99e-479a-9507-4be589e42788",
   "metadata": {},
   "source": [
    "### 9. Unpack the elements of a tuple into variables"
   ]
  },
  {
   "cell_type": "code",
   "execution_count": 4,
   "id": "56781910-448e-4ac7-a366-6acc33d52b7d",
   "metadata": {},
   "outputs": [
    {
     "name": "stdin",
     "output_type": "stream",
     "text": [
      "Enter the elements of tuple(3) : 1 2 3\n"
     ]
    },
    {
     "name": "stdout",
     "output_type": "stream",
     "text": [
      "Variable 1 : 1\n",
      "Variable 2 : 2\n",
      "Variable 3 : 3\n"
     ]
    }
   ],
   "source": [
    "tuple9 = tuple(input(\"Enter the elements of tuple(3) :\").split())\n",
    "a,b,c = tuple9\n",
    "print(\"Variable 1 :\",a)\n",
    "print(\"Variable 2 :\",b)\n",
    "print(\"Variable 3 :\",c)"
   ]
  },
  {
   "cell_type": "markdown",
   "id": "50e77868-3667-4d19-9e9c-44c240d71f9b",
   "metadata": {},
   "source": [
    "### 10. Create a tuple of even numbers from 1 to 10."
   ]
  },
  {
   "cell_type": "code",
   "execution_count": 9,
   "id": "e99d528f-809f-45f2-9cb5-a7768a735c4f",
   "metadata": {},
   "outputs": [
    {
     "name": "stdout",
     "output_type": "stream",
     "text": [
      "Tuple of even numbers from 1 to 10 is : (2, 4, 6, 8, 10)\n"
     ]
    }
   ],
   "source": [
    "list76 = []\n",
    "\n",
    "for i in range(1,11) :\n",
    "    if i%2 == 0 :\n",
    "        list76.append(i)\n",
    "tuple10 = tuple(list76)\n",
    "print(\"Tuple of even numbers from 1 to 10 is :\",tuple10)"
   ]
  },
  {
   "cell_type": "markdown",
   "id": "f7a323e8-d1d4-4480-8845-bc181ee12a2a",
   "metadata": {},
   "source": [
    "### 11. Create a tuple of odd numbers from 1 to 10."
   ]
  },
  {
   "cell_type": "code",
   "execution_count": 13,
   "id": "824f8c13-7f28-40fa-a25d-ab5b4a69118f",
   "metadata": {},
   "outputs": [
    {
     "name": "stdout",
     "output_type": "stream",
     "text": [
      "Tuple of odd numbers from 1 to 10 is : (1, 3, 5, 7, 9)\n"
     ]
    }
   ],
   "source": [
    "list77 = [i for i in range(1,11,2)]\n",
    "tuple11 = tuple(list77)\n",
    "print(\"Tuple of odd numbers from 1 to 10 is :\",tuple11)"
   ]
  },
  {
   "cell_type": "markdown",
   "id": "93f4c98f-cd18-4616-b6b7-28fb53fbe140",
   "metadata": {},
   "source": [
    "### 12. Concatenate two tuples."
   ]
  },
  {
   "cell_type": "code",
   "execution_count": 14,
   "id": "50dea582-fe1e-4f08-8cb4-ebdf34f20b8b",
   "metadata": {},
   "outputs": [
    {
     "name": "stdout",
     "output_type": "stream",
     "text": [
      "Concated tuple is : (1, 2, 3, 4, 5, 6, 7, 8)\n"
     ]
    }
   ],
   "source": [
    "tuple12 = (1,2,3,4)\n",
    "tuple13 = (5,6,7,8)\n",
    "tuple14 = tuple12 + tuple13\n",
    "print(\"Concated tuple is :\",tuple14)"
   ]
  },
  {
   "cell_type": "markdown",
   "id": "48c39918-c453-489b-a092-d99fee65acd6",
   "metadata": {},
   "source": [
    "### 13. Repeat a tuple three times"
   ]
  },
  {
   "cell_type": "code",
   "execution_count": 15,
   "id": "e39133cc-7247-427c-b603-8b69f9956947",
   "metadata": {},
   "outputs": [
    {
     "name": "stdout",
     "output_type": "stream",
     "text": [
      "3 times repeated tuple is : (1, 2, 3, 4, 5, 1, 2, 3, 4, 5, 1, 2, 3, 4, 5)\n"
     ]
    }
   ],
   "source": [
    "tuple15 = (1,2,3,4,5)\n",
    "tuple16 = tuple15*3\n",
    "print(\"3 times repeated tuple is :\",tuple16)"
   ]
  },
  {
   "cell_type": "markdown",
   "id": "c1180cd7-f0c4-4478-b0ec-c163426e2448",
   "metadata": {},
   "source": [
    "### 14. Check if a tuple is empty."
   ]
  },
  {
   "cell_type": "code",
   "execution_count": 16,
   "id": "f314a1cc-f2c9-4fbb-b7f3-dcaf3d6ec3b1",
   "metadata": {},
   "outputs": [
    {
     "name": "stdout",
     "output_type": "stream",
     "text": [
      "tuple17 is not empty.\n",
      "tuple18 is empty.\n"
     ]
    }
   ],
   "source": [
    "tuple17 = (1,2,3)\n",
    "tuple18 = ()\n",
    "\n",
    "if not tuple17 :\n",
    "    print(\"tuple17 is empty.\")\n",
    "else :\n",
    "    print(\"tuple17 is not empty.\")\n",
    "if not tuple18 :\n",
    "    print(\"tuple18 is empty.\")\n",
    "else :\n",
    "    print(\"tuple18 is not empty.\")"
   ]
  },
  {
   "cell_type": "markdown",
   "id": "ccd7b015-2b57-4024-a130-0530823b0fba",
   "metadata": {},
   "source": [
    "### 15. Create a nested tuple."
   ]
  },
  {
   "cell_type": "code",
   "execution_count": 17,
   "id": "7a574807-2868-4526-bfe6-246e79f2a3ec",
   "metadata": {},
   "outputs": [
    {
     "name": "stdout",
     "output_type": "stream",
     "text": [
      "Nested tuple is : ((1, 2, 3), ('Hero', 'Balveer'), ('@', '$'))\n"
     ]
    }
   ],
   "source": [
    "nested_tuple1 = ((1,2,3),(\"Hero\",\"Balveer\"),(\"@\",\"$\"))\n",
    "print(\"Nested tuple is :\",nested_tuple1)"
   ]
  },
  {
   "cell_type": "markdown",
   "id": "69754595-1250-474f-9f56-c7e61b4ad557",
   "metadata": {},
   "source": [
    "### 16. Access the first element of a nested tuple."
   ]
  },
  {
   "cell_type": "code",
   "execution_count": 19,
   "id": "6a3b9601-54ed-4e6d-b7e0-ef86683f5af4",
   "metadata": {},
   "outputs": [
    {
     "name": "stdout",
     "output_type": "stream",
     "text": [
      "First element of nested tuple is : (1, 2, 3)\n"
     ]
    }
   ],
   "source": [
    "nested_tuple2 = ((1,2,3),(\"Hero\",\"Balveer\"),(\"@\",\"$\"))\n",
    "nested_ele1 = nested_tuple2[0]\n",
    "print(\"First element of nested tuple is :\",nested_ele1)"
   ]
  },
  {
   "cell_type": "markdown",
   "id": "c8dfacd5-2b2d-4f0a-b835-c2d655fed6a6",
   "metadata": {},
   "source": [
    "### 17. Create a tuple with a single element."
   ]
  },
  {
   "cell_type": "code",
   "execution_count": 21,
   "id": "67e34939-429f-4d90-bf59-a5d03d88772c",
   "metadata": {},
   "outputs": [
    {
     "name": "stdout",
     "output_type": "stream",
     "text": [
      "tuple of single element is : (9,)\n"
     ]
    }
   ],
   "source": [
    "tuple19= (9,)\n",
    "print(\"tuple of single element is :\",tuple19)"
   ]
  },
  {
   "cell_type": "markdown",
   "id": "372c9288-9496-4ba6-bbd9-d84f4a055bba",
   "metadata": {},
   "source": [
    "### 18. Compare two tuples."
   ]
  },
  {
   "cell_type": "code",
   "execution_count": 22,
   "id": "4fbe43a0-3fa5-444e-b9a4-d7e7a8a20608",
   "metadata": {},
   "outputs": [
    {
     "name": "stdout",
     "output_type": "stream",
     "text": [
      "tuple20 is greater than tuple21\n"
     ]
    }
   ],
   "source": [
    "tuple20 = (1,2,3,4)\n",
    "tuple21 = (1,2,3)\n",
    "\n",
    "if tuple20 > tuple21 :\n",
    "    print(\"tuple20 is greater than tuple21\")\n",
    "elif tuple20 < tuple21 :\n",
    "    print(\"tuple20 is lesser than tuple21\")\n",
    "else :\n",
    "    print(\"Both the tuples are equal.\")"
   ]
  },
  {
   "cell_type": "markdown",
   "id": "a1ea72c9-e473-4556-88c6-9c5eb279cdfb",
   "metadata": {},
   "source": [
    "### 19. Delete a tuple."
   ]
  },
  {
   "cell_type": "code",
   "execution_count": 23,
   "id": "851fc5bb-90f7-4c48-801c-a39a05b850a0",
   "metadata": {},
   "outputs": [
    {
     "ename": "NameError",
     "evalue": "name 'tuple22' is not defined",
     "output_type": "error",
     "traceback": [
      "\u001b[0;31m---------------------------------------------------------------------------\u001b[0m",
      "\u001b[0;31mNameError\u001b[0m                                 Traceback (most recent call last)",
      "Cell \u001b[0;32mIn[23], line 5\u001b[0m\n\u001b[1;32m      3\u001b[0m tuple22 \u001b[38;5;241m=\u001b[39m (\u001b[38;5;124m\"\u001b[39m\u001b[38;5;124mName\u001b[39m\u001b[38;5;124m\"\u001b[39m)\n\u001b[1;32m      4\u001b[0m \u001b[38;5;28;01mdel\u001b[39;00m tuple22\n\u001b[0;32m----> 5\u001b[0m \u001b[38;5;28mprint\u001b[39m(\u001b[43mtuple22\u001b[49m)\n",
      "\u001b[0;31mNameError\u001b[0m: name 'tuple22' is not defined"
     ]
    }
   ],
   "source": [
    "tuple22 = (\"Name\")\n",
    "del tuple22\n",
    "print(tuple22)     #There will be a name error due to deletion of the tuple."
   ]
  },
  {
   "cell_type": "markdown",
   "id": "bf24b072-0749-42e8-b5d8-4dbd9e2f3d20",
   "metadata": {},
   "source": [
    "### 20. Slice a tuple."
   ]
  },
  {
   "cell_type": "code",
   "execution_count": 30,
   "id": "c7383b9b-b5f3-4335-937b-c2cf4005b11b",
   "metadata": {},
   "outputs": [
    {
     "name": "stdin",
     "output_type": "stream",
     "text": [
      "Enter the element of the tuple: 1 2 3 4 5\n",
      "Enter the lower and upper index value of slicing : 2 4\n"
     ]
    },
    {
     "name": "stdout",
     "output_type": "stream",
     "text": [
      "Sliced tuple is : ('3', '4', '5')\n"
     ]
    }
   ],
   "source": [
    "tuple23 = tuple(input(\"Enter the element of the tuple:\").split())\n",
    "a,b = map(int,input(\"Enter the lower and upper index value of slicing :\").split())\n",
    "\n",
    "if a < len(tuple23) and b < len(tuple23) :\n",
    "    sliced_tuple23 = tuple23[a:b+1]\n",
    "    print(\"Sliced tuple is :\",sliced_tuple23)\n",
    "else :\n",
    "    print(\"Enter valid indices value.\")"
   ]
  },
  {
   "cell_type": "markdown",
   "id": "9e869328-d632-4d7d-9ba8-d8d645a9f322",
   "metadata": {},
   "source": [
    "### 21. Find the maximum value in a tuple."
   ]
  },
  {
   "cell_type": "code",
   "execution_count": 32,
   "id": "125f242f-258d-4722-a751-13975b654adc",
   "metadata": {},
   "outputs": [
    {
     "name": "stdin",
     "output_type": "stream",
     "text": [
      "Enter the element of the tuple : 1 2 9 3 5 0 8\n"
     ]
    },
    {
     "name": "stdout",
     "output_type": "stream",
     "text": [
      "Maximum value in tuple is : 9\n"
     ]
    }
   ],
   "source": [
    "tuple24 = tuple(map(int,input(\"Enter the element of the tuple :\").split()))\n",
    "a = 0\n",
    "\n",
    "for i in tuple24 :\n",
    "    if i > a:\n",
    "        a = i\n",
    "print(\"Maximum value in tuple is :\",a)"
   ]
  },
  {
   "cell_type": "markdown",
   "id": "b88b225b-a2a3-4104-aab0-299671c5600e",
   "metadata": {},
   "source": [
    "### 22. Find the minimum value in a tuple"
   ]
  },
  {
   "cell_type": "code",
   "execution_count": 33,
   "id": "72c0a0f3-4796-4442-a105-7322c1818545",
   "metadata": {},
   "outputs": [
    {
     "name": "stdin",
     "output_type": "stream",
     "text": [
      "Enter the element of the tuple : 1 2 0 5 6\n"
     ]
    },
    {
     "name": "stdout",
     "output_type": "stream",
     "text": [
      "Minimum value in tuple is : 0\n"
     ]
    }
   ],
   "source": [
    "tuple25 = tuple(map(int,input(\"Enter the element of the tuple :\").split()))\n",
    "a = 0\n",
    "\n",
    "for i in tuple24 :\n",
    "    if i <= a:\n",
    "        a = i\n",
    "print(\"Minimum value in tuple is :\",a)"
   ]
  },
  {
   "cell_type": "markdown",
   "id": "1f78fe81-35b1-4b7b-9c83-c76c56c87a02",
   "metadata": {},
   "source": [
    "### 23. Convert a string to a tuple of characters."
   ]
  },
  {
   "cell_type": "code",
   "execution_count": 39,
   "id": "736dce38-ff0b-412a-90eb-2f51783ed8b3",
   "metadata": {},
   "outputs": [
    {
     "name": "stdout",
     "output_type": "stream",
     "text": [
      "String converted to tuple of characters is : ('L', 'a', 'l', 'i', 't')\n"
     ]
    }
   ],
   "source": [
    "tuple26 = ()\n",
    "str42 = \"Lalit\"\n",
    "for i in str42:\n",
    "    tuple26 += tuple(i)\n",
    "print(\"String converted to tuple of characters is :\",tuple26)"
   ]
  },
  {
   "cell_type": "markdown",
   "id": "d0d9f736-fc18-40d7-9bb6-25c8361509c5",
   "metadata": {},
   "source": [
    "### 24. Convert a tuple of characters to a string."
   ]
  },
  {
   "cell_type": "code",
   "execution_count": 40,
   "id": "9e2ad938-38df-4354-9353-23365a29cac3",
   "metadata": {},
   "outputs": [
    {
     "name": "stdout",
     "output_type": "stream",
     "text": [
      "Tuple of characters converted to string is : Lalit\n"
     ]
    }
   ],
   "source": [
    "str43 = \"\"\n",
    "tuple27 = (\"L\",\"a\",\"l\",\"i\",\"t\")\n",
    "for i in tuple27 :\n",
    "    str43 += i\n",
    "print(\"Tuple of characters converted to string is :\",str43)"
   ]
  },
  {
   "cell_type": "markdown",
   "id": "55dab33a-3d1a-4384-9bd1-4a587a352388",
   "metadata": {},
   "source": [
    "### 25. Create a tuple from multiple data types."
   ]
  },
  {
   "cell_type": "code",
   "execution_count": 41,
   "id": "a07aa7b0-f70e-4b0e-abda-9a64d6519b1a",
   "metadata": {},
   "outputs": [
    {
     "name": "stdout",
     "output_type": "stream",
     "text": [
      "Tuple of multiple datatypes is : (1, 'Hello', True, 1.2, 'Hey Bro', [1, 2, 3], {'Key': 'Value'})\n"
     ]
    }
   ],
   "source": [
    "tuple28 = (1,\"Hello\",True,1.2,(\"Hey Bro\"),[1,2,3],{\"Key\" : \"Value\"})\n",
    "print(\"Tuple of multiple datatypes is :\",tuple28)"
   ]
  },
  {
   "cell_type": "markdown",
   "id": "eb2f0564-1412-44a0-ae2e-5d6e08b0a8c2",
   "metadata": {},
   "source": [
    "### 26. Check if two tuples are identical."
   ]
  },
  {
   "cell_type": "code",
   "execution_count": 43,
   "id": "6c57a626-41fc-45b1-b33a-1843b4a3ecea",
   "metadata": {},
   "outputs": [
    {
     "name": "stdin",
     "output_type": "stream",
     "text": [
      "Enter the elements of first tuple : 1 2 3 4\n",
      "Enter the elements of second tuple : 1 2 3\n"
     ]
    },
    {
     "name": "stdout",
     "output_type": "stream",
     "text": [
      "Tuples are inidentical.\n"
     ]
    }
   ],
   "source": [
    "tuple29 = tuple(input(\"Enter the elements of first tuple :\").split())\n",
    "tuple30 = tuple(input(\"Enter the elements of second tuple :\").split())\n",
    "\n",
    "if tuple29 == tuple30 :\n",
    "    print(\"Both the tuples are identical.\")\n",
    "else :\n",
    "    print(\"Tuples are inidentical.\")"
   ]
  },
  {
   "cell_type": "markdown",
   "id": "e7b5c106-5d97-4594-92f2-77d8763d6c8b",
   "metadata": {},
   "source": [
    "### 27. Sort the elements of a tuple."
   ]
  },
  {
   "cell_type": "code",
   "execution_count": 2,
   "id": "13a255bd-bf5b-490d-84ee-35ad6e6ec742",
   "metadata": {},
   "outputs": [
    {
     "name": "stdin",
     "output_type": "stream",
     "text": [
      "Enter the elements of tuple : 1 2 0 7 2 3 5\n"
     ]
    },
    {
     "name": "stdout",
     "output_type": "stream",
     "text": [
      "Sorted tuple is : ('0', '1', '2', '2', '3', '5', '7')\n"
     ]
    }
   ],
   "source": [
    "tuple31 = tuple(input(\"Enter the elements of tuple :\").split())\n",
    "tuple31 = tuple(sorted(tuple31))\n",
    "print(\"Sorted tuple is :\",tuple31)"
   ]
  },
  {
   "cell_type": "markdown",
   "id": "45cc58f2-fbdf-410b-8fa5-bdedb9dbbdc8",
   "metadata": {},
   "source": [
    "### 28. Convert a tuple of integers to a tuple of strings."
   ]
  },
  {
   "cell_type": "code",
   "execution_count": 4,
   "id": "739a3575-a965-4345-a641-0eb5ac2307ce",
   "metadata": {},
   "outputs": [
    {
     "name": "stdout",
     "output_type": "stream",
     "text": [
      "Tuple of strings : ('1', '2', '3', '4', '5')\n"
     ]
    }
   ],
   "source": [
    "tuple32 = (1,2,3,4,5)\n",
    "list77 = [str(i) for i in tuple32]\n",
    "tuple33 = tuple(list77)\n",
    "print(\"Tuple of strings :\",tuple33)"
   ]
  },
  {
   "cell_type": "markdown",
   "id": "6169afc4-971f-4dec-b46b-5a73617a7578",
   "metadata": {},
   "source": [
    "### 29. Convert a tuple of strings to a tuple of integers."
   ]
  },
  {
   "cell_type": "code",
   "execution_count": 6,
   "id": "1699a594-fb03-4ebf-b32f-c34649dc436b",
   "metadata": {},
   "outputs": [
    {
     "name": "stdout",
     "output_type": "stream",
     "text": [
      "Tuple of integers : (1, 2, 3, 4, 5)\n"
     ]
    }
   ],
   "source": [
    "tuple34 = (1,2,3,4,5)\n",
    "tuple34 = tuple(int(i) for i in tuple34)\n",
    "print(\"Tuple of integers :\",tuple34)          "
   ]
  },
  {
   "cell_type": "markdown",
   "id": "75571201-b823-4dd2-b2d7-2159dfaeadba",
   "metadata": {},
   "source": [
    "### 30. Merge two tuples."
   ]
  },
  {
   "cell_type": "code",
   "execution_count": 7,
   "id": "4774a154-65c3-4261-a24b-da04a5bb9811",
   "metadata": {},
   "outputs": [
    {
     "name": "stdout",
     "output_type": "stream",
     "text": [
      "Merged tuple is : (1, 2, 3, 4, 5, 6)\n"
     ]
    }
   ],
   "source": [
    "tuple35 = (1,2,3)\n",
    "tuple36 = (4,5,6)\n",
    "merged_tuple = tuple35 + tuple36\n",
    "print(\"Merged tuple is :\",merged_tuple)"
   ]
  },
  {
   "cell_type": "markdown",
   "id": "31322cb1-53aa-43f8-b5fa-d32884703af2",
   "metadata": {},
   "source": [
    "### 31. Flatten a nested tuple"
   ]
  },
  {
   "cell_type": "code",
   "execution_count": 13,
   "id": "7d950828-1c96-4bb0-b49d-2ba629e62385",
   "metadata": {},
   "outputs": [
    {
     "name": "stdout",
     "output_type": "stream",
     "text": [
      "(1, 2, 3, 4, 'Hello Bro', 5, 6, 'This is new')\n"
     ]
    }
   ],
   "source": [
    "tuple37 = (1,2,(3,4),(\"Hello Bro\"),5,6,(\"This is new\"))\n",
    "list78 = []\n",
    "\n",
    "for i in tuple37 :\n",
    "    if type(i) == tuple :\n",
    "        list78 += i\n",
    "    else :\n",
    "        list78.append(i)\n",
    "print(tuple(list78))"
   ]
  },
  {
   "cell_type": "markdown",
   "id": "547dfe31-c3d6-4a8d-9963-2331f5499dd4",
   "metadata": {},
   "source": [
    "### 32. Create a tuple of the first 5 prime numbers. "
   ]
  },
  {
   "cell_type": "code",
   "execution_count": 22,
   "id": "ba4ceefc-c524-4246-bef3-3cb3c4fa226d",
   "metadata": {},
   "outputs": [
    {
     "name": "stdout",
     "output_type": "stream",
     "text": [
      "tuple of first 5 prime numbers is : (2, 3, 5, 7, 11)\n"
     ]
    }
   ],
   "source": [
    "prime_numbers = []\n",
    "\n",
    "for i in range(2,100) :\n",
    "    if len(prime_numbers) < 5 :\n",
    "        for j in range(2,i) :\n",
    "            if i%j == 0 :\n",
    "                break\n",
    "        else :\n",
    "            prime_numbers.append(i)\n",
    "            \n",
    "tuple38 = tuple(prime_numbers)\n",
    "\n",
    "print(\"tuple of first 5 prime numbers is :\",tuple38)"
   ]
  },
  {
   "cell_type": "markdown",
   "id": "730f7c2a-0797-4c0c-82ce-ec5ebe64711e",
   "metadata": {},
   "source": [
    "### 33. Check if a tuple is a palindrome."
   ]
  },
  {
   "cell_type": "code",
   "execution_count": 26,
   "id": "a482abae-a639-4dca-b97d-d3f8c287700e",
   "metadata": {},
   "outputs": [
    {
     "name": "stdin",
     "output_type": "stream",
     "text": [
      "Enter the elements of tuple : Lalit\n"
     ]
    },
    {
     "name": "stdout",
     "output_type": "stream",
     "text": [
      "Tuple isn't palindrome.\n"
     ]
    }
   ],
   "source": [
    "tuple39 = tuple(input(\"Enter the elements of tuple :\").split())\n",
    "tuple40 = ()\n",
    "\n",
    "for i in tuple39 :\n",
    "    tuple40 += tuple(i)\n",
    "if tuple39 == tuple40 :\n",
    "    print(\"Tuple is palindrome.\")\n",
    "else :\n",
    "    print(\"Tuple isn't palindrome.\")"
   ]
  },
  {
   "cell_type": "markdown",
   "id": "1a79579b-3778-48d1-8bfb-7d9dad59cc9d",
   "metadata": {},
   "source": [
    "### 34. Create a tuple of squares of numbers from 1 to 5."
   ]
  },
  {
   "cell_type": "code",
   "execution_count": 27,
   "id": "e8a2498d-c3f6-4858-abb1-ee11479bd246",
   "metadata": {},
   "outputs": [
    {
     "name": "stdout",
     "output_type": "stream",
     "text": [
      "Tuple of squares of 1 to 5 is : (1, 4, 9, 16, 25)\n"
     ]
    }
   ],
   "source": [
    "tuple41 = tuple(i*i for i in range(1,6))\n",
    "print(\"Tuple of squares of 1 to 5 is :\",tuple41)               "
   ]
  },
  {
   "cell_type": "markdown",
   "id": "e0b5e050-de97-4673-be67-96a32ecd1195",
   "metadata": {},
   "source": [
    "### 35. Filter out all even numbers from a tuple."
   ]
  },
  {
   "cell_type": "code",
   "execution_count": 28,
   "id": "fff052a6-620c-41da-a86f-3265a4bf010a",
   "metadata": {},
   "outputs": [
    {
     "name": "stdout",
     "output_type": "stream",
     "text": [
      "Filtered tuple is : (1, 3, 5, 7, 9, 17, 25)\n"
     ]
    }
   ],
   "source": [
    "tuple42 = (1,2,3,4,5,6,7,8,9,10,17,16,20,26,25)\n",
    "tuple43 = tuple(i for i in tuple42 if i%2 != 0)\n",
    "print(\"Filtered tuple is :\",tuple43)"
   ]
  },
  {
   "cell_type": "markdown",
   "id": "6c116379-3a31-4632-8dd8-ecffdc9c5201",
   "metadata": {},
   "source": [
    "### 36. Multiply all elements in a tuple by 2."
   ]
  },
  {
   "cell_type": "code",
   "execution_count": 30,
   "id": "47cee099-fca5-427f-ad87-34b07ae3afee",
   "metadata": {},
   "outputs": [
    {
     "name": "stdout",
     "output_type": "stream",
     "text": [
      "New tuple is : (2, 4, 6, 8, 10)\n"
     ]
    }
   ],
   "source": [
    "tuple44 = (1,2,3,4,5)\n",
    "tuple45 = tuple(i*2 for i in tuple44)\n",
    "print(\"New tuple is :\",tuple45)"
   ]
  },
  {
   "cell_type": "markdown",
   "id": "6b787423-3475-475d-940b-8c50ed89eca3",
   "metadata": {},
   "source": [
    "### 37. Create a tuple of random numbers."
   ]
  },
  {
   "cell_type": "code",
   "execution_count": 1,
   "id": "d128ed28-7108-428a-b106-5981a6f787d9",
   "metadata": {},
   "outputs": [
    {
     "name": "stdin",
     "output_type": "stream",
     "text": [
      "Enter the range of numbers for the tuple : 1 10\n",
      "Enter the length of the tuple : 10\n"
     ]
    },
    {
     "name": "stdout",
     "output_type": "stream",
     "text": [
      "tuple of random numbers is : (3, 10, 1, 10, 9, 9, 2, 10, 8, 9)\n"
     ]
    }
   ],
   "source": [
    "import random\n",
    "\n",
    "a,b = map(int,input(\"Enter the range of numbers for the tuple :\").split())\n",
    "len_tuple46 = int(input(\"Enter the length of the tuple :\"))\n",
    "\n",
    "tuple46 = tuple(random.randint(a,b+1) for _ in range(len_tuple46))\n",
    "print(\"tuple of random numbers is :\",tuple46)"
   ]
  },
  {
   "cell_type": "markdown",
   "id": "264237b2-1cc1-46f8-ae8e-f5d95b9cbe43",
   "metadata": {},
   "source": [
    "### 38. Check if a tuple is sorted."
   ]
  },
  {
   "cell_type": "code",
   "execution_count": 4,
   "id": "20f7225d-9a92-4fcf-912b-84858c1474a9",
   "metadata": {},
   "outputs": [
    {
     "name": "stdin",
     "output_type": "stream",
     "text": [
      "Enter the elements of tuple : 4 3 2 1\n"
     ]
    },
    {
     "name": "stdout",
     "output_type": "stream",
     "text": [
      "Tuple is sorted in descending order.\n"
     ]
    }
   ],
   "source": [
    "tuple47 = tuple(map(int,input(\"Enter the elements of tuple :\").split()))\n",
    "tuple48 = tuple(sorted(tuple47))\n",
    "tuple49 = tuple(sorted(tuple47, reverse = True))\n",
    "\n",
    "if tuple47 == tuple48 :\n",
    "    print(\"Tuple is sorted in ascending order.\")\n",
    "elif tuple47 == tuple49 :\n",
    "    print(\"Tuple is sorted in descending order.\")\n",
    "else :\n",
    "    print(\"Tuple isn't sorted.\")"
   ]
  },
  {
   "cell_type": "markdown",
   "id": "592239a1-07da-45cb-afdd-ef2bcca62e4a",
   "metadata": {},
   "source": [
    "### 39. Rotate a tuple to the left by `n` positions."
   ]
  },
  {
   "cell_type": "code",
   "execution_count": 1,
   "id": "564bfcbe-882e-4bf5-b190-34673c2491e5",
   "metadata": {},
   "outputs": [
    {
     "name": "stdin",
     "output_type": "stream",
     "text": [
      "Enter the elements of the tuple : 1 2 3 4 5 6\n",
      "Enter the number by which you wanna rotate tuple from left : 5\n"
     ]
    },
    {
     "name": "stdout",
     "output_type": "stream",
     "text": [
      "Rotated tuple is : ('6', '5', '4', '3', '2', '1')\n"
     ]
    }
   ],
   "source": [
    "tuple50 = tuple(input(\"Enter the elements of the tuple :\").split())\n",
    "rot_tup50 = int(input(\"Enter the number by which you wanna rotate tuple from left :\"))\n",
    "\n",
    "rotated_tup50 = tuple50[-1:-rot_tup50-1:-1] + tuple50[:len(tuple50)-rot_tup50]\n",
    "print(\"Rotated tuple is :\",rotated_tup50)"
   ]
  },
  {
   "cell_type": "markdown",
   "id": "214e26e2-6344-4c59-aa79-03920b53fba1",
   "metadata": {},
   "source": [
    "### 40. Rotate a tuple to the right by `n` positions.`"
   ]
  },
  {
   "cell_type": "code",
   "execution_count": 6,
   "id": "2d619bdd-3e26-43ab-ab63-0c6eab17a43f",
   "metadata": {},
   "outputs": [
    {
     "name": "stdin",
     "output_type": "stream",
     "text": [
      "Enter the elements of tuple : 1 2 3 4 5 6\n",
      "Enter the number by which you wanna rotate your tuple from right side : 2\n"
     ]
    },
    {
     "name": "stdout",
     "output_type": "stream",
     "text": [
      "Rotated tuple is : ('3', '4', '5', '6', '1', '2')\n"
     ]
    }
   ],
   "source": [
    "tuple51 = tuple(input(\"Enter the elements of tuple :\").split())\n",
    "rot_tup51 = int(input(\"Enter the number by which you wanna rotate your tuple from right side :\"))\n",
    "\n",
    "rotated_tup51 = tuple51[rot_tup51:] + tuple51[:rot_tup51]\n",
    "print(\"Rotated tuple is :\",rotated_tup51)"
   ]
  },
  {
   "cell_type": "markdown",
   "id": "2769f3eb-651d-4594-ba35-60c7c1be812a",
   "metadata": {},
   "source": [
    "### 41. Create a tuple of the first 5 Fibonacci numbers."
   ]
  },
  {
   "cell_type": "code",
   "execution_count": 9,
   "id": "f3a60f6b-42c4-4739-9120-7f69dda0f613",
   "metadata": {},
   "outputs": [
    {
     "name": "stdout",
     "output_type": "stream",
     "text": [
      "Tuple of first 5 fibonacci numbers is : (0, 1, 1, 2, 3)\n"
     ]
    }
   ],
   "source": [
    "fib_list = [0,1]\n",
    "\n",
    "for i in range(3) :\n",
    "    fib_list.append(fib_list[i] + fib_list[i+1])\n",
    "print(\"Tuple of first 5 fibonacci numbers is :\",tuple(fib_list))"
   ]
  },
  {
   "cell_type": "markdown",
   "id": "f8988901-a102-4520-8a44-a9a42f305340",
   "metadata": {},
   "source": [
    "### 42. Create a tuple from user input."
   ]
  },
  {
   "cell_type": "code",
   "execution_count": 10,
   "id": "7a13cde9-f4bc-47a0-a2d3-11ca90faac48",
   "metadata": {},
   "outputs": [
    {
     "name": "stdin",
     "output_type": "stream",
     "text": [
      "Enter the elements of tuple : hey bro how are you\n"
     ]
    },
    {
     "name": "stdout",
     "output_type": "stream",
     "text": [
      "User entered tuple is : ('hey', 'bro', 'how', 'are', 'you')\n"
     ]
    }
   ],
   "source": [
    "tuple52 = tuple(input(\"Enter the elements of tuple :\").split())\n",
    "print(\"User entered tuple is :\",tuple52)"
   ]
  },
  {
   "cell_type": "markdown",
   "id": "3eefc22c-e5b0-44f1-9245-0ddc66315511",
   "metadata": {},
   "source": [
    "### 43. Swap two elements in a tuple"
   ]
  },
  {
   "cell_type": "code",
   "execution_count": 2,
   "id": "20469ef3-daf8-4b60-b676-63e1bd220f01",
   "metadata": {},
   "outputs": [
    {
     "name": "stdin",
     "output_type": "stream",
     "text": [
      "Enter the elements of tuple : 1 2 3 4 5 6 7 8\n",
      "Enter the indices of element which you wanna swap : 1 7\n"
     ]
    },
    {
     "name": "stdout",
     "output_type": "stream",
     "text": [
      "Swapped tuple is : ('1', '8', '3', '4', '5', '6', '7', '2')\n"
     ]
    }
   ],
   "source": [
    "tuple53 = tuple(input(\"Enter the elements of tuple :\").split())\n",
    "a,b = map(int,input(\"Enter the indices of element which you wanna swap :\").split())\n",
    "list81 = []\n",
    "\n",
    "for i in range(len(tuple53)) :\n",
    "    if i not in (a,b) :\n",
    "        list81.append(tuple53[i])\n",
    "    elif i == a :\n",
    "        list81.append(tuple53[b])\n",
    "    else :\n",
    "        list81.append(tuple53[a])\n",
    "        \n",
    "swapped_tuple53 = tuple(list81)\n",
    "print(\"Swapped tuple is :\",swapped_tuple53)"
   ]
  },
  {
   "cell_type": "markdown",
   "id": "1cc67f7c-7608-4ce9-9f27-dff291c5f116",
   "metadata": {},
   "source": [
    "### 44. Reverse the elements of a tuple."
   ]
  },
  {
   "cell_type": "code",
   "execution_count": 5,
   "id": "8b331f2e-4c2f-4cac-b94a-3aed44f67c4c",
   "metadata": {},
   "outputs": [
    {
     "name": "stdout",
     "output_type": "stream",
     "text": [
      "Reversed tuple is : (4, 3, 2, 1)\n"
     ]
    }
   ],
   "source": [
    "tuple54 = (1,2,3,4)\n",
    "reversed_tuple54 = tuple54[::-1]\n",
    "print(\"Reversed tuple is :\",reversed_tuple54)"
   ]
  },
  {
   "cell_type": "markdown",
   "id": "1c9c3bef-9ae1-42f3-aae6-09b961c7135b",
   "metadata": {},
   "source": [
    "### 45. Create a tuple of the first `n` powers of 2."
   ]
  },
  {
   "cell_type": "code",
   "execution_count": 6,
   "id": "e24b5291-5c14-4f22-9fb7-39f9b42a98aa",
   "metadata": {},
   "outputs": [
    {
     "name": "stdin",
     "output_type": "stream",
     "text": [
      "Enter the value of n : 5\n"
     ]
    },
    {
     "name": "stdout",
     "output_type": "stream",
     "text": [
      "Tuple of first 5 powers of 2 is : (2, 4, 8, 16, 32)\n"
     ]
    }
   ],
   "source": [
    "n = int(input(\"Enter the value of n :\"))\n",
    "tuple55 = tuple(2**i for i in range(1,n+1))\n",
    "print(\"Tuple of first\",n,\"powers of 2 is :\",tuple55)"
   ]
  },
  {
   "cell_type": "markdown",
   "id": "b6fcb126-28d5-4015-8ac5-386a9788cd44",
   "metadata": {},
   "source": [
    "### 46. Find the longest string in a tuple of strings."
   ]
  },
  {
   "cell_type": "code",
   "execution_count": 8,
   "id": "4c6dc485-0c6a-4f32-b092-24358b75866d",
   "metadata": {},
   "outputs": [
    {
     "name": "stdin",
     "output_type": "stream",
     "text": [
      "Enter the string elements for the tuple : hey bro in which college do you study\n"
     ]
    },
    {
     "name": "stdout",
     "output_type": "stream",
     "text": [
      "Longest string in tuple is : college\n"
     ]
    }
   ],
   "source": [
    "tuple56 = tuple(input(\"Enter the string elements for the tuple :\").split())\n",
    "j = 0\n",
    "\n",
    "for i in range(len(tuple56)) :\n",
    "    if len(tuple56[i]) >= j :\n",
    "        j = len(tuple56[i])\n",
    "        long_str = tuple56[i]\n",
    "print(\"Longest string in tuple is :\",long_str)"
   ]
  },
  {
   "cell_type": "markdown",
   "id": "7ada35ed-b150-4347-a851-f1938a0e0d5c",
   "metadata": {},
   "source": [
    "### 47. Find the shortest string in a tuple of strings."
   ]
  },
  {
   "cell_type": "code",
   "execution_count": 15,
   "id": "b48b2367-9c4f-432e-bb40-f94b7b9c5c7e",
   "metadata": {},
   "outputs": [
    {
     "name": "stdin",
     "output_type": "stream",
     "text": [
      "Enter the string elements of the tuple : in which college do you study\n"
     ]
    },
    {
     "name": "stdout",
     "output_type": "stream",
     "text": [
      "Shortest string in tuple is : in\n"
     ]
    }
   ],
   "source": [
    "tuple57 = tuple(input(\"Enter the string elements of the tuple :\").split())\n",
    "short_str = min(tuple57, key=len)\n",
    "print(\"Shortest string in tuple is :\",short_str)"
   ]
  },
  {
   "cell_type": "markdown",
   "id": "253f3007-64a6-4ee3-8bad-33e328386387",
   "metadata": {},
   "source": [
    "### 48. Create a tuple of the first `n` triangular numbers"
   ]
  },
  {
   "cell_type": "code",
   "execution_count": 17,
   "id": "d04de162-016c-4751-8653-0c7c4f998f83",
   "metadata": {},
   "outputs": [
    {
     "name": "stdin",
     "output_type": "stream",
     "text": [
      "Enter the value of n : 5\n"
     ]
    },
    {
     "name": "stdout",
     "output_type": "stream",
     "text": [
      "Tuple of first 5 triangular numbers is : (1, 3, 6, 10, 15)\n"
     ]
    }
   ],
   "source": [
    "n = int(input(\"Enter the value of n :\"))\n",
    "tuple58 = tuple((i*(i+1))//2 for i in range(1,n+1))\n",
    "print(\"Tuple of first\",n,\"triangular numbers is :\",tuple58)"
   ]
  },
  {
   "cell_type": "markdown",
   "id": "4c0986a6-0701-435c-9dad-2a950fe22660",
   "metadata": {},
   "source": [
    "### 49. Check if a tuple contains another tuple as a subsequence."
   ]
  },
  {
   "cell_type": "code",
   "execution_count": 2,
   "id": "e8bc1d4f-ed12-48ca-a1b1-d84547b93ce3",
   "metadata": {},
   "outputs": [
    {
     "name": "stdout",
     "output_type": "stream",
     "text": [
      "(2, 3, 4) is a subtuple of primary tuple.\n"
     ]
    }
   ],
   "source": [
    "tuple59 = (1,2,3,4,5,6,7,8)\n",
    "sub_tuple = (2,3,4)\n",
    "if set(sub_tuple).issubset(tuple59) :\n",
    "    print(sub_tuple,\"is a subtuple of primary tuple.\")\n",
    "else :\n",
    "    print(sub_tuple,\"is not a subtuple of primary tuple.\")"
   ]
  },
  {
   "cell_type": "markdown",
   "id": "a7d5b630-10ab-4139-979e-83aed08f9b37",
   "metadata": {},
   "source": [
    "### 50. Create a tuple of alternating 1s and 0s of length `n`."
   ]
  },
  {
   "cell_type": "code",
   "execution_count": 4,
   "id": "7fb8c5b8-b319-4239-ad12-306de0a9cb88",
   "metadata": {},
   "outputs": [
    {
     "name": "stdin",
     "output_type": "stream",
     "text": [
      "Enter the length of tuple : 6\n"
     ]
    },
    {
     "name": "stdout",
     "output_type": "stream",
     "text": [
      "Tuple of alternating 1s and 0s of length 6 is : (1, 0, 1, 0, 1, 0)\n"
     ]
    }
   ],
   "source": [
    "n = int(input(\"Enter the length of tuple :\"))\n",
    "tuple60 = tuple(i%2 for i in range(1,n+1))\n",
    "print(\"Tuple of alternating 1s and 0s of length\",n,\"is :\",tuple60)"
   ]
  },
  {
   "cell_type": "markdown",
   "id": "d0f5df57-d9ea-4c9b-89cb-fbc4be2120ca",
   "metadata": {},
   "source": [
    "# Set Based Practice Problem :"
   ]
  },
  {
   "cell_type": "markdown",
   "id": "21c23727-b39e-4c5a-8ce9-30c35d4c2680",
   "metadata": {},
   "source": [
    "### 1. Create a set with integers from 1 to 5."
   ]
  },
  {
   "cell_type": "code",
   "execution_count": 7,
   "id": "d0265dfb-5fdf-4132-8a49-4ea327d700cf",
   "metadata": {},
   "outputs": [
    {
     "name": "stdout",
     "output_type": "stream",
     "text": [
      "{1, 2, 3, 4, 5}\n"
     ]
    }
   ],
   "source": [
    "set1 = {1,2,3,4,5}\n",
    "print(set1)"
   ]
  },
  {
   "cell_type": "markdown",
   "id": "c40b6e9d-21ce-46a9-9d37-3e9956a69dc8",
   "metadata": {},
   "source": [
    "### 2. Add an element to a set."
   ]
  },
  {
   "cell_type": "code",
   "execution_count": 9,
   "id": "44505842-91e3-4feb-bb07-386ba26b7e71",
   "metadata": {},
   "outputs": [
    {
     "name": "stdout",
     "output_type": "stream",
     "text": [
      "Updated set is : {1, 2, 3, 4, 5, 6}\n"
     ]
    }
   ],
   "source": [
    "set2 = {1,2,3,4,5}\n",
    "set2.add(6)\n",
    "print(\"Updated set is :\",set2)"
   ]
  },
  {
   "cell_type": "markdown",
   "id": "361792b9-14c0-49a6-bc38-1dfa3b0ec679",
   "metadata": {},
   "source": [
    "### 3. Remove an element from a set"
   ]
  },
  {
   "cell_type": "code",
   "execution_count": 2,
   "id": "41051835-7694-4655-9ab8-36235a074b5d",
   "metadata": {},
   "outputs": [
    {
     "name": "stdin",
     "output_type": "stream",
     "text": [
      "Enter the elements of the set : 1 2 3 4 5\n",
      "Enter the element which you wanna remove from the set : 3\n"
     ]
    },
    {
     "name": "stdout",
     "output_type": "stream",
     "text": [
      "Updated set is : {'2', '1', '5', '4'}\n"
     ]
    }
   ],
   "source": [
    "set3 = set(input(\"Enter the elements of the set :\").split())\n",
    "set3_ele = input(\"Enter thes element which you wanna remove from the set :\")\n",
    "\n",
    "if set3_ele in set3 :\n",
    "    set3.remove(set3_ele)\n",
    "    print(\"Updated set is :\",set3)\n",
    "else :\n",
    "    print(\"Element dosen't exist in the set.\")"
   ]
  },
  {
   "cell_type": "markdown",
   "id": "9e78c293-6a92-415b-ae82-8e83ebbac4b7",
   "metadata": {},
   "source": [
    "### 4. Check if an element exists in a set."
   ]
  },
  {
   "cell_type": "code",
   "execution_count": 1,
   "id": "8bd6ba3a-e595-483b-b38a-0233bb16950f",
   "metadata": {},
   "outputs": [
    {
     "name": "stdin",
     "output_type": "stream",
     "text": [
      "Enter the elements of the set : 1 2 3 4 5\n",
      "Enter thes element which you wanna remove from the set : 2\n"
     ]
    },
    {
     "name": "stdout",
     "output_type": "stream",
     "text": [
      "Element exist in set.\n"
     ]
    }
   ],
   "source": [
    "set4 = set(input(\"Enter the elements of the set :\").split())\n",
    "set4_ele = input(\"Enter thes element which you wanna check in the set :\")\n",
    "\n",
    "if set4_ele in set4 :\n",
    "    print(\"Element exist in set.\")\n",
    "else :\n",
    "    print(\"Element dosen't exist in the set.\")"
   ]
  },
  {
   "cell_type": "markdown",
   "id": "fd2452a7-2d37-466e-bb2c-a12cb6c9dae7",
   "metadata": {},
   "source": [
    "### 5. Find the length of a set without using the `len()` function."
   ]
  },
  {
   "cell_type": "code",
   "execution_count": 2,
   "id": "4c1325c3-b321-4579-a6a1-2271cacbfbb7",
   "metadata": {},
   "outputs": [
    {
     "name": "stdin",
     "output_type": "stream",
     "text": [
      "Enter the element of the set : 1 2 3 4 5 6\n"
     ]
    },
    {
     "name": "stdout",
     "output_type": "stream",
     "text": [
      "Length of set is : 6\n"
     ]
    }
   ],
   "source": [
    "set5 = set(input(\"Enter the element of the set :\").split())\n",
    "len_set5 = 0\n",
    "\n",
    "for i in set5 :\n",
    "    len_set5 += 1\n",
    "print(\"Length of set is :\",len_set5)"
   ]
  },
  {
   "cell_type": "markdown",
   "id": "fff88877-ca55-401d-beb5-28a43c3f1ebc",
   "metadata": {},
   "source": [
    "### 6. Clear all elements from a set."
   ]
  },
  {
   "cell_type": "code",
   "execution_count": 3,
   "id": "fdb61673-f72b-41ff-8e00-36303bbf1780",
   "metadata": {},
   "outputs": [
    {
     "name": "stdout",
     "output_type": "stream",
     "text": [
      "Cleared set is : set()\n"
     ]
    }
   ],
   "source": [
    "set6 = {1,2,3,4,5}\n",
    "set6.clear()\n",
    "print(\"Cleared set is :\",set6)"
   ]
  },
  {
   "cell_type": "markdown",
   "id": "91f6c63a-90d7-4db2-b0c2-9fd33f15a399",
   "metadata": {},
   "source": [
    "### 7. Create a set of even numbers from 1 to 10."
   ]
  },
  {
   "cell_type": "code",
   "execution_count": 9,
   "id": "ad3af33b-c34c-4759-b2ac-7d7c19bcf97a",
   "metadata": {},
   "outputs": [
    {
     "name": "stdout",
     "output_type": "stream",
     "text": [
      "set of even numbers from 1 to 10 is : {2, 4, 6, 8, 10}\n"
     ]
    }
   ],
   "source": [
    "set7 = set()\n",
    "for i in range(1,11) :\n",
    "    if i%2 == 0 :\n",
    "        set7.add(i)\n",
    "print(\"set of even numbers from 1 to 10 is :\",set7)"
   ]
  },
  {
   "cell_type": "markdown",
   "id": "43790b6d-4b2a-434d-ad3c-cab765c6fa93",
   "metadata": {},
   "source": [
    "### 8. Create a set of odd numbers from 1 to 10."
   ]
  },
  {
   "cell_type": "code",
   "execution_count": 11,
   "id": "2dd6968c-5105-4a3c-b8c8-a4ae6f9a4046",
   "metadata": {},
   "outputs": [
    {
     "name": "stdout",
     "output_type": "stream",
     "text": [
      "set of odd numbers from 1 to 10 is : {1, 3, 5, 7, 9}\n"
     ]
    }
   ],
   "source": [
    "set8 = set()\n",
    "for i in range(1,11) :\n",
    "    if i%2 != 0 :\n",
    "        set8.add(i)\n",
    "print(\"set of odd numbers from 1 to 10 is :\",set8)"
   ]
  },
  {
   "cell_type": "markdown",
   "id": "05b79390-7aae-4fa4-879e-00529ff6640a",
   "metadata": {},
   "source": [
    "### 9. Find the union of two sets."
   ]
  },
  {
   "cell_type": "code",
   "execution_count": 2,
   "id": "00097fbc-2c98-4e4b-aebb-28d62c40682b",
   "metadata": {},
   "outputs": [
    {
     "name": "stdin",
     "output_type": "stream",
     "text": [
      "Enter the elements of first set : 1 2 3 4 5 6\n",
      "Enter the elements of 2nd set : 4 5 6 7 8 9\n"
     ]
    },
    {
     "name": "stdout",
     "output_type": "stream",
     "text": [
      "Union of set9 and set10 is : {'4', '6', '5', '9', '8', '7', '3', '1', '2'}\n"
     ]
    }
   ],
   "source": [
    "set9 = set(input(\"Enter the elements of first set :\").split())\n",
    "set10 = set(input(\"Enter the elements of 2nd set :\").split())\n",
    "union_set = set()\n",
    "\n",
    "for i in set9 :\n",
    "     union_set.add(i)\n",
    "for j in set10 :\n",
    "        union_set.add(j) \n",
    "print(\"Union of set9 and set10 is :\",union_set)"
   ]
  },
  {
   "cell_type": "markdown",
   "id": "5ff2764d-79ee-4b6e-8f57-d16b7f72709f",
   "metadata": {},
   "source": [
    "### 10. Find the intersection of two sets."
   ]
  },
  {
   "cell_type": "code",
   "execution_count": 5,
   "id": "b23ad3eb-b2b8-4ac9-80f6-c18477f44078",
   "metadata": {},
   "outputs": [
    {
     "name": "stdin",
     "output_type": "stream",
     "text": [
      "Enter the elements of 1st set : 1 2 3 4 5 6\n",
      "Enter the elements of 2nd set : 4 5 6 7 8 9\n"
     ]
    },
    {
     "name": "stdout",
     "output_type": "stream",
     "text": [
      "Intersection of set11 and set12 is : {'4', '5', '6'}\n"
     ]
    }
   ],
   "source": [
    "set11 = set(input(\"Enter the elements of 1st set :\").split())\n",
    "set12 = set(input(\"Enter the elements of 2nd set :\").split())\n",
    "inter_set = set()\n",
    "\n",
    "if len(set11) >= len(set12) :\n",
    "    for i in set11 :\n",
    "        if i in set12 :\n",
    "            inter_set.add(i)\n",
    "else :\n",
    "    for i in set12 :\n",
    "        if i in set11 :\n",
    "            inter_set.add(i)\n",
    "\n",
    "print(\"Intersection of set11 and set12 is :\",inter_set)            "
   ]
  },
  {
   "cell_type": "markdown",
   "id": "eff1bc96-8516-4cfe-bf0e-34c1fc6c1aab",
   "metadata": {},
   "source": [
    "### 11. Find the difference between two sets."
   ]
  },
  {
   "cell_type": "code",
   "execution_count": 6,
   "id": "a4ab361b-833a-478e-9d11-7aa5ff25db6f",
   "metadata": {},
   "outputs": [
    {
     "name": "stdin",
     "output_type": "stream",
     "text": [
      "Enter the elements of first set : 1 2 3 4 9 0\n",
      "Enter the elements of 2nd set : 3 4 5 6 7 8\n"
     ]
    },
    {
     "name": "stdout",
     "output_type": "stream",
     "text": [
      "Difference between set13 and set14 is : {'9', '1', '0', '2'}\n",
      "Difference between set14 and set13 is : {'7', '5', '6', '8'}\n"
     ]
    }
   ],
   "source": [
    "set13 = set(input(\"Enter the elements of first set :\").split())\n",
    "set14 = set(input(\"Enter the elements of 2nd set :\").split())\n",
    "\n",
    "set13_set14 = set13.difference(set14)\n",
    "set14_set13 = set14.difference(set13)\n",
    "\n",
    "print(\"Difference between set13 and set14 is :\",set13_set14)\n",
    "print(\"Difference between set14 and set13 is :\",set14_set13)"
   ]
  },
  {
   "cell_type": "markdown",
   "id": "9817d1e4-e3aa-4aa3-91c4-3d6915052b13",
   "metadata": {},
   "source": [
    "### 12. Check if a set is a subset of another set."
   ]
  },
  {
   "cell_type": "code",
   "execution_count": 10,
   "id": "1b95995e-f6df-46bf-b762-ea8a7f7fee73",
   "metadata": {},
   "outputs": [
    {
     "name": "stdin",
     "output_type": "stream",
     "text": [
      "Enter the elements of 1st set : 1 2 3 4 5 6\n",
      "Enter the elements of 2nd set : 1 2 3 4\n"
     ]
    },
    {
     "name": "stdout",
     "output_type": "stream",
     "text": [
      "set16 is subset of set15.\n"
     ]
    }
   ],
   "source": [
    "set15 = set(input(\"Enter the elements of 1st set :\").split())\n",
    "set16 = set(input(\"Enter the elements of 2nd set :\").split())\n",
    "\n",
    "if set15.issubset(set16) :\n",
    "    print(\"set15 is subset of set16.\")\n",
    "elif set16.issubset(set15) :\n",
    "    print(\"set16 is subset of set15.\")\n",
    "else :\n",
    "    print(\"No set is subset of another one.\")"
   ]
  },
  {
   "cell_type": "markdown",
   "id": "54c618b3-f45b-4828-a164-882b2ad5e3f8",
   "metadata": {},
   "source": [
    "### 13. Check if a set is a superset of another set."
   ]
  },
  {
   "cell_type": "code",
   "execution_count": 11,
   "id": "5cf8a76d-0c14-4184-87c3-fb2eb08c1070",
   "metadata": {},
   "outputs": [
    {
     "name": "stdin",
     "output_type": "stream",
     "text": [
      "Enter the elements of 1st set : 1 2 3\n",
      "Enter the elements of 2nd set : 1 2 3 4 5 6\n"
     ]
    },
    {
     "name": "stdout",
     "output_type": "stream",
     "text": [
      "set18 is superset of set17.\n"
     ]
    }
   ],
   "source": [
    "set17 = set(input(\"Enter the elements of 1st set :\").split())\n",
    "set18 = set(input(\"Enter the elements of 2nd set :\").split())\n",
    "\n",
    "if set17.issuperset(set18) :\n",
    "    print(\"set 17 is superset of set18.\")\n",
    "elif set18.issuperset(set17) :\n",
    "    print(\"set18 is superset of set17.\")\n",
    "else :\n",
    "    print(\"No set is superset of another one.\")"
   ]
  },
  {
   "cell_type": "markdown",
   "id": "695f9fe1-69d5-45ee-b392-b301c8625dce",
   "metadata": {},
   "source": [
    "### 14. Create a set from a list."
   ]
  },
  {
   "cell_type": "code",
   "execution_count": 12,
   "id": "f2f8ffce-891b-44b0-9773-b53c95e22e80",
   "metadata": {},
   "outputs": [
    {
     "name": "stdout",
     "output_type": "stream",
     "text": [
      "Set from list is : {1, 2, 3, 4}\n"
     ]
    }
   ],
   "source": [
    "list83 = [1,2,3,4]\n",
    "print(\"Set from list is :\",set(list83))"
   ]
  },
  {
   "cell_type": "markdown",
   "id": "4fe41d13-99a7-4024-bf3c-c3a92c9f4c95",
   "metadata": {},
   "source": [
    "### 15. Convert a set to a list."
   ]
  },
  {
   "cell_type": "code",
   "execution_count": 13,
   "id": "52e88e7e-1524-46ee-b01b-8d62164a4daa",
   "metadata": {},
   "outputs": [
    {
     "name": "stdout",
     "output_type": "stream",
     "text": [
      "List from set is : [1, 2, 3, 4, 5]\n"
     ]
    }
   ],
   "source": [
    "set19 = {1,2,3,4,5}\n",
    "print(\"List from set is :\",list(set19))"
   ]
  },
  {
   "cell_type": "markdown",
   "id": "d7036f12-4c83-4503-918f-d368cb3d930c",
   "metadata": {},
   "source": [
    "### 16. Remove a random element from a set."
   ]
  },
  {
   "cell_type": "code",
   "execution_count": 30,
   "id": "652ec893-abc0-48d0-bdc2-76607e18e793",
   "metadata": {},
   "outputs": [
    {
     "name": "stdout",
     "output_type": "stream",
     "text": [
      "Updated set is : {1, 3, 4, 5}\n"
     ]
    }
   ],
   "source": [
    "import random\n",
    "\n",
    "set20 = {1,2,3,4,5}\n",
    "random_var = random.choice(list(set20))\n",
    "set20.remove(random_var)\n",
    "print(\"Updated set is :\",set20)"
   ]
  },
  {
   "cell_type": "markdown",
   "id": "85d1ea25-4524-4af9-a898-ab5f1fff86a0",
   "metadata": {},
   "source": [
    "### 17. Pop an element from a set."
   ]
  },
  {
   "cell_type": "code",
   "execution_count": 31,
   "id": "3d35b560-d7f5-49e8-967c-180fcfff9a83",
   "metadata": {},
   "outputs": [
    {
     "name": "stdout",
     "output_type": "stream",
     "text": [
      "Popped item from set is : 1\n"
     ]
    }
   ],
   "source": [
    "set21 = {1,2,3,4}\n",
    "pop_item = set21.pop()\n",
    "print(\"Popped item from set is :\",pop_item)"
   ]
  },
  {
   "cell_type": "markdown",
   "id": "2616d2ac-237c-41ff-89ed-d741e9a31377",
   "metadata": {},
   "source": [
    "### 18. Check if two sets have no elements in common."
   ]
  },
  {
   "cell_type": "code",
   "execution_count": 1,
   "id": "899d764e-ad5b-4d6c-b705-ae53a416d83d",
   "metadata": {},
   "outputs": [
    {
     "name": "stdin",
     "output_type": "stream",
     "text": [
      "Enter the elements of 1st set : 1 2 3 4 5\n",
      "Enter the elements of 2nd set : 6 7 8 9\n"
     ]
    },
    {
     "name": "stdout",
     "output_type": "stream",
     "text": [
      "There are no common elements in both sets.\n"
     ]
    }
   ],
   "source": [
    "set22 = set(input(\"Enter the elements of 1st set :\").split())\n",
    "set23 = set(input(\"Enter the elements of 2nd set :\").split())\n",
    "\n",
    "inter_set2 = set22.intersection(set23)\n",
    "\n",
    "if not inter_set2 :\n",
    "    print(\"There are no common elements in both sets.\")\n",
    "else :\n",
    "    print(\"Common elements in sets are :\",inter_set2)"
   ]
  },
  {
   "cell_type": "markdown",
   "id": "bf8fabba-ba0f-43f1-9571-749ca9b4ee7c",
   "metadata": {},
   "source": [
    "### 19. Find the symmetric difference between two sets."
   ]
  },
  {
   "cell_type": "code",
   "execution_count": 2,
   "id": "0ea4b955-5e80-424d-bf10-25044e30b412",
   "metadata": {},
   "outputs": [
    {
     "name": "stdin",
     "output_type": "stream",
     "text": [
      "Enter the elements of 1st set : 1 2 3 4 5\n",
      "Enter the elements of 2nd set : 4 5 6 7 8 9\n"
     ]
    },
    {
     "name": "stdout",
     "output_type": "stream",
     "text": [
      "Symmetric difference between sets is : {'8', '3', '6', '9', '2', '7', '1'}\n"
     ]
    }
   ],
   "source": [
    "set24 = set(input(\"Enter the elements of 1st set :\").split())\n",
    "set25 = set(input(\"Enter the elements of 2nd set :\").split())\n",
    "\n",
    "sym_diff = set24.symmetric_difference(set25)\n",
    "print(\"Symmetric difference between sets is :\",sym_diff)"
   ]
  },
  {
   "cell_type": "markdown",
   "id": "2eab21fd-6f4d-4319-bd4e-e160c274a196",
   "metadata": {},
   "source": [
    "### 20. Update a set with elements from another set."
   ]
  },
  {
   "cell_type": "code",
   "execution_count": 3,
   "id": "686a8f6e-5688-4db9-a2c6-862e1c05e53c",
   "metadata": {},
   "outputs": [
    {
     "name": "stdin",
     "output_type": "stream",
     "text": [
      "Enter the elements of 1st set : 1 2 3 4\n",
      "Enter the elements of 2nd set : 5 6 7 8\n"
     ]
    },
    {
     "name": "stdout",
     "output_type": "stream",
     "text": [
      "Updated set is : {'8', '3', '4', '6', '2', '7', '5', '1'}\n"
     ]
    }
   ],
   "source": [
    "set26 = set(input(\"Enter the elements of 1st set :\").split())\n",
    "set27 = set(input(\"Enter the elements of 2nd set :\").split())\n",
    "\n",
    "set26.update(set27)\n",
    "print(\"Updated set is :\",set26)"
   ]
  },
  {
   "cell_type": "markdown",
   "id": "b3385352-6a23-4985-a4a1-a273c6d330a9",
   "metadata": {},
   "source": [
    "### 21. Create a set of the first 5 prime numbers."
   ]
  },
  {
   "cell_type": "code",
   "execution_count": 5,
   "id": "b5c7c308-b6e3-4d34-af5f-f166b4add7e0",
   "metadata": {},
   "outputs": [
    {
     "name": "stdout",
     "output_type": "stream",
     "text": [
      "Set of first 5 prime numbers is : {2, 3, 5, 7, 11}\n"
     ]
    }
   ],
   "source": [
    "set27 = set()\n",
    "\n",
    "for i in range(2,100) :\n",
    "    if len(set27) < 5 :\n",
    "        for j in range(2,i) :\n",
    "            if i%j == 0 :\n",
    "                break\n",
    "        else :\n",
    "            set27.add(i)\n",
    "print(\"Set of first 5 prime numbers is :\",set27)"
   ]
  },
  {
   "cell_type": "markdown",
   "id": "1a62b4d9-8146-4a24-93e0-001a94744b09",
   "metadata": {},
   "source": [
    "### 22. Check if two sets are identical"
   ]
  },
  {
   "cell_type": "code",
   "execution_count": 7,
   "id": "8b4e9db8-6383-4389-a41a-893e900c939a",
   "metadata": {},
   "outputs": [
    {
     "name": "stdin",
     "output_type": "stream",
     "text": [
      "Enter the elements of 1st set : 1 2 3 4\n",
      "Enter the elements of 2nd set : 4 5 6 7\n"
     ]
    },
    {
     "name": "stdout",
     "output_type": "stream",
     "text": [
      "Sets aren't identical.\n"
     ]
    }
   ],
   "source": [
    "set28 = set(input(\"Enter the elements of 1st set :\").split())\n",
    "set29 = set(input(\"Enter the elements of 2nd set :\").split())\n",
    "\n",
    "if set28 == set29 :\n",
    "    print(\"Sets are identical.\")\n",
    "else :\n",
    "    print(\"Sets aren't identical.\")"
   ]
  },
  {
   "cell_type": "markdown",
   "id": "24e7e534-8e6a-4198-949c-81eb941c6123",
   "metadata": {},
   "source": [
    "### 23. Create a frozen set."
   ]
  },
  {
   "cell_type": "code",
   "execution_count": 8,
   "id": "bd18c75f-1039-4762-bda7-d1fe478403a5",
   "metadata": {},
   "outputs": [
    {
     "name": "stdout",
     "output_type": "stream",
     "text": [
      "Frozen set is : frozenset({1, 2, 3, 4, 5})\n"
     ]
    }
   ],
   "source": [
    "set30 = {1,2,3,4,5}\n",
    "frozenset1 = frozenset(set30)\n",
    "print(\"Frozen set is :\",frozenset1)"
   ]
  },
  {
   "cell_type": "markdown",
   "id": "e7802d73-3948-4fda-9286-108f06ebd420",
   "metadata": {},
   "source": [
    "### 24. Check if a set is disjoint with another set."
   ]
  },
  {
   "cell_type": "code",
   "execution_count": 10,
   "id": "b81b432d-4e49-4775-b251-6e80a64dd75a",
   "metadata": {},
   "outputs": [
    {
     "name": "stdout",
     "output_type": "stream",
     "text": [
      "Are sets disjoint ?  False\n"
     ]
    }
   ],
   "source": [
    "set31 = {1,2,3,4}\n",
    "set32 = {2,3,4}\n",
    "disjoint_status = set31.isdisjoint(set32)\n",
    "print(\"Are sets disjoint ? \",disjoint_status)"
   ]
  },
  {
   "cell_type": "markdown",
   "id": "25073f87-235d-4c59-9832-35e39545a313",
   "metadata": {},
   "source": [
    "### 25. Create a set of squares of numbers from 1 to 5."
   ]
  },
  {
   "cell_type": "code",
   "execution_count": 12,
   "id": "438493a1-fba9-46ce-9c96-716947fb2bed",
   "metadata": {},
   "outputs": [
    {
     "name": "stdout",
     "output_type": "stream",
     "text": [
      "Set of squares of numbers from 1 to 5 is : {1, 4, 9, 16, 25}\n"
     ]
    }
   ],
   "source": [
    "set33 = set(i*i for i in range(1,6))\n",
    "print(\"Set of squares of numbers from 1 to 5 is :\",set33)"
   ]
  },
  {
   "cell_type": "markdown",
   "id": "3cf829d4-9419-404e-9b80-e758a6bfaf10",
   "metadata": {},
   "source": [
    "### 26. Filter out all even numbers from a set."
   ]
  },
  {
   "cell_type": "code",
   "execution_count": 14,
   "id": "35fd70ac-3dfa-463b-b6fd-e4656eff7eef",
   "metadata": {},
   "outputs": [
    {
     "name": "stdout",
     "output_type": "stream",
     "text": [
      "Even numbers in set are [2, 4, 6, 8]\n",
      "Filtered set is : {1, 3, 5, 7, 9}\n"
     ]
    }
   ],
   "source": [
    "set34 = {1,2,3,4,5,6,7,8,9}\n",
    "list84 = []\n",
    "for i in set34 :\n",
    "    if i%2 == 0 :\n",
    "        list84.append(i)\n",
    "\n",
    "for i in list84 :\n",
    "    set34.remove(i)\n",
    "print(\"Even numbers in set are\",list84)\n",
    "print(\"Filtered set is :\",set34)"
   ]
  },
  {
   "cell_type": "markdown",
   "id": "1d847de9-2511-409d-aa93-86f2097cc25b",
   "metadata": {},
   "source": [
    "### 27. Multiply all elements in a set by 2."
   ]
  },
  {
   "cell_type": "code",
   "execution_count": 1,
   "id": "2e64baeb-4f5b-4b62-9091-5784fee4e39f",
   "metadata": {},
   "outputs": [
    {
     "name": "stdout",
     "output_type": "stream",
     "text": [
      "Updated set is : {2, 4, 6, 8, 10}\n"
     ]
    }
   ],
   "source": [
    "set35 = {1,2,3,4,5}\n",
    "updated_set35 = set(i*2 for i in set35)\n",
    "print(\"Updated set is :\",updated_set35)"
   ]
  },
  {
   "cell_type": "markdown",
   "id": "9b2cdf47-9a3e-4c8d-9fa0-b6f72d4a4232",
   "metadata": {},
   "source": [
    "### 28. Create a set of random numbers."
   ]
  },
  {
   "cell_type": "code",
   "execution_count": 6,
   "id": "56701007-25f1-47af-b74a-2b145230dfea",
   "metadata": {},
   "outputs": [
    {
     "name": "stdin",
     "output_type": "stream",
     "text": [
      "Enter the no of elements in set : 5\n",
      "Enter the range of elements in set : 1 10\n"
     ]
    },
    {
     "name": "stdout",
     "output_type": "stream",
     "text": [
      "Set of random numbers is : {1, 2, 3, 4, 7}\n"
     ]
    }
   ],
   "source": [
    "import random\n",
    "\n",
    "set36_n = int(input(\"Enter the no of elements in set :\"))\n",
    "a,b = map(int,input(\"Enter the range of elements in set :\").split())\n",
    "\n",
    "set36 = set(random.sample(range(a,b+1),set36_n))\n",
    "print(\"Set of random numbers is :\",set36)"
   ]
  },
  {
   "cell_type": "markdown",
   "id": "87d42f27-1a3c-4a9a-b00e-b9bc36b8413b",
   "metadata": {},
   "source": [
    "### 29. Check if a set is empty"
   ]
  },
  {
   "cell_type": "code",
   "execution_count": 8,
   "id": "28bc005c-9118-47d4-8fed-4275f27ae00a",
   "metadata": {},
   "outputs": [
    {
     "name": "stdout",
     "output_type": "stream",
     "text": [
      "Set37 is empty.\n",
      "Set38 isn't empty.\n"
     ]
    }
   ],
   "source": [
    "set37 = set()\n",
    "set38 = {1,2,3}\n",
    "\n",
    "if not set37 :\n",
    "    print(\"Set37 is empty.\")\n",
    "else :\n",
    "    print(\"Set37 isn't empty.\")\n",
    "if not set38 :\n",
    "    print(\"Set38 is empty.\")\n",
    "else :\n",
    "    print(\"Set38 isn't empty.\")"
   ]
  },
  {
   "cell_type": "markdown",
   "id": "01acb91a-5efe-4cd6-a13a-a9a3655c8b28",
   "metadata": {},
   "source": [
    "### 30. Create a nested set (hint: use frozenset)."
   ]
  },
  {
   "cell_type": "code",
   "execution_count": 11,
   "id": "e6a79775-624f-4ab3-858f-080ce050555a",
   "metadata": {},
   "outputs": [
    {
     "name": "stdout",
     "output_type": "stream",
     "text": [
      "Nested set is : {frozenset({1, 2, 3, 4}), frozenset({2, 3, 4, 5})}\n"
     ]
    }
   ],
   "source": [
    "set39 = {1,2,3,4}\n",
    "set40 = {2,3,4,5}\n",
    "frozenset_2 = frozenset(set39)\n",
    "frozenset_3 = frozenset(set40)\n",
    "\n",
    "nested_set = {frozenset_2,frozenset_3}\n",
    "print(\"Nested set is :\",nested_set)"
   ]
  },
  {
   "cell_type": "markdown",
   "id": "d570f3b2-f6be-4b94-9265-3b000013962c",
   "metadata": {},
   "source": [
    "### 31. Remove an element from a set using the discard method."
   ]
  },
  {
   "cell_type": "code",
   "execution_count": 12,
   "id": "844d5329-aa8c-4dc6-bb45-d48b32246831",
   "metadata": {},
   "outputs": [
    {
     "name": "stdout",
     "output_type": "stream",
     "text": [
      "Updated set is : {1, 2, 3, 4, 6, 7}\n"
     ]
    }
   ],
   "source": [
    "set41 = {1,2,3,4,5,6,7}\n",
    "set41.discard(5)\n",
    "print(\"Updated set is :\",set41)"
   ]
  },
  {
   "cell_type": "markdown",
   "id": "d7e82369-58c0-48f0-8c08-b66dfccfc867",
   "metadata": {},
   "source": [
    "### 32. Compare two sets."
   ]
  },
  {
   "cell_type": "code",
   "execution_count": 18,
   "id": "6b526835-43ad-4346-ab47-d1c61cb0c07e",
   "metadata": {},
   "outputs": [
    {
     "name": "stdout",
     "output_type": "stream",
     "text": [
      "Set 1: {1, 2, 3, 4, 5}\n",
      "Set 2: {4, 5, 6, 7, 8}\n",
      "Is set1 a subset of set2? False\n",
      "Is set2 a subset of set1? False\n",
      "Intersection: {4, 5}\n",
      "Union: {1, 2, 3, 4, 5, 6, 7, 8}\n",
      "Elements in set1 but not in set2: {1, 2, 3}\n",
      "Elements in set2 but not in set1: {8, 6, 7}\n"
     ]
    }
   ],
   "source": [
    "set42 = {1, 2, 3, 4, 5}\n",
    "set43 = {4, 5, 6, 7, 8}\n",
    "\n",
    "is_subset = set42.issubset(set43)\n",
    "is_superset = set42.issuperset(set43)\n",
    "\n",
    "intersection = set42.intersection(set43)\n",
    "union = set42.union(set43)\n",
    "\n",
    "difference1 = set42.difference(set43)\n",
    "difference2 = set43.difference(set42)\n",
    "\n",
    "print(\"Set 1:\", set42)\n",
    "print(\"Set 2:\", set43)\n",
    "print(\"Is set1 a subset of set2?\", is_subset)\n",
    "print(\"Is set2 a subset of set1?\", is_superset)\n",
    "print(\"Intersection:\", intersection)\n",
    "print(\"Union:\", union)\n",
    "print(\"Elements in set1 but not in set2:\", difference1)\n",
    "print(\"Elements in set2 but not in set1:\", difference2)"
   ]
  },
  {
   "cell_type": "markdown",
   "id": "0423c190-522e-405b-9d8b-42a3a6e33f4e",
   "metadata": {},
   "source": [
    "### 33. Create a set from a string."
   ]
  },
  {
   "cell_type": "code",
   "execution_count": 21,
   "id": "2b5c7cec-297b-4bdf-adad-a3fe416421c0",
   "metadata": {},
   "outputs": [
    {
     "name": "stdout",
     "output_type": "stream",
     "text": [
      "Set of words of string : {'brother', 'Hey'}\n"
     ]
    }
   ],
   "source": [
    "str1 = \"Hey brother\"\n",
    "set44 = set(str1.split())\n",
    "print(\"Set of words of string :\",set44)"
   ]
  },
  {
   "cell_type": "markdown",
   "id": "f174a55a-0759-417d-a6ff-288072c2ff2b",
   "metadata": {},
   "source": [
    "### 34. Convert a set of strings to a set of integers."
   ]
  },
  {
   "cell_type": "code",
   "execution_count": 26,
   "id": "7b8c1b0f-df8f-4d30-8bcd-021d5bc73bff",
   "metadata": {},
   "outputs": [
    {
     "name": "stdout",
     "output_type": "stream",
     "text": [
      "Updated set is : {1, 2, 3, 4, 5}\n"
     ]
    }
   ],
   "source": [
    "set45 = {\"1\",\"2\",\"3\",\"4\",\"5\"}\n",
    "list00 = list(set45)\n",
    "\n",
    "for i in range(len(set45)) :\n",
    "    list00[i] = int(list00[i])\n",
    "    \n",
    "print(\"Updated set is :\",set(list00))"
   ]
  },
  {
   "cell_type": "markdown",
   "id": "4bf9152f-18b6-441e-8de2-6fd7a959ac17",
   "metadata": {},
   "source": [
    "### 35. Convert a set of integers to a set of strings."
   ]
  },
  {
   "cell_type": "code",
   "execution_count": 27,
   "id": "ffba87e4-6a53-43f1-8180-2ff72a3ce282",
   "metadata": {},
   "outputs": [
    {
     "name": "stdout",
     "output_type": "stream",
     "text": [
      "Updated set is : {'2', '3', '1', '4', '5'}\n"
     ]
    }
   ],
   "source": [
    "set46 = {1,2,3,4,5}\n",
    "list000 = list(set45)\n",
    "\n",
    "for i in range(len(set45)) :\n",
    "    list000[i] = str(list000[i])\n",
    "    \n",
    "print(\"Updated set is :\",set(list000))"
   ]
  },
  {
   "cell_type": "markdown",
   "id": "0e983523-d175-4432-97a7-c30aeff520e0",
   "metadata": {},
   "source": [
    "### 36. Create a set from a tuple."
   ]
  },
  {
   "cell_type": "code",
   "execution_count": 29,
   "id": "27e823f1-12dd-4d02-bf48-8484a2b1044d",
   "metadata": {},
   "outputs": [
    {
     "name": "stdout",
     "output_type": "stream",
     "text": [
      "Set from tuple is : {1, 2, 3, 4, 5}\n"
     ]
    }
   ],
   "source": [
    "tuple0 = (1,2,3,4,5)\n",
    "print(\"Set from tuple is :\",set(tuple0))"
   ]
  },
  {
   "cell_type": "markdown",
   "id": "7902eaf7-ad2a-43e2-8318-50bd14c1252a",
   "metadata": {},
   "source": [
    "### 37. Convert a set to a tuple."
   ]
  },
  {
   "cell_type": "code",
   "execution_count": 30,
   "id": "1c15cacd-a982-4bdd-be6f-0434c2025091",
   "metadata": {},
   "outputs": [
    {
     "name": "stdout",
     "output_type": "stream",
     "text": [
      "Tuple from set is : (1, 2, 3, 4, 5)\n"
     ]
    }
   ],
   "source": [
    "set47 = {1,2,3,4,5}\n",
    "print(\"Tuple from set is :\",tuple(set47))"
   ]
  },
  {
   "cell_type": "markdown",
   "id": "b7cfbf80-82ac-417d-a2ef-0113ae6afba4",
   "metadata": {},
   "source": [
    "### 38. Find the maximum value in a set.`"
   ]
  },
  {
   "cell_type": "code",
   "execution_count": 32,
   "id": "fb1ed6f3-b1e0-4130-b4f5-19c70362d4bb",
   "metadata": {},
   "outputs": [
    {
     "name": "stdin",
     "output_type": "stream",
     "text": [
      "Enter the elements of the set : 1 2 6 7 8 3 4 5\n"
     ]
    },
    {
     "name": "stdout",
     "output_type": "stream",
     "text": [
      "Maximum value in set48 is : 8\n"
     ]
    }
   ],
   "source": [
    "set48 = set(map(int,input(\"Enter the elements of the set :\").split()))\n",
    "max_set48 = max(set48)\n",
    "print(\"Maximum value in set48 is :\",max_set48)"
   ]
  },
  {
   "cell_type": "markdown",
   "id": "3badd224-3b03-4d62-8ded-f6aee4403706",
   "metadata": {},
   "source": [
    "### 39. Find the minimum value in a set."
   ]
  },
  {
   "cell_type": "code",
   "execution_count": 33,
   "id": "d04eea95-09e3-4709-b32b-783a2e2e9dae",
   "metadata": {},
   "outputs": [
    {
     "name": "stdin",
     "output_type": "stream",
     "text": [
      "Enter the elements of the set : 1 2 3 4 5 6 0\n"
     ]
    },
    {
     "name": "stdout",
     "output_type": "stream",
     "text": [
      "Minimum value in set49 is : 0\n"
     ]
    }
   ],
   "source": [
    "set49 = set(map(int,input(\"Enter the elements of the set :\").split()))\n",
    "min_set49 = min(set49)\n",
    "print(\"Minimum value in set49 is :\",min_set49)"
   ]
  },
  {
   "cell_type": "markdown",
   "id": "5bb742d2-1b21-44df-9416-d2f960b5acbe",
   "metadata": {},
   "source": [
    "### 40. Create a set from user input."
   ]
  },
  {
   "cell_type": "code",
   "execution_count": 34,
   "id": "30c2a459-2336-49c8-9ab4-257bdad8ef94",
   "metadata": {},
   "outputs": [
    {
     "name": "stdin",
     "output_type": "stream",
     "text": [
      "Enter the elements of the set : hello bro\n"
     ]
    },
    {
     "name": "stdout",
     "output_type": "stream",
     "text": [
      "User entered set is : {'hello', 'bro'}\n"
     ]
    }
   ],
   "source": [
    "set50 = set(input(\"Enter the elements of the set :\").split())\n",
    "print(\"User entered set is :\",set50)"
   ]
  },
  {
   "cell_type": "markdown",
   "id": "a9ddacaa-fada-4d20-9fc0-5f2a28c2ceed",
   "metadata": {},
   "source": [
    "### 41. Check if the intersection of two sets is empty."
   ]
  },
  {
   "cell_type": "code",
   "execution_count": 35,
   "id": "5cf90c37-44b9-4713-b0f6-f07d1a8a2214",
   "metadata": {},
   "outputs": [
    {
     "name": "stdin",
     "output_type": "stream",
     "text": [
      "Enter the elements of 1st set : 1 2 3 4 5\n",
      "Enter the elements of 2nd set : 3 4 5 6 7\n"
     ]
    },
    {
     "name": "stdout",
     "output_type": "stream",
     "text": [
      "Intersection of sets isn't empty.\n"
     ]
    }
   ],
   "source": [
    "set51 = set(map(int,input(\"Enter the elements of 1st set :\").split()))\n",
    "set52 = set(map(int,input(\"Enter the elements of 2nd set :\").split()))\n",
    "\n",
    "if not set51.intersection(set52) :\n",
    "    print(\"Intersection of set1 and set2 is empty.\")\n",
    "else :\n",
    "    print(\"Intersection of sets isn't empty.\")"
   ]
  },
  {
   "cell_type": "markdown",
   "id": "8cf90ed2-e80f-45b6-af01-c31cb8d98a7e",
   "metadata": {},
   "source": [
    "### 42. Create a set of the first 5 Fibonacci numbers"
   ]
  },
  {
   "cell_type": "code",
   "execution_count": 7,
   "id": "2001497c-3490-407b-b4f7-a9b3b3d1b223",
   "metadata": {},
   "outputs": [
    {
     "name": "stdout",
     "output_type": "stream",
     "text": [
      "Set of first five Fibonacci numbers is : {0, 1, 2, 3, 5}\n"
     ]
    }
   ],
   "source": [
    "set53 = set()\n",
    "a,b = 0,1\n",
    "\n",
    "for i in range(6) :\n",
    "    set53.add(a)\n",
    "    a,b = b,a+b\n",
    "print(\"Set of first five Fibonacci numbers is :\",set53)"
   ]
  },
  {
   "cell_type": "markdown",
   "id": "a57af587-019e-4080-ad62-8ea51e194f1c",
   "metadata": {},
   "source": [
    "### 43. Remove duplicates from a list using sets."
   ]
  },
  {
   "cell_type": "code",
   "execution_count": 8,
   "id": "cfa6e461-cc69-4162-81bd-627c1d8df071",
   "metadata": {},
   "outputs": [
    {
     "name": "stdout",
     "output_type": "stream",
     "text": [
      "List with removed duplicates is : [0, 1, 2, 3, 4, 5, 6, 7, 8, 9]\n"
     ]
    }
   ],
   "source": [
    "list85 = [1,2,3,4,5,1,2,7,8,9,6,0,1,5]\n",
    "list85 = list(set(list85))\n",
    "print(\"List with removed duplicates is :\",list85)"
   ]
  },
  {
   "cell_type": "markdown",
   "id": "3a1caf7f-7d3d-4ff2-8254-c366575e51c8",
   "metadata": {},
   "source": [
    "### 44. Check if two sets have the same elements, regardless of their count."
   ]
  },
  {
   "cell_type": "code",
   "execution_count": 9,
   "id": "2c445b9f-441d-46b7-bffa-70f87de95eda",
   "metadata": {},
   "outputs": [
    {
     "name": "stdout",
     "output_type": "stream",
     "text": [
      "Sets have the same elements\n"
     ]
    }
   ],
   "source": [
    "set54 = {1,2,3,4,5}\n",
    "set55 = {1,2,3,4,5,2,4,5,1,3,5,2,1,4,5,1}\n",
    "\n",
    "if set54 == set55 :\n",
    "    print(\"Sets have the same elements\")\n",
    "else :\n",
    "    print(\"Sets don't have the same elements\")"
   ]
  },
  {
   "cell_type": "markdown",
   "id": "6e4e6c39-015b-40fd-abdf-1411c748d60e",
   "metadata": {},
   "source": [
    "### 45. Create a set of the first `n` powers of 2."
   ]
  },
  {
   "cell_type": "code",
   "execution_count": 11,
   "id": "a602d9ae-2431-4096-9302-a97351188a6d",
   "metadata": {},
   "outputs": [
    {
     "name": "stdin",
     "output_type": "stream",
     "text": [
      "Enter the value of n : 5\n"
     ]
    },
    {
     "name": "stdout",
     "output_type": "stream",
     "text": [
      "Set of the first 5 powers of 2 is : {32, 2, 4, 8, 16}\n"
     ]
    }
   ],
   "source": [
    "n = int(input(\"Enter the value of n :\"))\n",
    "set56 = set(2**i for i in range(1,n+1))\n",
    "print(\"Set of the first\",n,\"powers of 2 is :\",set56)"
   ]
  },
  {
   "cell_type": "markdown",
   "id": "976754c5-2474-4236-8b24-217c884e643d",
   "metadata": {},
   "source": [
    "### 46. Find the common elements between a set and a list."
   ]
  },
  {
   "cell_type": "code",
   "execution_count": 12,
   "id": "212e69ad-4655-473c-9660-b766dbadb1ea",
   "metadata": {},
   "outputs": [
    {
     "name": "stdout",
     "output_type": "stream",
     "text": [
      "Common elements between set and a list are : {1, 2, 3, 4}\n"
     ]
    }
   ],
   "source": [
    "list86 = [1,2,3,4,5,6,7,8,9,0]\n",
    "set57 = {1,2,3,4}\n",
    "set58 = set()\n",
    "\n",
    "for i in set57 :\n",
    "    if i in list86 :\n",
    "        set58.add(i)\n",
    "        \n",
    "print(\"Common elements between set and a list are :\",set58)"
   ]
  },
  {
   "cell_type": "markdown",
   "id": "fd52d18e-52b3-4e9b-8be5-ab01c8942b80",
   "metadata": {},
   "source": [
    "### 47. Create a set of the first `n` triangular numbers."
   ]
  },
  {
   "cell_type": "code",
   "execution_count": 16,
   "id": "394c5e94-f7d1-4aa3-a91e-e0cc4608829a",
   "metadata": {},
   "outputs": [
    {
     "name": "stdin",
     "output_type": "stream",
     "text": [
      "Enter the value of n : 5\n"
     ]
    },
    {
     "name": "stdout",
     "output_type": "stream",
     "text": [
      "Set of the first 5 triangular numbers is : {1, 3, 6, 10, 15}\n"
     ]
    }
   ],
   "source": [
    "n = int(input(\"Enter the value of n :\"))\n",
    "set59 = set((n*(n+1))//2 for n in range(1,n+1))\n",
    "print(\"Set of the first\",n,\"triangular numbers is :\",set59)"
   ]
  },
  {
   "cell_type": "markdown",
   "id": "43fc8542-97e6-4dc9-96f7-d4cde69b0823",
   "metadata": {},
   "source": [
    "### 48. Check if a set contains another set as a subset."
   ]
  },
  {
   "cell_type": "code",
   "execution_count": 17,
   "id": "74191d6f-c156-4711-899c-4ab73aa4cd49",
   "metadata": {},
   "outputs": [
    {
     "name": "stdin",
     "output_type": "stream",
     "text": [
      "Enter the elements of 1st set : 1 2 3 4 5 6\n",
      "Enter the elements of 2nd set : 1 2 3\n"
     ]
    },
    {
     "name": "stdout",
     "output_type": "stream",
     "text": [
      "Set2 is subset of Set1.\n"
     ]
    }
   ],
   "source": [
    "set60 = set(input(\"Enter the elements of 1st set :\").split())\n",
    "set61 = set(input(\"Enter the elements of 2nd set :\").split())\n",
    "\n",
    "is_subset = set61.issubset(set60)\n",
    "\n",
    "if is_subset :\n",
    "    print(\"Set2 is subset of Set1.\")\n",
    "else :\n",
    "    print(\"Set2 isn't subset of Set1.\")"
   ]
  },
  {
   "cell_type": "markdown",
   "id": "7edd7fc0-163a-4b7d-b1d2-1c8a4cf6bba1",
   "metadata": {},
   "source": [
    "### 49. Create a set of alternating 1s and 0s of length `n`."
   ]
  },
  {
   "cell_type": "code",
   "execution_count": 20,
   "id": "78772e08-b5b9-490b-940b-ddff8a750be8",
   "metadata": {},
   "outputs": [
    {
     "name": "stdin",
     "output_type": "stream",
     "text": [
      "Enter the value of n : 5\n"
     ]
    },
    {
     "name": "stdout",
     "output_type": "stream",
     "text": [
      "Set of alternating 1s and 0s of length 5 is : {0, 1}\n"
     ]
    }
   ],
   "source": [
    "n = int(input(\"Enter the value of n :\"))\n",
    "set62 = set(i%2 for i in range(1,n+1))\n",
    "print(\"Set of alternating 1s and 0s of length\",n,\"is :\",set62)"
   ]
  },
  {
   "cell_type": "markdown",
   "id": "0f83196a-1b57-4c46-ac85-4f559c826c83",
   "metadata": {},
   "source": [
    "### 50. Merge multiple sets into one."
   ]
  },
  {
   "cell_type": "code",
   "execution_count": 24,
   "id": "414a8050-e1e1-4640-b2cf-f0450e273a6d",
   "metadata": {},
   "outputs": [
    {
     "name": "stdout",
     "output_type": "stream",
     "text": [
      "Merged Set is : {1, 2, 3, 4, 5, 6, 7, 8, 9}\n"
     ]
    }
   ],
   "source": [
    "set63 = {1,2,3}\n",
    "set64 = {4,5,6}\n",
    "set65 = {7,8,9}\n",
    "\n",
    "merged_set = set63.union(set64,set65)\n",
    "print(\"Merged Set is :\",merged_set)"
   ]
  }
 ],
 "metadata": {
  "kernelspec": {
   "display_name": "Python 3 (ipykernel)",
   "language": "python",
   "name": "python3"
  },
  "language_info": {
   "codemirror_mode": {
    "name": "ipython",
    "version": 3
   },
   "file_extension": ".py",
   "mimetype": "text/x-python",
   "name": "python",
   "nbconvert_exporter": "python",
   "pygments_lexer": "ipython3",
   "version": "3.10.8"
  }
 },
 "nbformat": 4,
 "nbformat_minor": 5
}
